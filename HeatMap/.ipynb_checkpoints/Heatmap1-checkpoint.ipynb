{
 "cells": [
  {
   "cell_type": "code",
   "execution_count": null,
   "metadata": {},
   "outputs": [],
   "source": [
    "from scipy.interpolate import interp1d\n",
    "import pandas as pd\n",
    "import plotly.express as px\n",
    "import numpy as np"
   ]
  },
  {
   "cell_type": "code",
   "execution_count": 27,
   "metadata": {},
   "outputs": [
    {
     "data": {
      "application/vnd.plotly.v1+json": {
       "config": {
        "plotlyServerURL": "https://plot.ly"
       },
       "data": [
        {
         "coloraxis": "coloraxis",
         "hovertemplate": "<b>%{hovertext}</b><br><br>Avg_Temp_Celsius=%{z}<br>Lat=%{lat}<br>Long=%{lon}<extra></extra>",
         "hovertext": [
          "Abilene",
          "Akron",
          "Albuquerque",
          "Alexandria",
          "Allentown",
          "Amarillo",
          "Anaheim",
          "Anchorage",
          "Ann Arbor",
          "Antioch",
          "Arlington",
          "Arlington",
          "Arvada",
          "Atlanta",
          "Aurora",
          "Aurora",
          "Austin",
          "Bakersfield",
          "Baltimore",
          "Baton Rouge",
          "Beaumont",
          "Bellevue",
          "Berkeley",
          "Birmingham",
          "Boston",
          "Bridgeport",
          "Brownsville",
          "Buffalo",
          "Burbank",
          "Cambridge",
          "Cape Coral",
          "Carrollton",
          "Cary",
          "Cedar Rapids",
          "Chandler",
          "Charleston",
          "Charlotte",
          "Chattanooga",
          "Chesapeake",
          "Chicago",
          "Chula Vista",
          "Cincinnati",
          "Clarksville",
          "Clearwater",
          "Cleveland",
          "Colorado Springs",
          "Columbia",
          "Columbus",
          "Columbus",
          "Concord",
          "Coral Springs",
          "Corona",
          "Corpus Christi",
          "Costa Mesa",
          "Dallas",
          "Dayton",
          "Denton",
          "Denver",
          "Des Moines",
          "Detroit",
          "Downey",
          "Durham",
          "East Los Angeles",
          "Edison",
          "El Monte",
          "El Paso",
          "Elizabeth",
          "Escondido",
          "Eugene",
          "Evansville",
          "Fairfield",
          "Fayetteville",
          "Flint",
          "Fontana",
          "Fort Collins",
          "Fort Lauderdale",
          "Fort Wayne",
          "Fort Worth",
          "Fremont",
          "Fresno",
          "Fullerton",
          "Gainesville",
          "Garden Grove",
          "Garland",
          "Gilbert",
          "Glendale",
          "Glendale",
          "Grand Prairie",
          "Grand Rapids",
          "Green Bay",
          "Greensboro",
          "Hampton",
          "Hartford",
          "Hayward",
          "Henderson",
          "Hialeah",
          "Highlands Ranch",
          "Hollywood",
          "Houston",
          "Huntington Beach",
          "Huntsville",
          "Independence",
          "Indianapolis",
          "Inglewood",
          "Irvine",
          "Irving",
          "Jackson",
          "Jacksonville",
          "Jersey City",
          "Joliet",
          "Kansas City",
          "Killeen",
          "Knoxville",
          "Lafayette",
          "Lakewood",
          "Lancaster",
          "Lansing",
          "Laredo",
          "Las Vegas",
          "Lexington Fayette",
          "Lincoln",
          "Little Rock",
          "Long Beach",
          "Los Angeles",
          "Louisville",
          "Lowell",
          "Lubbock",
          "Madison",
          "Manchester",
          "Memphis",
          "Mesa",
          "Mesquite",
          "Metairie",
          "Miami",
          "Milwaukee",
          "Minneapolis",
          "Miramar",
          "Mobile",
          "Modesto",
          "Montgomery",
          "Moreno Valley",
          "Naperville",
          "Nashville",
          "New Haven",
          "New Orleans",
          "New York",
          "Newark",
          "Newport News",
          "Nogales",
          "Norfolk",
          "Norman",
          "North Las Vegas",
          "Norwalk",
          "Nuevo Laredo",
          "Oakland",
          "Oceanside",
          "Oklahoma City",
          "Olathe",
          "Omaha",
          "Ontario",
          "Orange",
          "Orlando",
          "Overland Park",
          "Oxnard",
          "Palmdale",
          "Paradise",
          "Pasadena",
          "Pasadena",
          "Paterson",
          "Pembroke Pines",
          "Peoria",
          "Peoria",
          "Philadelphia",
          "Phoenix",
          "Pittsburgh",
          "Plano",
          "Pomona",
          "Port Saint Lucie",
          "Portland",
          "Providence",
          "Provo",
          "Pueblo",
          "Raleigh",
          "Rancho Cucamonga",
          "Reno",
          "Rialto",
          "Richardson",
          "Richmond",
          "Richmond",
          "Riverside",
          "Rochester",
          "Rockford",
          "Roseville",
          "Sacramento",
          "Saint Louis",
          "Saint Paul",
          "Saint Petersburg",
          "Salem",
          "Salinas",
          "Salt Lake City",
          "San Antonio",
          "San Bernardino",
          "San Diego",
          "San Francisco",
          "San Jose",
          "Santa Ana",
          "Santa Clara",
          "Santa Clarita",
          "Santa Rosa",
          "Savannah",
          "Scottsdale",
          "Seattle",
          "Shreveport",
          "Simi Valley",
          "Sioux Falls",
          "South Bend",
          "Spokane",
          "Spring Valley",
          "Springfield",
          "Springfield",
          "Springfield",
          "Stamford",
          "Sterling Heights",
          "Stockton",
          "Sunnyvale",
          "Sunrise Manor",
          "Syracuse",
          "Tacoma",
          "Tallahassee",
          "Tampa",
          "Tempe",
          "Thornton",
          "Thousand Oaks",
          "Toledo",
          "Toms River",
          "Topeka",
          "Torrance",
          "Tucson",
          "Tulsa",
          "Vallejo",
          "Vancouver",
          "Virginia Beach",
          "Visalia",
          "Waco",
          "Warren",
          "Washington",
          "Waterbury",
          "West Covina",
          "West Jordan",
          "West Valley City",
          "Westminster",
          "Wichita",
          "Wichita Falls",
          "Windsor",
          "Winston Salem",
          "Worcester",
          "Yonkers"
         ],
         "lat": [
          32.95,
          40.99,
          34.56,
          39.38,
          40.99,
          34.56,
          32.95,
          61.88,
          42.59,
          37.78,
          32.95,
          39.38,
          39.38,
          34.56,
          39.38,
          40.99,
          29.74,
          36.17,
          39.38,
          29.74,
          29.74,
          47.42,
          37.78,
          32.95,
          42.59,
          40.99,
          26.52,
          42.59,
          34.56,
          42.59,
          26.52,
          32.95,
          36.17,
          42.59,
          32.95,
          32.95,
          34.56,
          34.56,
          36.17,
          42.59,
          32.95,
          39.38,
          36.17,
          28.13,
          40.99,
          39.38,
          34.56,
          32.95,
          39.38,
          37.78,
          26.52,
          32.95,
          28.13,
          32.95,
          32.95,
          39.38,
          32.95,
          39.38,
          40.99,
          42.59,
          34.56,
          36.17,
          34.56,
          40.99,
          34.56,
          31.35,
          40.99,
          32.95,
          44.2,
          37.78,
          37.78,
          34.56,
          42.59,
          34.56,
          40.99,
          26.52,
          40.99,
          32.95,
          37.78,
          36.17,
          32.95,
          29.74,
          32.95,
          32.95,
          32.95,
          32.95,
          34.56,
          32.95,
          42.59,
          44.2,
          36.17,
          36.17,
          40.99,
          37.78,
          36.17,
          26.52,
          39.38,
          26.52,
          29.74,
          32.95,
          34.56,
          39.38,
          39.38,
          34.56,
          32.95,
          32.95,
          32.95,
          29.74,
          40.99,
          40.99,
          39.38,
          31.35,
          36.17,
          29.74,
          39.38,
          34.56,
          42.59,
          28.13,
          36.17,
          37.78,
          40.99,
          34.56,
          32.95,
          34.56,
          37.78,
          42.59,
          32.95,
          42.59,
          42.59,
          34.56,
          32.95,
          32.95,
          29.74,
          26.52,
          42.59,
          45.81,
          26.52,
          31.35,
          37.78,
          32.95,
          34.56,
          40.99,
          36.17,
          40.99,
          29.74,
          40.99,
          40.99,
          37.78,
          31.35,
          36.17,
          34.56,
          36.17,
          34.56,
          28.13,
          37.78,
          32.95,
          36.17,
          39.38,
          40.99,
          34.56,
          32.95,
          28.13,
          39.38,
          34.56,
          34.56,
          36.17,
          29.74,
          34.56,
          40.99,
          26.52,
          32.95,
          40.99,
          39.38,
          32.95,
          40.99,
          32.95,
          34.56,
          26.52,
          45.81,
          42.59,
          39.38,
          37.78,
          36.17,
          34.56,
          39.38,
          34.56,
          32.95,
          37.78,
          37.78,
          34.56,
          42.59,
          42.59,
          39.38,
          37.78,
          39.38,
          45.81,
          28.13,
          44.2,
          36.17,
          40.99,
          29.74,
          34.56,
          32.95,
          37.78,
          37.78,
          32.95,
          37.78,
          34.56,
          37.78,
          31.35,
          32.95,
          47.42,
          32.95,
          34.56,
          44.2,
          40.99,
          47.42,
          36.17,
          37.78,
          39.38,
          42.59,
          40.99,
          42.59,
          37.78,
          37.78,
          36.17,
          42.59,
          47.42,
          29.74,
          28.13,
          32.95,
          39.38,
          34.56,
          40.99,
          39.38,
          39.38,
          34.56,
          31.35,
          36.17,
          37.78,
          45.81,
          36.17,
          36.17,
          31.35,
          42.59,
          39.38,
          40.99,
          34.56,
          40.99,
          40.99,
          39.38,
          37.78,
          34.56,
          42.59,
          36.17,
          42.59,
          40.99
         ],
         "lon": [
          -100.53,
          -80.95,
          -107.03,
          -76.99,
          -74.56,
          -101.19,
          -117.77,
          -151.13,
          -82.91,
          -122.03,
          -96.7,
          -76.99,
          -106.13,
          -83.68,
          -104.05,
          -87.34,
          -97.85,
          -119.34,
          -76.99,
          -90.46,
          -94.15,
          -121.97,
          -122.03,
          -87.13,
          -72,
          -72.43,
          -96.72,
          -78.55,
          -118.7,
          -72,
          -82.39,
          -96.7,
          -79.56,
          -91.64,
          -112.02,
          -79.47,
          -81.73,
          -85.62,
          -75.58,
          -87.27,
          -117.77,
          -85.32,
          -87.51,
          -82.73,
          -80.95,
          -104.05,
          -81.73,
          -85.21,
          -83.24,
          -122.03,
          -80.6,
          -117.77,
          -97.27,
          -117.77,
          -96.7,
          -83.24,
          -96.7,
          -104.05,
          -93.73,
          -82.91,
          -118.7,
          -79.56,
          -118.7,
          -74.56,
          -118.7,
          -105.55,
          -74.56,
          -117.77,
          -122.98,
          -87.46,
          -122.03,
          -79.78,
          -82.91,
          -116.76,
          -104.38,
          -80.6,
          -85.21,
          -96.7,
          -122.03,
          -119.34,
          -117.77,
          -83.08,
          -117.77,
          -96.7,
          -112.02,
          -112.02,
          -118.7,
          -96.7,
          -85.09,
          -87.2,
          -79.56,
          -75.58,
          -72.43,
          -122.03,
          -115.36,
          -80.6,
          -104.05,
          -80.6,
          -96,
          -117.77,
          -85.62,
          -93.64,
          -85.32,
          -118.7,
          -117.77,
          -96.7,
          -90.96,
          -81.23,
          -74.56,
          -87.34,
          -93.64,
          -98.01,
          -83.54,
          -92.31,
          -104.05,
          -118.7,
          -85.09,
          -99.09,
          -115.36,
          -85.42,
          -95.86,
          -91.46,
          -117.77,
          -118.7,
          -85.42,
          -72,
          -102.45,
          -89.45,
          -72,
          -89.51,
          -112.02,
          -96.7,
          -90.46,
          -80.6,
          -87.27,
          -93.46,
          -80.6,
          -88.59,
          -120,
          -87.13,
          -116.76,
          -87.34,
          -87.51,
          -72.43,
          -90.46,
          -74.56,
          -74.56,
          -77.29,
          -111.2,
          -75.58,
          -97.3,
          -115.36,
          -118.7,
          -99.09,
          -122.03,
          -117.77,
          -97.46,
          -95.72,
          -95.86,
          -116.76,
          -117.77,
          -80.91,
          -93.64,
          -118.7,
          -118.7,
          -115.36,
          -96,
          -118.7,
          -74.56,
          -80.6,
          -112.02,
          -89.47,
          -74.91,
          -112.02,
          -80.95,
          -96.7,
          -118.7,
          -80.6,
          -123.46,
          -72,
          -112.37,
          -103.73,
          -79.56,
          -116.76,
          -120.69,
          -116.76,
          -96.7,
          -122.03,
          -77.29,
          -116.76,
          -78.55,
          -89.45,
          -120.69,
          -122.03,
          -89.48,
          -93.46,
          -82.73,
          -122.98,
          -121.33,
          -112.9,
          -97.85,
          -116.76,
          -117.77,
          -122.03,
          -122.03,
          -117.77,
          -122.03,
          -118.7,
          -122.03,
          -81.05,
          -112.02,
          -121.97,
          -92.87,
          -118.7,
          -96.15,
          -85.21,
          -117.24,
          -115.36,
          -93.56,
          -89.48,
          -72,
          -74.56,
          -82.91,
          -122.03,
          -122.03,
          -115.36,
          -76.36,
          -121.97,
          -84.92,
          -82.73,
          -112.02,
          -104.05,
          -118.7,
          -83.08,
          -74.91,
          -95.72,
          -118.7,
          -111.2,
          -95.47,
          -122.03,
          -123.46,
          -75.58,
          -119.34,
          -98.01,
          -82.91,
          -76.99,
          -72.43,
          -118.7,
          -112.9,
          -112.9,
          -104.05,
          -97.63,
          -99.24,
          -82.91,
          -79.56,
          -72,
          -74.56
         ],
         "name": "",
         "radius": 15,
         "subplot": "mapbox",
         "type": "densitymapbox",
         "z": [
          16.67541667,
          9.996,
          11.40116667,
          12.39041667,
          10.04091667,
          14.66425,
          16.85625,
          -0.016916667,
          8.671666667,
          14.96891667,
          17.81783333,
          12.39041667,
          2.202583333,
          14.77716667,
          8.183416667000001,
          9.948,
          19.72325,
          16.05716667,
          12.39041667,
          20.21266667,
          19.89933333,
          7.682416667000001,
          14.96891667,
          17.11816667,
          7.835916667,
          10.56575,
          22.69616667,
          7.922000000000001,
          16.36316667,
          7.835916667,
          23.40616667,
          17.81783333,
          14.91691667,
          7.758833332999999,
          21.20083333,
          18.995,
          16.40108333,
          15.23275,
          16.12191667,
          10.18375,
          16.85625,
          11.32775,
          14.35725,
          22.15183333,
          9.996,
          8.183416667000001,
          16.40108333,
          16.81183333,
          11.60183333,
          14.96891667,
          23.48883333,
          16.85625,
          21.46041667,
          16.85625,
          17.81783333,
          11.60183333,
          17.81783333,
          8.183416667000001,
          9.379083332999999,
          8.671666667,
          16.36316667,
          14.91691667,
          16.36316667,
          10.04091667,
          16.36316667,
          16.0685,
          10.04091667,
          16.85625,
          9.745583332999999,
          13.45875,
          14.96891667,
          16.92166667,
          8.671666667,
          17.16541667,
          7.4595,
          23.48883333,
          9.811666667,
          17.81783333,
          14.96891667,
          16.05716667,
          16.85625,
          20.31591667,
          16.85625,
          17.81783333,
          21.20083333,
          21.20083333,
          16.36316667,
          17.81783333,
          8.5035,
          7.24975,
          14.91691667,
          16.12191667,
          10.56575,
          14.96891667,
          17.31291667,
          23.48883333,
          8.183416667000001,
          23.48883333,
          20.1015,
          16.85625,
          15.23275,
          11.33583333,
          11.32775,
          16.36316667,
          16.85625,
          17.81783333,
          17.60691667,
          21.26808333,
          10.04091667,
          9.948,
          11.33583333,
          18.25858333,
          13.25491667,
          19.95058333,
          8.183416667000001,
          16.36316667,
          8.5035,
          21.79833333,
          17.31291667,
          13.1065,
          9.28575,
          16.27266667,
          16.85625,
          16.36316667,
          13.1065,
          7.835916667,
          15.6105,
          8.046666667,
          7.835916667,
          16.08783333,
          21.20083333,
          17.81783333,
          20.21266667,
          23.48883333,
          10.18375,
          4.79725,
          23.48883333,
          18.31375,
          12.40183333,
          17.11816667,
          17.16541667,
          9.948,
          14.35725,
          10.56575,
          20.21266667,
          10.04091667,
          10.04091667,
          14.19658333,
          17.99066667,
          16.12191667,
          16.16841667,
          17.31291667,
          16.36316667,
          21.79833333,
          14.96891667,
          16.85625,
          14.73466667,
          11.12175,
          9.28575,
          17.16541667,
          16.85625,
          22.54825,
          11.33583333,
          16.36316667,
          16.36316667,
          17.31291667,
          20.1015,
          16.36316667,
          10.04091667,
          23.48883333,
          21.20083333,
          9.854666667,
          12.44733333,
          21.20083333,
          9.996,
          17.81783333,
          16.36316667,
          23.48883333,
          9.9005,
          7.835916667,
          8.465083332999999,
          10.31516667,
          14.91691667,
          17.16541667,
          11.14475,
          17.16541667,
          17.81783333,
          14.96891667,
          14.19658333,
          17.16541667,
          7.922000000000001,
          8.046666667,
          11.14475,
          14.96891667,
          11.65183333,
          4.79725,
          22.15183333,
          9.745583332999999,
          15.02958333,
          9.053416667,
          19.72325,
          17.16541667,
          16.85625,
          14.96891667,
          14.96891667,
          16.85625,
          14.96891667,
          16.36316667,
          14.96891667,
          19.68708333,
          21.20083333,
          7.682416667000001,
          17.37375,
          16.36316667,
          5.604666667,
          9.811666667,
          7.23325,
          17.31291667,
          12.51516667,
          11.65183333,
          7.835916667,
          10.04091667,
          8.671666667,
          14.96891667,
          14.96891667,
          17.31291667,
          7.7645,
          7.682416667000001,
          20.06758333,
          22.15183333,
          21.20083333,
          8.183416667000001,
          16.36316667,
          9.812000000000001,
          12.44733333,
          11.12175,
          16.36316667,
          17.99066667,
          14.68341667,
          14.96891667,
          9.9005,
          16.12191667,
          16.05716667,
          18.25858333,
          8.671666667,
          12.39041667,
          10.56575,
          16.36316667,
          9.053416667,
          9.053416667,
          8.183416667000001,
          12.55033333,
          16.02933333,
          8.671666667,
          14.91691667,
          7.835916667,
          10.04091667
         ]
        }
       ],
       "layout": {
        "coloraxis": {
         "colorbar": {
          "title": {
           "text": "Avg_Temp_Celsius"
          }
         },
         "colorscale": [
          [
           0,
           "#0d0887"
          ],
          [
           0.1111111111111111,
           "#46039f"
          ],
          [
           0.2222222222222222,
           "#7201a8"
          ],
          [
           0.3333333333333333,
           "#9c179e"
          ],
          [
           0.4444444444444444,
           "#bd3786"
          ],
          [
           0.5555555555555556,
           "#d8576b"
          ],
          [
           0.6666666666666666,
           "#ed7953"
          ],
          [
           0.7777777777777778,
           "#fb9f3a"
          ],
          [
           0.8888888888888888,
           "#fdca26"
          ],
          [
           1,
           "#f0f921"
          ]
         ]
        },
        "legend": {
         "tracegroupgap": 0
        },
        "mapbox": {
         "center": {
          "lat": 37.78,
          "lon": -97.63
         },
         "domain": {
          "x": [
           0,
           1
          ],
          "y": [
           0,
           1
          ]
         },
         "style": "stamen-terrain",
         "zoom": 3
        },
        "template": {
         "data": {
          "bar": [
           {
            "error_x": {
             "color": "#2a3f5f"
            },
            "error_y": {
             "color": "#2a3f5f"
            },
            "marker": {
             "line": {
              "color": "#E5ECF6",
              "width": 0.5
             }
            },
            "type": "bar"
           }
          ],
          "barpolar": [
           {
            "marker": {
             "line": {
              "color": "#E5ECF6",
              "width": 0.5
             }
            },
            "type": "barpolar"
           }
          ],
          "carpet": [
           {
            "aaxis": {
             "endlinecolor": "#2a3f5f",
             "gridcolor": "white",
             "linecolor": "white",
             "minorgridcolor": "white",
             "startlinecolor": "#2a3f5f"
            },
            "baxis": {
             "endlinecolor": "#2a3f5f",
             "gridcolor": "white",
             "linecolor": "white",
             "minorgridcolor": "white",
             "startlinecolor": "#2a3f5f"
            },
            "type": "carpet"
           }
          ],
          "choropleth": [
           {
            "colorbar": {
             "outlinewidth": 0,
             "ticks": ""
            },
            "type": "choropleth"
           }
          ],
          "contour": [
           {
            "colorbar": {
             "outlinewidth": 0,
             "ticks": ""
            },
            "colorscale": [
             [
              0,
              "#0d0887"
             ],
             [
              0.1111111111111111,
              "#46039f"
             ],
             [
              0.2222222222222222,
              "#7201a8"
             ],
             [
              0.3333333333333333,
              "#9c179e"
             ],
             [
              0.4444444444444444,
              "#bd3786"
             ],
             [
              0.5555555555555556,
              "#d8576b"
             ],
             [
              0.6666666666666666,
              "#ed7953"
             ],
             [
              0.7777777777777778,
              "#fb9f3a"
             ],
             [
              0.8888888888888888,
              "#fdca26"
             ],
             [
              1,
              "#f0f921"
             ]
            ],
            "type": "contour"
           }
          ],
          "contourcarpet": [
           {
            "colorbar": {
             "outlinewidth": 0,
             "ticks": ""
            },
            "type": "contourcarpet"
           }
          ],
          "heatmap": [
           {
            "colorbar": {
             "outlinewidth": 0,
             "ticks": ""
            },
            "colorscale": [
             [
              0,
              "#0d0887"
             ],
             [
              0.1111111111111111,
              "#46039f"
             ],
             [
              0.2222222222222222,
              "#7201a8"
             ],
             [
              0.3333333333333333,
              "#9c179e"
             ],
             [
              0.4444444444444444,
              "#bd3786"
             ],
             [
              0.5555555555555556,
              "#d8576b"
             ],
             [
              0.6666666666666666,
              "#ed7953"
             ],
             [
              0.7777777777777778,
              "#fb9f3a"
             ],
             [
              0.8888888888888888,
              "#fdca26"
             ],
             [
              1,
              "#f0f921"
             ]
            ],
            "type": "heatmap"
           }
          ],
          "heatmapgl": [
           {
            "colorbar": {
             "outlinewidth": 0,
             "ticks": ""
            },
            "colorscale": [
             [
              0,
              "#0d0887"
             ],
             [
              0.1111111111111111,
              "#46039f"
             ],
             [
              0.2222222222222222,
              "#7201a8"
             ],
             [
              0.3333333333333333,
              "#9c179e"
             ],
             [
              0.4444444444444444,
              "#bd3786"
             ],
             [
              0.5555555555555556,
              "#d8576b"
             ],
             [
              0.6666666666666666,
              "#ed7953"
             ],
             [
              0.7777777777777778,
              "#fb9f3a"
             ],
             [
              0.8888888888888888,
              "#fdca26"
             ],
             [
              1,
              "#f0f921"
             ]
            ],
            "type": "heatmapgl"
           }
          ],
          "histogram": [
           {
            "marker": {
             "colorbar": {
              "outlinewidth": 0,
              "ticks": ""
             }
            },
            "type": "histogram"
           }
          ],
          "histogram2d": [
           {
            "colorbar": {
             "outlinewidth": 0,
             "ticks": ""
            },
            "colorscale": [
             [
              0,
              "#0d0887"
             ],
             [
              0.1111111111111111,
              "#46039f"
             ],
             [
              0.2222222222222222,
              "#7201a8"
             ],
             [
              0.3333333333333333,
              "#9c179e"
             ],
             [
              0.4444444444444444,
              "#bd3786"
             ],
             [
              0.5555555555555556,
              "#d8576b"
             ],
             [
              0.6666666666666666,
              "#ed7953"
             ],
             [
              0.7777777777777778,
              "#fb9f3a"
             ],
             [
              0.8888888888888888,
              "#fdca26"
             ],
             [
              1,
              "#f0f921"
             ]
            ],
            "type": "histogram2d"
           }
          ],
          "histogram2dcontour": [
           {
            "colorbar": {
             "outlinewidth": 0,
             "ticks": ""
            },
            "colorscale": [
             [
              0,
              "#0d0887"
             ],
             [
              0.1111111111111111,
              "#46039f"
             ],
             [
              0.2222222222222222,
              "#7201a8"
             ],
             [
              0.3333333333333333,
              "#9c179e"
             ],
             [
              0.4444444444444444,
              "#bd3786"
             ],
             [
              0.5555555555555556,
              "#d8576b"
             ],
             [
              0.6666666666666666,
              "#ed7953"
             ],
             [
              0.7777777777777778,
              "#fb9f3a"
             ],
             [
              0.8888888888888888,
              "#fdca26"
             ],
             [
              1,
              "#f0f921"
             ]
            ],
            "type": "histogram2dcontour"
           }
          ],
          "mesh3d": [
           {
            "colorbar": {
             "outlinewidth": 0,
             "ticks": ""
            },
            "type": "mesh3d"
           }
          ],
          "parcoords": [
           {
            "line": {
             "colorbar": {
              "outlinewidth": 0,
              "ticks": ""
             }
            },
            "type": "parcoords"
           }
          ],
          "pie": [
           {
            "automargin": true,
            "type": "pie"
           }
          ],
          "scatter": [
           {
            "marker": {
             "colorbar": {
              "outlinewidth": 0,
              "ticks": ""
             }
            },
            "type": "scatter"
           }
          ],
          "scatter3d": [
           {
            "line": {
             "colorbar": {
              "outlinewidth": 0,
              "ticks": ""
             }
            },
            "marker": {
             "colorbar": {
              "outlinewidth": 0,
              "ticks": ""
             }
            },
            "type": "scatter3d"
           }
          ],
          "scattercarpet": [
           {
            "marker": {
             "colorbar": {
              "outlinewidth": 0,
              "ticks": ""
             }
            },
            "type": "scattercarpet"
           }
          ],
          "scattergeo": [
           {
            "marker": {
             "colorbar": {
              "outlinewidth": 0,
              "ticks": ""
             }
            },
            "type": "scattergeo"
           }
          ],
          "scattergl": [
           {
            "marker": {
             "colorbar": {
              "outlinewidth": 0,
              "ticks": ""
             }
            },
            "type": "scattergl"
           }
          ],
          "scattermapbox": [
           {
            "marker": {
             "colorbar": {
              "outlinewidth": 0,
              "ticks": ""
             }
            },
            "type": "scattermapbox"
           }
          ],
          "scatterpolar": [
           {
            "marker": {
             "colorbar": {
              "outlinewidth": 0,
              "ticks": ""
             }
            },
            "type": "scatterpolar"
           }
          ],
          "scatterpolargl": [
           {
            "marker": {
             "colorbar": {
              "outlinewidth": 0,
              "ticks": ""
             }
            },
            "type": "scatterpolargl"
           }
          ],
          "scatterternary": [
           {
            "marker": {
             "colorbar": {
              "outlinewidth": 0,
              "ticks": ""
             }
            },
            "type": "scatterternary"
           }
          ],
          "surface": [
           {
            "colorbar": {
             "outlinewidth": 0,
             "ticks": ""
            },
            "colorscale": [
             [
              0,
              "#0d0887"
             ],
             [
              0.1111111111111111,
              "#46039f"
             ],
             [
              0.2222222222222222,
              "#7201a8"
             ],
             [
              0.3333333333333333,
              "#9c179e"
             ],
             [
              0.4444444444444444,
              "#bd3786"
             ],
             [
              0.5555555555555556,
              "#d8576b"
             ],
             [
              0.6666666666666666,
              "#ed7953"
             ],
             [
              0.7777777777777778,
              "#fb9f3a"
             ],
             [
              0.8888888888888888,
              "#fdca26"
             ],
             [
              1,
              "#f0f921"
             ]
            ],
            "type": "surface"
           }
          ],
          "table": [
           {
            "cells": {
             "fill": {
              "color": "#EBF0F8"
             },
             "line": {
              "color": "white"
             }
            },
            "header": {
             "fill": {
              "color": "#C8D4E3"
             },
             "line": {
              "color": "white"
             }
            },
            "type": "table"
           }
          ]
         },
         "layout": {
          "annotationdefaults": {
           "arrowcolor": "#2a3f5f",
           "arrowhead": 0,
           "arrowwidth": 1
          },
          "autotypenumbers": "strict",
          "coloraxis": {
           "colorbar": {
            "outlinewidth": 0,
            "ticks": ""
           }
          },
          "colorscale": {
           "diverging": [
            [
             0,
             "#8e0152"
            ],
            [
             0.1,
             "#c51b7d"
            ],
            [
             0.2,
             "#de77ae"
            ],
            [
             0.3,
             "#f1b6da"
            ],
            [
             0.4,
             "#fde0ef"
            ],
            [
             0.5,
             "#f7f7f7"
            ],
            [
             0.6,
             "#e6f5d0"
            ],
            [
             0.7,
             "#b8e186"
            ],
            [
             0.8,
             "#7fbc41"
            ],
            [
             0.9,
             "#4d9221"
            ],
            [
             1,
             "#276419"
            ]
           ],
           "sequential": [
            [
             0,
             "#0d0887"
            ],
            [
             0.1111111111111111,
             "#46039f"
            ],
            [
             0.2222222222222222,
             "#7201a8"
            ],
            [
             0.3333333333333333,
             "#9c179e"
            ],
            [
             0.4444444444444444,
             "#bd3786"
            ],
            [
             0.5555555555555556,
             "#d8576b"
            ],
            [
             0.6666666666666666,
             "#ed7953"
            ],
            [
             0.7777777777777778,
             "#fb9f3a"
            ],
            [
             0.8888888888888888,
             "#fdca26"
            ],
            [
             1,
             "#f0f921"
            ]
           ],
           "sequentialminus": [
            [
             0,
             "#0d0887"
            ],
            [
             0.1111111111111111,
             "#46039f"
            ],
            [
             0.2222222222222222,
             "#7201a8"
            ],
            [
             0.3333333333333333,
             "#9c179e"
            ],
            [
             0.4444444444444444,
             "#bd3786"
            ],
            [
             0.5555555555555556,
             "#d8576b"
            ],
            [
             0.6666666666666666,
             "#ed7953"
            ],
            [
             0.7777777777777778,
             "#fb9f3a"
            ],
            [
             0.8888888888888888,
             "#fdca26"
            ],
            [
             1,
             "#f0f921"
            ]
           ]
          },
          "colorway": [
           "#636efa",
           "#EF553B",
           "#00cc96",
           "#ab63fa",
           "#FFA15A",
           "#19d3f3",
           "#FF6692",
           "#B6E880",
           "#FF97FF",
           "#FECB52"
          ],
          "font": {
           "color": "#2a3f5f"
          },
          "geo": {
           "bgcolor": "white",
           "lakecolor": "white",
           "landcolor": "#E5ECF6",
           "showlakes": true,
           "showland": true,
           "subunitcolor": "white"
          },
          "hoverlabel": {
           "align": "left"
          },
          "hovermode": "closest",
          "mapbox": {
           "style": "light"
          },
          "paper_bgcolor": "white",
          "plot_bgcolor": "#E5ECF6",
          "polar": {
           "angularaxis": {
            "gridcolor": "white",
            "linecolor": "white",
            "ticks": ""
           },
           "bgcolor": "#E5ECF6",
           "radialaxis": {
            "gridcolor": "white",
            "linecolor": "white",
            "ticks": ""
           }
          },
          "scene": {
           "xaxis": {
            "backgroundcolor": "#E5ECF6",
            "gridcolor": "white",
            "gridwidth": 2,
            "linecolor": "white",
            "showbackground": true,
            "ticks": "",
            "zerolinecolor": "white"
           },
           "yaxis": {
            "backgroundcolor": "#E5ECF6",
            "gridcolor": "white",
            "gridwidth": 2,
            "linecolor": "white",
            "showbackground": true,
            "ticks": "",
            "zerolinecolor": "white"
           },
           "zaxis": {
            "backgroundcolor": "#E5ECF6",
            "gridcolor": "white",
            "gridwidth": 2,
            "linecolor": "white",
            "showbackground": true,
            "ticks": "",
            "zerolinecolor": "white"
           }
          },
          "shapedefaults": {
           "line": {
            "color": "#2a3f5f"
           }
          },
          "ternary": {
           "aaxis": {
            "gridcolor": "white",
            "linecolor": "white",
            "ticks": ""
           },
           "baxis": {
            "gridcolor": "white",
            "linecolor": "white",
            "ticks": ""
           },
           "bgcolor": "#E5ECF6",
           "caxis": {
            "gridcolor": "white",
            "linecolor": "white",
            "ticks": ""
           }
          },
          "title": {
           "x": 0.05
          },
          "xaxis": {
           "automargin": true,
           "gridcolor": "white",
           "linecolor": "white",
           "ticks": "",
           "title": {
            "standoff": 15
           },
           "zerolinecolor": "white",
           "zerolinewidth": 2
          },
          "yaxis": {
           "automargin": true,
           "gridcolor": "white",
           "linecolor": "white",
           "ticks": "",
           "title": {
            "standoff": 15
           },
           "zerolinecolor": "white",
           "zerolinewidth": 2
          }
         }
        },
        "title": {
         "text": "1993"
        }
       }
      },
      "text/html": [
       "<div>                            <div id=\"07709be9-e6a2-46fb-ac39-60b14653dd67\" class=\"plotly-graph-div\" style=\"height:525px; width:100%;\"></div>            <script type=\"text/javascript\">                require([\"plotly\"], function(Plotly) {                    window.PLOTLYENV=window.PLOTLYENV || {};                                    if (document.getElementById(\"07709be9-e6a2-46fb-ac39-60b14653dd67\")) {                    Plotly.newPlot(                        \"07709be9-e6a2-46fb-ac39-60b14653dd67\",                        [{\"coloraxis\": \"coloraxis\", \"hovertemplate\": \"<b>%{hovertext}</b><br><br>Avg_Temp_Celsius=%{z}<br>Lat=%{lat}<br>Long=%{lon}<extra></extra>\", \"hovertext\": [\"Abilene\", \"Akron\", \"Albuquerque\", \"Alexandria\", \"Allentown\", \"Amarillo\", \"Anaheim\", \"Anchorage\", \"Ann Arbor\", \"Antioch\", \"Arlington\", \"Arlington\", \"Arvada\", \"Atlanta\", \"Aurora\", \"Aurora\", \"Austin\", \"Bakersfield\", \"Baltimore\", \"Baton Rouge\", \"Beaumont\", \"Bellevue\", \"Berkeley\", \"Birmingham\", \"Boston\", \"Bridgeport\", \"Brownsville\", \"Buffalo\", \"Burbank\", \"Cambridge\", \"Cape Coral\", \"Carrollton\", \"Cary\", \"Cedar Rapids\", \"Chandler\", \"Charleston\", \"Charlotte\", \"Chattanooga\", \"Chesapeake\", \"Chicago\", \"Chula Vista\", \"Cincinnati\", \"Clarksville\", \"Clearwater\", \"Cleveland\", \"Colorado Springs\", \"Columbia\", \"Columbus\", \"Columbus\", \"Concord\", \"Coral Springs\", \"Corona\", \"Corpus Christi\", \"Costa Mesa\", \"Dallas\", \"Dayton\", \"Denton\", \"Denver\", \"Des Moines\", \"Detroit\", \"Downey\", \"Durham\", \"East Los Angeles\", \"Edison\", \"El Monte\", \"El Paso\", \"Elizabeth\", \"Escondido\", \"Eugene\", \"Evansville\", \"Fairfield\", \"Fayetteville\", \"Flint\", \"Fontana\", \"Fort Collins\", \"Fort Lauderdale\", \"Fort Wayne\", \"Fort Worth\", \"Fremont\", \"Fresno\", \"Fullerton\", \"Gainesville\", \"Garden Grove\", \"Garland\", \"Gilbert\", \"Glendale\", \"Glendale\", \"Grand Prairie\", \"Grand Rapids\", \"Green Bay\", \"Greensboro\", \"Hampton\", \"Hartford\", \"Hayward\", \"Henderson\", \"Hialeah\", \"Highlands Ranch\", \"Hollywood\", \"Houston\", \"Huntington Beach\", \"Huntsville\", \"Independence\", \"Indianapolis\", \"Inglewood\", \"Irvine\", \"Irving\", \"Jackson\", \"Jacksonville\", \"Jersey City\", \"Joliet\", \"Kansas City\", \"Killeen\", \"Knoxville\", \"Lafayette\", \"Lakewood\", \"Lancaster\", \"Lansing\", \"Laredo\", \"Las Vegas\", \"Lexington Fayette\", \"Lincoln\", \"Little Rock\", \"Long Beach\", \"Los Angeles\", \"Louisville\", \"Lowell\", \"Lubbock\", \"Madison\", \"Manchester\", \"Memphis\", \"Mesa\", \"Mesquite\", \"Metairie\", \"Miami\", \"Milwaukee\", \"Minneapolis\", \"Miramar\", \"Mobile\", \"Modesto\", \"Montgomery\", \"Moreno Valley\", \"Naperville\", \"Nashville\", \"New Haven\", \"New Orleans\", \"New York\", \"Newark\", \"Newport News\", \"Nogales\", \"Norfolk\", \"Norman\", \"North Las Vegas\", \"Norwalk\", \"Nuevo Laredo\", \"Oakland\", \"Oceanside\", \"Oklahoma City\", \"Olathe\", \"Omaha\", \"Ontario\", \"Orange\", \"Orlando\", \"Overland Park\", \"Oxnard\", \"Palmdale\", \"Paradise\", \"Pasadena\", \"Pasadena\", \"Paterson\", \"Pembroke Pines\", \"Peoria\", \"Peoria\", \"Philadelphia\", \"Phoenix\", \"Pittsburgh\", \"Plano\", \"Pomona\", \"Port Saint Lucie\", \"Portland\", \"Providence\", \"Provo\", \"Pueblo\", \"Raleigh\", \"Rancho Cucamonga\", \"Reno\", \"Rialto\", \"Richardson\", \"Richmond\", \"Richmond\", \"Riverside\", \"Rochester\", \"Rockford\", \"Roseville\", \"Sacramento\", \"Saint Louis\", \"Saint Paul\", \"Saint Petersburg\", \"Salem\", \"Salinas\", \"Salt Lake City\", \"San Antonio\", \"San Bernardino\", \"San Diego\", \"San Francisco\", \"San Jose\", \"Santa Ana\", \"Santa Clara\", \"Santa Clarita\", \"Santa Rosa\", \"Savannah\", \"Scottsdale\", \"Seattle\", \"Shreveport\", \"Simi Valley\", \"Sioux Falls\", \"South Bend\", \"Spokane\", \"Spring Valley\", \"Springfield\", \"Springfield\", \"Springfield\", \"Stamford\", \"Sterling Heights\", \"Stockton\", \"Sunnyvale\", \"Sunrise Manor\", \"Syracuse\", \"Tacoma\", \"Tallahassee\", \"Tampa\", \"Tempe\", \"Thornton\", \"Thousand Oaks\", \"Toledo\", \"Toms River\", \"Topeka\", \"Torrance\", \"Tucson\", \"Tulsa\", \"Vallejo\", \"Vancouver\", \"Virginia Beach\", \"Visalia\", \"Waco\", \"Warren\", \"Washington\", \"Waterbury\", \"West Covina\", \"West Jordan\", \"West Valley City\", \"Westminster\", \"Wichita\", \"Wichita Falls\", \"Windsor\", \"Winston Salem\", \"Worcester\", \"Yonkers\"], \"lat\": [32.95, 40.99, 34.56, 39.38, 40.99, 34.56, 32.95, 61.88, 42.59, 37.78, 32.95, 39.38, 39.38, 34.56, 39.38, 40.99, 29.74, 36.17, 39.38, 29.74, 29.74, 47.42, 37.78, 32.95, 42.59, 40.99, 26.52, 42.59, 34.56, 42.59, 26.52, 32.95, 36.17, 42.59, 32.95, 32.95, 34.56, 34.56, 36.17, 42.59, 32.95, 39.38, 36.17, 28.13, 40.99, 39.38, 34.56, 32.95, 39.38, 37.78, 26.52, 32.95, 28.13, 32.95, 32.95, 39.38, 32.95, 39.38, 40.99, 42.59, 34.56, 36.17, 34.56, 40.99, 34.56, 31.35, 40.99, 32.95, 44.2, 37.78, 37.78, 34.56, 42.59, 34.56, 40.99, 26.52, 40.99, 32.95, 37.78, 36.17, 32.95, 29.74, 32.95, 32.95, 32.95, 32.95, 34.56, 32.95, 42.59, 44.2, 36.17, 36.17, 40.99, 37.78, 36.17, 26.52, 39.38, 26.52, 29.74, 32.95, 34.56, 39.38, 39.38, 34.56, 32.95, 32.95, 32.95, 29.74, 40.99, 40.99, 39.38, 31.35, 36.17, 29.74, 39.38, 34.56, 42.59, 28.13, 36.17, 37.78, 40.99, 34.56, 32.95, 34.56, 37.78, 42.59, 32.95, 42.59, 42.59, 34.56, 32.95, 32.95, 29.74, 26.52, 42.59, 45.81, 26.52, 31.35, 37.78, 32.95, 34.56, 40.99, 36.17, 40.99, 29.74, 40.99, 40.99, 37.78, 31.35, 36.17, 34.56, 36.17, 34.56, 28.13, 37.78, 32.95, 36.17, 39.38, 40.99, 34.56, 32.95, 28.13, 39.38, 34.56, 34.56, 36.17, 29.74, 34.56, 40.99, 26.52, 32.95, 40.99, 39.38, 32.95, 40.99, 32.95, 34.56, 26.52, 45.81, 42.59, 39.38, 37.78, 36.17, 34.56, 39.38, 34.56, 32.95, 37.78, 37.78, 34.56, 42.59, 42.59, 39.38, 37.78, 39.38, 45.81, 28.13, 44.2, 36.17, 40.99, 29.74, 34.56, 32.95, 37.78, 37.78, 32.95, 37.78, 34.56, 37.78, 31.35, 32.95, 47.42, 32.95, 34.56, 44.2, 40.99, 47.42, 36.17, 37.78, 39.38, 42.59, 40.99, 42.59, 37.78, 37.78, 36.17, 42.59, 47.42, 29.74, 28.13, 32.95, 39.38, 34.56, 40.99, 39.38, 39.38, 34.56, 31.35, 36.17, 37.78, 45.81, 36.17, 36.17, 31.35, 42.59, 39.38, 40.99, 34.56, 40.99, 40.99, 39.38, 37.78, 34.56, 42.59, 36.17, 42.59, 40.99], \"lon\": [-100.53, -80.95, -107.03, -76.99, -74.56, -101.19, -117.77, -151.13, -82.91, -122.03, -96.7, -76.99, -106.13, -83.68, -104.05, -87.34, -97.85, -119.34, -76.99, -90.46, -94.15, -121.97, -122.03, -87.13, -72.0, -72.43, -96.72, -78.55, -118.7, -72.0, -82.39, -96.7, -79.56, -91.64, -112.02, -79.47, -81.73, -85.62, -75.58, -87.27, -117.77, -85.32, -87.51, -82.73, -80.95, -104.05, -81.73, -85.21, -83.24, -122.03, -80.6, -117.77, -97.27, -117.77, -96.7, -83.24, -96.7, -104.05, -93.73, -82.91, -118.7, -79.56, -118.7, -74.56, -118.7, -105.55, -74.56, -117.77, -122.98, -87.46, -122.03, -79.78, -82.91, -116.76, -104.38, -80.6, -85.21, -96.7, -122.03, -119.34, -117.77, -83.08, -117.77, -96.7, -112.02, -112.02, -118.7, -96.7, -85.09, -87.2, -79.56, -75.58, -72.43, -122.03, -115.36, -80.6, -104.05, -80.6, -96.0, -117.77, -85.62, -93.64, -85.32, -118.7, -117.77, -96.7, -90.96, -81.23, -74.56, -87.34, -93.64, -98.01, -83.54, -92.31, -104.05, -118.7, -85.09, -99.09, -115.36, -85.42, -95.86, -91.46, -117.77, -118.7, -85.42, -72.0, -102.45, -89.45, -72.0, -89.51, -112.02, -96.7, -90.46, -80.6, -87.27, -93.46, -80.6, -88.59, -120.0, -87.13, -116.76, -87.34, -87.51, -72.43, -90.46, -74.56, -74.56, -77.29, -111.2, -75.58, -97.3, -115.36, -118.7, -99.09, -122.03, -117.77, -97.46, -95.72, -95.86, -116.76, -117.77, -80.91, -93.64, -118.7, -118.7, -115.36, -96.0, -118.7, -74.56, -80.6, -112.02, -89.47, -74.91, -112.02, -80.95, -96.7, -118.7, -80.6, -123.46, -72.0, -112.37, -103.73, -79.56, -116.76, -120.69, -116.76, -96.7, -122.03, -77.29, -116.76, -78.55, -89.45, -120.69, -122.03, -89.48, -93.46, -82.73, -122.98, -121.33, -112.9, -97.85, -116.76, -117.77, -122.03, -122.03, -117.77, -122.03, -118.7, -122.03, -81.05, -112.02, -121.97, -92.87, -118.7, -96.15, -85.21, -117.24, -115.36, -93.56, -89.48, -72.0, -74.56, -82.91, -122.03, -122.03, -115.36, -76.36, -121.97, -84.92, -82.73, -112.02, -104.05, -118.7, -83.08, -74.91, -95.72, -118.7, -111.2, -95.47, -122.03, -123.46, -75.58, -119.34, -98.01, -82.91, -76.99, -72.43, -118.7, -112.9, -112.9, -104.05, -97.63, -99.24, -82.91, -79.56, -72.0, -74.56], \"name\": \"\", \"radius\": 15, \"subplot\": \"mapbox\", \"type\": \"densitymapbox\", \"z\": [16.67541667, 9.996, 11.40116667, 12.39041667, 10.04091667, 14.66425, 16.85625, -0.016916667, 8.671666667, 14.96891667, 17.81783333, 12.39041667, 2.202583333, 14.77716667, 8.183416667000001, 9.948, 19.72325, 16.05716667, 12.39041667, 20.21266667, 19.89933333, 7.682416667000001, 14.96891667, 17.11816667, 7.835916667, 10.56575, 22.69616667, 7.922000000000001, 16.36316667, 7.835916667, 23.40616667, 17.81783333, 14.91691667, 7.758833332999999, 21.20083333, 18.995, 16.40108333, 15.23275, 16.12191667, 10.18375, 16.85625, 11.32775, 14.35725, 22.15183333, 9.996, 8.183416667000001, 16.40108333, 16.81183333, 11.60183333, 14.96891667, 23.48883333, 16.85625, 21.46041667, 16.85625, 17.81783333, 11.60183333, 17.81783333, 8.183416667000001, 9.379083332999999, 8.671666667, 16.36316667, 14.91691667, 16.36316667, 10.04091667, 16.36316667, 16.0685, 10.04091667, 16.85625, 9.745583332999999, 13.45875, 14.96891667, 16.92166667, 8.671666667, 17.16541667, 7.4595, 23.48883333, 9.811666667, 17.81783333, 14.96891667, 16.05716667, 16.85625, 20.31591667, 16.85625, 17.81783333, 21.20083333, 21.20083333, 16.36316667, 17.81783333, 8.5035, 7.24975, 14.91691667, 16.12191667, 10.56575, 14.96891667, 17.31291667, 23.48883333, 8.183416667000001, 23.48883333, 20.1015, 16.85625, 15.23275, 11.33583333, 11.32775, 16.36316667, 16.85625, 17.81783333, 17.60691667, 21.26808333, 10.04091667, 9.948, 11.33583333, 18.25858333, 13.25491667, 19.95058333, 8.183416667000001, 16.36316667, 8.5035, 21.79833333, 17.31291667, 13.1065, 9.28575, 16.27266667, 16.85625, 16.36316667, 13.1065, 7.835916667, 15.6105, 8.046666667, 7.835916667, 16.08783333, 21.20083333, 17.81783333, 20.21266667, 23.48883333, 10.18375, 4.79725, 23.48883333, 18.31375, 12.40183333, 17.11816667, 17.16541667, 9.948, 14.35725, 10.56575, 20.21266667, 10.04091667, 10.04091667, 14.19658333, 17.99066667, 16.12191667, 16.16841667, 17.31291667, 16.36316667, 21.79833333, 14.96891667, 16.85625, 14.73466667, 11.12175, 9.28575, 17.16541667, 16.85625, 22.54825, 11.33583333, 16.36316667, 16.36316667, 17.31291667, 20.1015, 16.36316667, 10.04091667, 23.48883333, 21.20083333, 9.854666667, 12.44733333, 21.20083333, 9.996, 17.81783333, 16.36316667, 23.48883333, 9.9005, 7.835916667, 8.465083332999999, 10.31516667, 14.91691667, 17.16541667, 11.14475, 17.16541667, 17.81783333, 14.96891667, 14.19658333, 17.16541667, 7.922000000000001, 8.046666667, 11.14475, 14.96891667, 11.65183333, 4.79725, 22.15183333, 9.745583332999999, 15.02958333, 9.053416667, 19.72325, 17.16541667, 16.85625, 14.96891667, 14.96891667, 16.85625, 14.96891667, 16.36316667, 14.96891667, 19.68708333, 21.20083333, 7.682416667000001, 17.37375, 16.36316667, 5.604666667, 9.811666667, 7.23325, 17.31291667, 12.51516667, 11.65183333, 7.835916667, 10.04091667, 8.671666667, 14.96891667, 14.96891667, 17.31291667, 7.7645, 7.682416667000001, 20.06758333, 22.15183333, 21.20083333, 8.183416667000001, 16.36316667, 9.812000000000001, 12.44733333, 11.12175, 16.36316667, 17.99066667, 14.68341667, 14.96891667, 9.9005, 16.12191667, 16.05716667, 18.25858333, 8.671666667, 12.39041667, 10.56575, 16.36316667, 9.053416667, 9.053416667, 8.183416667000001, 12.55033333, 16.02933333, 8.671666667, 14.91691667, 7.835916667, 10.04091667]}],                        {\"coloraxis\": {\"colorbar\": {\"title\": {\"text\": \"Avg_Temp_Celsius\"}}, \"colorscale\": [[0.0, \"#0d0887\"], [0.1111111111111111, \"#46039f\"], [0.2222222222222222, \"#7201a8\"], [0.3333333333333333, \"#9c179e\"], [0.4444444444444444, \"#bd3786\"], [0.5555555555555556, \"#d8576b\"], [0.6666666666666666, \"#ed7953\"], [0.7777777777777778, \"#fb9f3a\"], [0.8888888888888888, \"#fdca26\"], [1.0, \"#f0f921\"]]}, \"legend\": {\"tracegroupgap\": 0}, \"mapbox\": {\"center\": {\"lat\": 37.78, \"lon\": -97.63}, \"domain\": {\"x\": [0.0, 1.0], \"y\": [0.0, 1.0]}, \"style\": \"stamen-terrain\", \"zoom\": 3}, \"template\": {\"data\": {\"bar\": [{\"error_x\": {\"color\": \"#2a3f5f\"}, \"error_y\": {\"color\": \"#2a3f5f\"}, \"marker\": {\"line\": {\"color\": \"#E5ECF6\", \"width\": 0.5}}, \"type\": \"bar\"}], \"barpolar\": [{\"marker\": {\"line\": {\"color\": \"#E5ECF6\", \"width\": 0.5}}, \"type\": \"barpolar\"}], \"carpet\": [{\"aaxis\": {\"endlinecolor\": \"#2a3f5f\", \"gridcolor\": \"white\", \"linecolor\": \"white\", \"minorgridcolor\": \"white\", \"startlinecolor\": \"#2a3f5f\"}, \"baxis\": {\"endlinecolor\": \"#2a3f5f\", \"gridcolor\": \"white\", \"linecolor\": \"white\", \"minorgridcolor\": \"white\", \"startlinecolor\": \"#2a3f5f\"}, \"type\": \"carpet\"}], \"choropleth\": [{\"colorbar\": {\"outlinewidth\": 0, \"ticks\": \"\"}, \"type\": \"choropleth\"}], \"contour\": [{\"colorbar\": {\"outlinewidth\": 0, \"ticks\": \"\"}, \"colorscale\": [[0.0, \"#0d0887\"], [0.1111111111111111, \"#46039f\"], [0.2222222222222222, \"#7201a8\"], [0.3333333333333333, \"#9c179e\"], [0.4444444444444444, \"#bd3786\"], [0.5555555555555556, \"#d8576b\"], [0.6666666666666666, \"#ed7953\"], [0.7777777777777778, \"#fb9f3a\"], [0.8888888888888888, \"#fdca26\"], [1.0, \"#f0f921\"]], \"type\": \"contour\"}], \"contourcarpet\": [{\"colorbar\": {\"outlinewidth\": 0, \"ticks\": \"\"}, \"type\": \"contourcarpet\"}], \"heatmap\": [{\"colorbar\": {\"outlinewidth\": 0, \"ticks\": \"\"}, \"colorscale\": [[0.0, \"#0d0887\"], [0.1111111111111111, \"#46039f\"], [0.2222222222222222, \"#7201a8\"], [0.3333333333333333, \"#9c179e\"], [0.4444444444444444, \"#bd3786\"], [0.5555555555555556, \"#d8576b\"], [0.6666666666666666, \"#ed7953\"], [0.7777777777777778, \"#fb9f3a\"], [0.8888888888888888, \"#fdca26\"], [1.0, \"#f0f921\"]], \"type\": \"heatmap\"}], \"heatmapgl\": [{\"colorbar\": {\"outlinewidth\": 0, \"ticks\": \"\"}, \"colorscale\": [[0.0, \"#0d0887\"], [0.1111111111111111, \"#46039f\"], [0.2222222222222222, \"#7201a8\"], [0.3333333333333333, \"#9c179e\"], [0.4444444444444444, \"#bd3786\"], [0.5555555555555556, \"#d8576b\"], [0.6666666666666666, \"#ed7953\"], [0.7777777777777778, \"#fb9f3a\"], [0.8888888888888888, \"#fdca26\"], [1.0, \"#f0f921\"]], \"type\": \"heatmapgl\"}], \"histogram\": [{\"marker\": {\"colorbar\": {\"outlinewidth\": 0, \"ticks\": \"\"}}, \"type\": \"histogram\"}], \"histogram2d\": [{\"colorbar\": {\"outlinewidth\": 0, \"ticks\": \"\"}, \"colorscale\": [[0.0, \"#0d0887\"], [0.1111111111111111, \"#46039f\"], [0.2222222222222222, \"#7201a8\"], [0.3333333333333333, \"#9c179e\"], [0.4444444444444444, \"#bd3786\"], [0.5555555555555556, \"#d8576b\"], [0.6666666666666666, \"#ed7953\"], [0.7777777777777778, \"#fb9f3a\"], [0.8888888888888888, \"#fdca26\"], [1.0, \"#f0f921\"]], \"type\": \"histogram2d\"}], \"histogram2dcontour\": [{\"colorbar\": {\"outlinewidth\": 0, \"ticks\": \"\"}, \"colorscale\": [[0.0, \"#0d0887\"], [0.1111111111111111, \"#46039f\"], [0.2222222222222222, \"#7201a8\"], [0.3333333333333333, \"#9c179e\"], [0.4444444444444444, \"#bd3786\"], [0.5555555555555556, \"#d8576b\"], [0.6666666666666666, \"#ed7953\"], [0.7777777777777778, \"#fb9f3a\"], [0.8888888888888888, \"#fdca26\"], [1.0, \"#f0f921\"]], \"type\": \"histogram2dcontour\"}], \"mesh3d\": [{\"colorbar\": {\"outlinewidth\": 0, \"ticks\": \"\"}, \"type\": \"mesh3d\"}], \"parcoords\": [{\"line\": {\"colorbar\": {\"outlinewidth\": 0, \"ticks\": \"\"}}, \"type\": \"parcoords\"}], \"pie\": [{\"automargin\": true, \"type\": \"pie\"}], \"scatter\": [{\"marker\": {\"colorbar\": {\"outlinewidth\": 0, \"ticks\": \"\"}}, \"type\": \"scatter\"}], \"scatter3d\": [{\"line\": {\"colorbar\": {\"outlinewidth\": 0, \"ticks\": \"\"}}, \"marker\": {\"colorbar\": {\"outlinewidth\": 0, \"ticks\": \"\"}}, \"type\": \"scatter3d\"}], \"scattercarpet\": [{\"marker\": {\"colorbar\": {\"outlinewidth\": 0, \"ticks\": \"\"}}, \"type\": \"scattercarpet\"}], \"scattergeo\": [{\"marker\": {\"colorbar\": {\"outlinewidth\": 0, \"ticks\": \"\"}}, \"type\": \"scattergeo\"}], \"scattergl\": [{\"marker\": {\"colorbar\": {\"outlinewidth\": 0, \"ticks\": \"\"}}, \"type\": \"scattergl\"}], \"scattermapbox\": [{\"marker\": {\"colorbar\": {\"outlinewidth\": 0, \"ticks\": \"\"}}, \"type\": \"scattermapbox\"}], \"scatterpolar\": [{\"marker\": {\"colorbar\": {\"outlinewidth\": 0, \"ticks\": \"\"}}, \"type\": \"scatterpolar\"}], \"scatterpolargl\": [{\"marker\": {\"colorbar\": {\"outlinewidth\": 0, \"ticks\": \"\"}}, \"type\": \"scatterpolargl\"}], \"scatterternary\": [{\"marker\": {\"colorbar\": {\"outlinewidth\": 0, \"ticks\": \"\"}}, \"type\": \"scatterternary\"}], \"surface\": [{\"colorbar\": {\"outlinewidth\": 0, \"ticks\": \"\"}, \"colorscale\": [[0.0, \"#0d0887\"], [0.1111111111111111, \"#46039f\"], [0.2222222222222222, \"#7201a8\"], [0.3333333333333333, \"#9c179e\"], [0.4444444444444444, \"#bd3786\"], [0.5555555555555556, \"#d8576b\"], [0.6666666666666666, \"#ed7953\"], [0.7777777777777778, \"#fb9f3a\"], [0.8888888888888888, \"#fdca26\"], [1.0, \"#f0f921\"]], \"type\": \"surface\"}], \"table\": [{\"cells\": {\"fill\": {\"color\": \"#EBF0F8\"}, \"line\": {\"color\": \"white\"}}, \"header\": {\"fill\": {\"color\": \"#C8D4E3\"}, \"line\": {\"color\": \"white\"}}, \"type\": \"table\"}]}, \"layout\": {\"annotationdefaults\": {\"arrowcolor\": \"#2a3f5f\", \"arrowhead\": 0, \"arrowwidth\": 1}, \"autotypenumbers\": \"strict\", \"coloraxis\": {\"colorbar\": {\"outlinewidth\": 0, \"ticks\": \"\"}}, \"colorscale\": {\"diverging\": [[0, \"#8e0152\"], [0.1, \"#c51b7d\"], [0.2, \"#de77ae\"], [0.3, \"#f1b6da\"], [0.4, \"#fde0ef\"], [0.5, \"#f7f7f7\"], [0.6, \"#e6f5d0\"], [0.7, \"#b8e186\"], [0.8, \"#7fbc41\"], [0.9, \"#4d9221\"], [1, \"#276419\"]], \"sequential\": [[0.0, \"#0d0887\"], [0.1111111111111111, \"#46039f\"], [0.2222222222222222, \"#7201a8\"], [0.3333333333333333, \"#9c179e\"], [0.4444444444444444, \"#bd3786\"], [0.5555555555555556, \"#d8576b\"], [0.6666666666666666, \"#ed7953\"], [0.7777777777777778, \"#fb9f3a\"], [0.8888888888888888, \"#fdca26\"], [1.0, \"#f0f921\"]], \"sequentialminus\": [[0.0, \"#0d0887\"], [0.1111111111111111, \"#46039f\"], [0.2222222222222222, \"#7201a8\"], [0.3333333333333333, \"#9c179e\"], [0.4444444444444444, \"#bd3786\"], [0.5555555555555556, \"#d8576b\"], [0.6666666666666666, \"#ed7953\"], [0.7777777777777778, \"#fb9f3a\"], [0.8888888888888888, \"#fdca26\"], [1.0, \"#f0f921\"]]}, \"colorway\": [\"#636efa\", \"#EF553B\", \"#00cc96\", \"#ab63fa\", \"#FFA15A\", \"#19d3f3\", \"#FF6692\", \"#B6E880\", \"#FF97FF\", \"#FECB52\"], \"font\": {\"color\": \"#2a3f5f\"}, \"geo\": {\"bgcolor\": \"white\", \"lakecolor\": \"white\", \"landcolor\": \"#E5ECF6\", \"showlakes\": true, \"showland\": true, \"subunitcolor\": \"white\"}, \"hoverlabel\": {\"align\": \"left\"}, \"hovermode\": \"closest\", \"mapbox\": {\"style\": \"light\"}, \"paper_bgcolor\": \"white\", \"plot_bgcolor\": \"#E5ECF6\", \"polar\": {\"angularaxis\": {\"gridcolor\": \"white\", \"linecolor\": \"white\", \"ticks\": \"\"}, \"bgcolor\": \"#E5ECF6\", \"radialaxis\": {\"gridcolor\": \"white\", \"linecolor\": \"white\", \"ticks\": \"\"}}, \"scene\": {\"xaxis\": {\"backgroundcolor\": \"#E5ECF6\", \"gridcolor\": \"white\", \"gridwidth\": 2, \"linecolor\": \"white\", \"showbackground\": true, \"ticks\": \"\", \"zerolinecolor\": \"white\"}, \"yaxis\": {\"backgroundcolor\": \"#E5ECF6\", \"gridcolor\": \"white\", \"gridwidth\": 2, \"linecolor\": \"white\", \"showbackground\": true, \"ticks\": \"\", \"zerolinecolor\": \"white\"}, \"zaxis\": {\"backgroundcolor\": \"#E5ECF6\", \"gridcolor\": \"white\", \"gridwidth\": 2, \"linecolor\": \"white\", \"showbackground\": true, \"ticks\": \"\", \"zerolinecolor\": \"white\"}}, \"shapedefaults\": {\"line\": {\"color\": \"#2a3f5f\"}}, \"ternary\": {\"aaxis\": {\"gridcolor\": \"white\", \"linecolor\": \"white\", \"ticks\": \"\"}, \"baxis\": {\"gridcolor\": \"white\", \"linecolor\": \"white\", \"ticks\": \"\"}, \"bgcolor\": \"#E5ECF6\", \"caxis\": {\"gridcolor\": \"white\", \"linecolor\": \"white\", \"ticks\": \"\"}}, \"title\": {\"x\": 0.05}, \"xaxis\": {\"automargin\": true, \"gridcolor\": \"white\", \"linecolor\": \"white\", \"ticks\": \"\", \"title\": {\"standoff\": 15}, \"zerolinecolor\": \"white\", \"zerolinewidth\": 2}, \"yaxis\": {\"automargin\": true, \"gridcolor\": \"white\", \"linecolor\": \"white\", \"ticks\": \"\", \"title\": {\"standoff\": 15}, \"zerolinecolor\": \"white\", \"zerolinewidth\": 2}}}, \"title\": {\"text\": \"1993\"}},                        {\"responsive\": true}                    ).then(function(){\n",
       "                            \n",
       "var gd = document.getElementById('07709be9-e6a2-46fb-ac39-60b14653dd67');\n",
       "var x = new MutationObserver(function (mutations, observer) {{\n",
       "        var display = window.getComputedStyle(gd).display;\n",
       "        if (!display || display === 'none') {{\n",
       "            console.log([gd, 'removed!']);\n",
       "            Plotly.purge(gd);\n",
       "            observer.disconnect();\n",
       "        }}\n",
       "}});\n",
       "\n",
       "// Listen for the removal of the full notebook cells\n",
       "var notebookContainer = gd.closest('#notebook-container');\n",
       "if (notebookContainer) {{\n",
       "    x.observe(notebookContainer, {childList: true});\n",
       "}}\n",
       "\n",
       "// Listen for the clearing of the current output cell\n",
       "var outputEl = gd.closest('.output');\n",
       "if (outputEl) {{\n",
       "    x.observe(outputEl, {childList: true});\n",
       "}}\n",
       "\n",
       "                        })                };                });            </script>        </div>"
      ]
     },
     "metadata": {},
     "output_type": "display_data"
    }
   ],
   "source": [
    "df = pd.read_csv('1993.csv')\n",
    "\n",
    "import plotly.express as px\n",
    "fig = px.density_mapbox(df, lat='Lat', lon='Long', z='Avg_Temp_Celsius', hover_name='City', radius=15, title = \"1993\",\n",
    "                        center=dict(lat=37.78, lon=-97.63), zoom=3,\n",
    "                        mapbox_style=\"stamen-terrain\")\n",
    "fig.show()"
   ]
  },
  {
   "cell_type": "code",
   "execution_count": 25,
   "metadata": {},
   "outputs": [
    {
     "data": {
      "application/vnd.plotly.v1+json": {
       "config": {
        "plotlyServerURL": "https://plot.ly"
       },
       "data": [
        {
         "coloraxis": "coloraxis",
         "hovertemplate": "<b>%{hovertext}</b><br><br>Avg_Temp_Celsius=%{z}<br>Lat=%{lat}<br>Long=%{lon}<extra></extra>",
         "hovertext": [
          "Abilene",
          "Akron",
          "Albuquerque",
          "Alexandria",
          "Allentown",
          "Amarillo",
          "Anaheim",
          "Anchorage",
          "Ann Arbor",
          "Antioch",
          "Arlington",
          "Arlington",
          "Arvada",
          "Atlanta",
          "Aurora",
          "Aurora",
          "Austin",
          "Bakersfield",
          "Baltimore",
          "Baton Rouge",
          "Beaumont",
          "Bellevue",
          "Berkeley",
          "Birmingham",
          "Boston",
          "Bridgeport",
          "Brownsville",
          "Buffalo",
          "Burbank",
          "Cambridge",
          "Cape Coral",
          "Carrollton",
          "Cary",
          "Cedar Rapids",
          "Chandler",
          "Charleston",
          "Charlotte",
          "Chattanooga",
          "Chesapeake",
          "Chicago",
          "Chula Vista",
          "Cincinnati",
          "Clarksville",
          "Clearwater",
          "Cleveland",
          "Colorado Springs",
          "Columbia",
          "Columbus",
          "Columbus",
          "Concord",
          "Coral Springs",
          "Corona",
          "Corpus Christi",
          "Costa Mesa",
          "Dallas",
          "Dayton",
          "Denton",
          "Denver",
          "Des Moines",
          "Detroit",
          "Downey",
          "Durham",
          "East Los Angeles",
          "Edison",
          "El Monte",
          "El Paso",
          "Elizabeth",
          "Escondido",
          "Eugene",
          "Evansville",
          "Fairfield",
          "Fayetteville",
          "Flint",
          "Fontana",
          "Fort Collins",
          "Fort Lauderdale",
          "Fort Wayne",
          "Fort Worth",
          "Fremont",
          "Fresno",
          "Fullerton",
          "Gainesville",
          "Garden Grove",
          "Garland",
          "Gilbert",
          "Glendale",
          "Glendale",
          "Grand Prairie",
          "Grand Rapids",
          "Green Bay",
          "Greensboro",
          "Hampton",
          "Hartford",
          "Hayward",
          "Henderson",
          "Hialeah",
          "Highlands Ranch",
          "Hollywood",
          "Houston",
          "Huntington Beach",
          "Huntsville",
          "Independence",
          "Indianapolis",
          "Inglewood",
          "Irvine",
          "Irving",
          "Jackson",
          "Jacksonville",
          "Jersey City",
          "Joliet",
          "Kansas City",
          "Killeen",
          "Knoxville",
          "Lafayette",
          "Lakewood",
          "Lancaster",
          "Lansing",
          "Laredo",
          "Las Vegas",
          "Lexington Fayette",
          "Lincoln",
          "Little Rock",
          "Long Beach",
          "Los Angeles",
          "Louisville",
          "Lowell",
          "Lubbock",
          "Madison",
          "Manchester",
          "Memphis",
          "Mesa",
          "Mesquite",
          "Metairie",
          "Miami",
          "Milwaukee",
          "Minneapolis",
          "Miramar",
          "Mobile",
          "Modesto",
          "Montgomery",
          "Moreno Valley",
          "Naperville",
          "Nashville",
          "New Haven",
          "New Orleans",
          "New York",
          "Newark",
          "Newport News",
          "Nogales",
          "Norfolk",
          "Norman",
          "North Las Vegas",
          "Norwalk",
          "Nuevo Laredo",
          "Oakland",
          "Oceanside",
          "Oklahoma City",
          "Olathe",
          "Omaha",
          "Ontario",
          "Orange",
          "Orlando",
          "Overland Park",
          "Oxnard",
          "Palmdale",
          "Paradise",
          "Pasadena",
          "Pasadena",
          "Paterson",
          "Pembroke Pines",
          "Peoria",
          "Peoria",
          "Philadelphia",
          "Phoenix",
          "Pittsburgh",
          "Plano",
          "Pomona",
          "Port Saint Lucie",
          "Portland",
          "Providence",
          "Provo",
          "Pueblo",
          "Raleigh",
          "Rancho Cucamonga",
          "Reno",
          "Rialto",
          "Richardson",
          "Richmond",
          "Richmond",
          "Riverside",
          "Rochester",
          "Rockford",
          "Roseville",
          "Sacramento",
          "Saint Louis",
          "Saint Paul",
          "Saint Petersburg",
          "Salem",
          "Salinas",
          "Salt Lake City",
          "San Antonio",
          "San Bernardino",
          "San Diego",
          "San Francisco",
          "San Jose",
          "Santa Ana",
          "Santa Clara",
          "Santa Clarita",
          "Santa Rosa",
          "Savannah",
          "Scottsdale",
          "Seattle",
          "Shreveport",
          "Simi Valley",
          "Sioux Falls",
          "South Bend",
          "Spokane",
          "Spring Valley",
          "Springfield",
          "Springfield",
          "Springfield",
          "Stamford",
          "Sterling Heights",
          "Stockton",
          "Sunnyvale",
          "Sunrise Manor",
          "Syracuse",
          "Tacoma",
          "Tallahassee",
          "Tampa",
          "Tempe",
          "Thornton",
          "Thousand Oaks",
          "Toledo",
          "Toms River",
          "Topeka",
          "Torrance",
          "Tucson",
          "Tulsa",
          "Vallejo",
          "Vancouver",
          "Virginia Beach",
          "Visalia",
          "Waco",
          "Warren",
          "Washington",
          "Waterbury",
          "West Covina",
          "West Jordan",
          "West Valley City",
          "Westminster",
          "Wichita",
          "Wichita Falls",
          "Windsor",
          "Winston Salem",
          "Worcester",
          "Yonkers"
         ],
         "lat": [
          32.95,
          40.99,
          34.56,
          39.38,
          40.99,
          34.56,
          32.95,
          61.88,
          42.59,
          37.78,
          32.95,
          39.38,
          39.38,
          34.56,
          39.38,
          40.99,
          29.74,
          36.17,
          39.38,
          29.74,
          29.74,
          47.42,
          37.78,
          32.95,
          42.59,
          40.99,
          26.52,
          42.59,
          34.56,
          42.59,
          26.52,
          32.95,
          36.17,
          42.59,
          32.95,
          32.95,
          34.56,
          34.56,
          36.17,
          42.59,
          32.95,
          39.38,
          36.17,
          28.13,
          40.99,
          39.38,
          34.56,
          32.95,
          39.38,
          37.78,
          26.52,
          32.95,
          28.13,
          32.95,
          32.95,
          39.38,
          32.95,
          39.38,
          40.99,
          42.59,
          34.56,
          36.17,
          34.56,
          40.99,
          34.56,
          31.35,
          40.99,
          32.95,
          44.2,
          37.78,
          37.78,
          34.56,
          42.59,
          34.56,
          40.99,
          26.52,
          40.99,
          32.95,
          37.78,
          36.17,
          32.95,
          29.74,
          32.95,
          32.95,
          32.95,
          32.95,
          34.56,
          32.95,
          42.59,
          44.2,
          36.17,
          36.17,
          40.99,
          37.78,
          36.17,
          26.52,
          39.38,
          26.52,
          29.74,
          32.95,
          34.56,
          39.38,
          39.38,
          34.56,
          32.95,
          32.95,
          32.95,
          29.74,
          40.99,
          40.99,
          39.38,
          31.35,
          36.17,
          29.74,
          39.38,
          34.56,
          42.59,
          28.13,
          36.17,
          37.78,
          40.99,
          34.56,
          32.95,
          34.56,
          37.78,
          42.59,
          32.95,
          42.59,
          42.59,
          34.56,
          32.95,
          32.95,
          29.74,
          26.52,
          42.59,
          45.81,
          26.52,
          31.35,
          37.78,
          32.95,
          34.56,
          40.99,
          36.17,
          40.99,
          29.74,
          40.99,
          40.99,
          37.78,
          31.35,
          36.17,
          34.56,
          36.17,
          34.56,
          28.13,
          37.78,
          32.95,
          36.17,
          39.38,
          40.99,
          34.56,
          32.95,
          28.13,
          39.38,
          34.56,
          34.56,
          36.17,
          29.74,
          34.56,
          40.99,
          26.52,
          32.95,
          40.99,
          39.38,
          32.95,
          40.99,
          32.95,
          34.56,
          26.52,
          45.81,
          42.59,
          39.38,
          37.78,
          36.17,
          34.56,
          39.38,
          34.56,
          32.95,
          37.78,
          37.78,
          34.56,
          42.59,
          42.59,
          39.38,
          37.78,
          39.38,
          45.81,
          28.13,
          44.2,
          36.17,
          40.99,
          29.74,
          34.56,
          32.95,
          37.78,
          37.78,
          32.95,
          37.78,
          34.56,
          37.78,
          31.35,
          32.95,
          47.42,
          32.95,
          34.56,
          44.2,
          40.99,
          47.42,
          36.17,
          37.78,
          39.38,
          42.59,
          40.99,
          42.59,
          37.78,
          37.78,
          36.17,
          42.59,
          47.42,
          29.74,
          28.13,
          32.95,
          39.38,
          34.56,
          40.99,
          39.38,
          39.38,
          34.56,
          31.35,
          36.17,
          37.78,
          45.81,
          36.17,
          36.17,
          31.35,
          42.59,
          39.38,
          40.99,
          34.56,
          40.99,
          40.99,
          39.38,
          37.78,
          34.56,
          42.59,
          36.17,
          42.59,
          40.99
         ],
         "lon": [
          -100.53,
          -80.95,
          -107.03,
          -76.99,
          -74.56,
          -101.19,
          -117.77,
          -151.13,
          -82.91,
          -122.03,
          -96.7,
          -76.99,
          -106.13,
          -83.68,
          -104.05,
          -87.34,
          -97.85,
          -119.34,
          -76.99,
          -90.46,
          -94.15,
          -121.97,
          -122.03,
          -87.13,
          -72,
          -72.43,
          -96.72,
          -78.55,
          -118.7,
          -72,
          -82.39,
          -96.7,
          -79.56,
          -91.64,
          -112.02,
          -79.47,
          -81.73,
          -85.62,
          -75.58,
          -87.27,
          -117.77,
          -85.32,
          -87.51,
          -82.73,
          -80.95,
          -104.05,
          -81.73,
          -85.21,
          -83.24,
          -122.03,
          -80.6,
          -117.77,
          -97.27,
          -117.77,
          -96.7,
          -83.24,
          -96.7,
          -104.05,
          -93.73,
          -82.91,
          -118.7,
          -79.56,
          -118.7,
          -74.56,
          -118.7,
          -105.55,
          -74.56,
          -117.77,
          -122.98,
          -87.46,
          -122.03,
          -79.78,
          -82.91,
          -116.76,
          -104.38,
          -80.6,
          -85.21,
          -96.7,
          -122.03,
          -119.34,
          -117.77,
          -83.08,
          -117.77,
          -96.7,
          -112.02,
          -112.02,
          -118.7,
          -96.7,
          -85.09,
          -87.2,
          -79.56,
          -75.58,
          -72.43,
          -122.03,
          -115.36,
          -80.6,
          -104.05,
          -80.6,
          -96,
          -117.77,
          -85.62,
          -93.64,
          -85.32,
          -118.7,
          -117.77,
          -96.7,
          -90.96,
          -81.23,
          -74.56,
          -87.34,
          -93.64,
          -98.01,
          -83.54,
          -92.31,
          -104.05,
          -118.7,
          -85.09,
          -99.09,
          -115.36,
          -85.42,
          -95.86,
          -91.46,
          -117.77,
          -118.7,
          -85.42,
          -72,
          -102.45,
          -89.45,
          -72,
          -89.51,
          -112.02,
          -96.7,
          -90.46,
          -80.6,
          -87.27,
          -93.46,
          -80.6,
          -88.59,
          -120,
          -87.13,
          -116.76,
          -87.34,
          -87.51,
          -72.43,
          -90.46,
          -74.56,
          -74.56,
          -77.29,
          -111.2,
          -75.58,
          -97.3,
          -115.36,
          -118.7,
          -99.09,
          -122.03,
          -117.77,
          -97.46,
          -95.72,
          -95.86,
          -116.76,
          -117.77,
          -80.91,
          -93.64,
          -118.7,
          -118.7,
          -115.36,
          -96,
          -118.7,
          -74.56,
          -80.6,
          -112.02,
          -89.47,
          -74.91,
          -112.02,
          -80.95,
          -96.7,
          -118.7,
          -80.6,
          -123.46,
          -72,
          -112.37,
          -103.73,
          -79.56,
          -116.76,
          -120.69,
          -116.76,
          -96.7,
          -122.03,
          -77.29,
          -116.76,
          -78.55,
          -89.45,
          -120.69,
          -122.03,
          -89.48,
          -93.46,
          -82.73,
          -122.98,
          -121.33,
          -112.9,
          -97.85,
          -116.76,
          -117.77,
          -122.03,
          -122.03,
          -117.77,
          -122.03,
          -118.7,
          -122.03,
          -81.05,
          -112.02,
          -121.97,
          -92.87,
          -118.7,
          -96.15,
          -85.21,
          -117.24,
          -115.36,
          -93.56,
          -89.48,
          -72,
          -74.56,
          -82.91,
          -122.03,
          -122.03,
          -115.36,
          -76.36,
          -121.97,
          -84.92,
          -82.73,
          -112.02,
          -104.05,
          -118.7,
          -83.08,
          -74.91,
          -95.72,
          -118.7,
          -111.2,
          -95.47,
          -122.03,
          -123.46,
          -75.58,
          -119.34,
          -98.01,
          -82.91,
          -76.99,
          -72.43,
          -118.7,
          -112.9,
          -112.9,
          -104.05,
          -97.63,
          -99.24,
          -82.91,
          -79.56,
          -72,
          -74.56
         ],
         "name": "",
         "radius": 15,
         "subplot": "mapbox",
         "type": "densitymapbox",
         "z": [
          17.79083333,
          9.879916667,
          12.58191667,
          12.07275,
          9.836,
          16.0105,
          17.10016667,
          -0.162833333,
          8.725833332999999,
          15.42508333,
          18.55375,
          12.07275,
          3.745833333,
          14.85366667,
          10.03691667,
          10.25675,
          20.36833333,
          16.95825,
          12.07275,
          20.62916667,
          20.43541667,
          8.74075,
          15.42508333,
          17.5575,
          7.775666667,
          10.3985,
          23.07441667,
          8.10025,
          16.94466667,
          7.775666667,
          23.87483333,
          18.55375,
          14.822000000000001,
          8.711916667,
          22.14558333,
          19.1295,
          16.28383333,
          15.45466667,
          16.19891667,
          10.48158333,
          17.10016667,
          11.48975,
          14.562000000000001,
          22.54041667,
          9.879916667,
          10.03691667,
          16.28383333,
          17.19483333,
          11.61433333,
          15.42508333,
          23.99991667,
          17.10016667,
          21.88083333,
          17.10016667,
          18.55375,
          11.61433333,
          18.55375,
          10.03691667,
          10.65733333,
          8.725833332999999,
          16.94466667,
          14.822000000000001,
          16.94466667,
          9.836,
          16.94466667,
          16.93616667,
          9.836,
          17.10016667,
          11.01066667,
          13.71158333,
          15.42508333,
          16.81466667,
          8.725833332999999,
          18.19566667,
          9.43625,
          23.99991667,
          9.875,
          18.55375,
          15.42508333,
          16.95825,
          17.10016667,
          20.67058333,
          17.10016667,
          18.55375,
          22.14558333,
          22.14558333,
          16.94466667,
          18.55375,
          8.798083333,
          7.582000000000001,
          14.822000000000001,
          16.19891667,
          10.3985,
          15.42508333,
          18.64958333,
          23.99991667,
          10.03691667,
          23.99991667,
          20.685,
          17.10016667,
          15.45466667,
          12.55591667,
          11.48975,
          16.94466667,
          17.10016667,
          18.55375,
          18.11766667,
          21.6495,
          9.836,
          10.25675,
          12.55591667,
          19.04741667,
          13.47058333,
          20.50433333,
          10.03691667,
          16.94466667,
          8.798083333,
          22.09883333,
          18.64958333,
          13.34633333,
          10.89808333,
          16.79641667,
          17.10016667,
          16.94466667,
          13.34633333,
          7.775666667,
          16.82733333,
          8.70575,
          7.775666667,
          16.41825,
          22.14558333,
          18.55375,
          20.62916667,
          23.99991667,
          10.48158333,
          6.0360000000000005,
          23.99991667,
          18.77566667,
          13.38183333,
          17.5575,
          18.19566667,
          10.25675,
          14.562000000000001,
          10.3985,
          20.62916667,
          9.836,
          9.836,
          14.0305,
          18.93216667,
          16.19891667,
          17.09666667,
          18.64958333,
          16.94466667,
          22.09883333,
          15.42508333,
          17.10016667,
          15.69658333,
          12.69975,
          10.89808333,
          18.19566667,
          17.10016667,
          23.05866667,
          12.55591667,
          16.94466667,
          16.94466667,
          18.64958333,
          20.685,
          16.94466667,
          9.836,
          23.99991667,
          22.14558333,
          10.39941667,
          12.07408333,
          22.14558333,
          9.879916667,
          18.55375,
          16.94466667,
          23.99991667,
          10.99125,
          7.775666667,
          10.63733333,
          12.03883333,
          14.822000000000001,
          18.19566667,
          12.48458333,
          18.19566667,
          18.55375,
          15.42508333,
          14.0305,
          18.19566667,
          8.10025,
          8.70575,
          12.48458333,
          15.42508333,
          12.18383333,
          6.0360000000000005,
          22.54041667,
          11.01066667,
          15.65733333,
          11.96716667,
          20.36833333,
          18.19566667,
          17.10016667,
          15.42508333,
          15.42508333,
          17.10016667,
          15.42508333,
          16.94466667,
          15.42508333,
          19.89808333,
          22.14558333,
          8.74075,
          18.07425,
          16.94466667,
          7.32125,
          9.875,
          9.3065,
          18.64958333,
          13.54625,
          12.18383333,
          7.775666667,
          9.836,
          8.725833332999999,
          15.42508333,
          15.42508333,
          18.64958333,
          7.995166667,
          8.74075,
          20.4865,
          22.54041667,
          22.14558333,
          10.03691667,
          16.94466667,
          9.760333333,
          12.07408333,
          12.69975,
          16.94466667,
          18.93216667,
          15.64141667,
          15.42508333,
          10.99125,
          16.19891667,
          16.95825,
          19.04741667,
          8.725833332999999,
          12.07275,
          10.3985,
          16.94466667,
          11.96716667,
          11.96716667,
          10.03691667,
          13.89108333,
          17.16016667,
          8.725833332999999,
          14.822000000000001,
          7.775666667,
          9.836
         ]
        }
       ],
       "layout": {
        "coloraxis": {
         "colorbar": {
          "title": {
           "text": "Avg_Temp_Celsius"
          }
         },
         "colorscale": [
          [
           0,
           "#0d0887"
          ],
          [
           0.1111111111111111,
           "#46039f"
          ],
          [
           0.2222222222222222,
           "#7201a8"
          ],
          [
           0.3333333333333333,
           "#9c179e"
          ],
          [
           0.4444444444444444,
           "#bd3786"
          ],
          [
           0.5555555555555556,
           "#d8576b"
          ],
          [
           0.6666666666666666,
           "#ed7953"
          ],
          [
           0.7777777777777778,
           "#fb9f3a"
          ],
          [
           0.8888888888888888,
           "#fdca26"
          ],
          [
           1,
           "#f0f921"
          ]
         ]
        },
        "legend": {
         "tracegroupgap": 0
        },
        "mapbox": {
         "center": {
          "lat": 37.78,
          "lon": -97.63
         },
         "domain": {
          "x": [
           0,
           1
          ],
          "y": [
           0,
           1
          ]
         },
         "style": "stamen-terrain",
         "zoom": 3
        },
        "margin": {
         "t": 60
        },
        "template": {
         "data": {
          "bar": [
           {
            "error_x": {
             "color": "#2a3f5f"
            },
            "error_y": {
             "color": "#2a3f5f"
            },
            "marker": {
             "line": {
              "color": "#E5ECF6",
              "width": 0.5
             }
            },
            "type": "bar"
           }
          ],
          "barpolar": [
           {
            "marker": {
             "line": {
              "color": "#E5ECF6",
              "width": 0.5
             }
            },
            "type": "barpolar"
           }
          ],
          "carpet": [
           {
            "aaxis": {
             "endlinecolor": "#2a3f5f",
             "gridcolor": "white",
             "linecolor": "white",
             "minorgridcolor": "white",
             "startlinecolor": "#2a3f5f"
            },
            "baxis": {
             "endlinecolor": "#2a3f5f",
             "gridcolor": "white",
             "linecolor": "white",
             "minorgridcolor": "white",
             "startlinecolor": "#2a3f5f"
            },
            "type": "carpet"
           }
          ],
          "choropleth": [
           {
            "colorbar": {
             "outlinewidth": 0,
             "ticks": ""
            },
            "type": "choropleth"
           }
          ],
          "contour": [
           {
            "colorbar": {
             "outlinewidth": 0,
             "ticks": ""
            },
            "colorscale": [
             [
              0,
              "#0d0887"
             ],
             [
              0.1111111111111111,
              "#46039f"
             ],
             [
              0.2222222222222222,
              "#7201a8"
             ],
             [
              0.3333333333333333,
              "#9c179e"
             ],
             [
              0.4444444444444444,
              "#bd3786"
             ],
             [
              0.5555555555555556,
              "#d8576b"
             ],
             [
              0.6666666666666666,
              "#ed7953"
             ],
             [
              0.7777777777777778,
              "#fb9f3a"
             ],
             [
              0.8888888888888888,
              "#fdca26"
             ],
             [
              1,
              "#f0f921"
             ]
            ],
            "type": "contour"
           }
          ],
          "contourcarpet": [
           {
            "colorbar": {
             "outlinewidth": 0,
             "ticks": ""
            },
            "type": "contourcarpet"
           }
          ],
          "heatmap": [
           {
            "colorbar": {
             "outlinewidth": 0,
             "ticks": ""
            },
            "colorscale": [
             [
              0,
              "#0d0887"
             ],
             [
              0.1111111111111111,
              "#46039f"
             ],
             [
              0.2222222222222222,
              "#7201a8"
             ],
             [
              0.3333333333333333,
              "#9c179e"
             ],
             [
              0.4444444444444444,
              "#bd3786"
             ],
             [
              0.5555555555555556,
              "#d8576b"
             ],
             [
              0.6666666666666666,
              "#ed7953"
             ],
             [
              0.7777777777777778,
              "#fb9f3a"
             ],
             [
              0.8888888888888888,
              "#fdca26"
             ],
             [
              1,
              "#f0f921"
             ]
            ],
            "type": "heatmap"
           }
          ],
          "heatmapgl": [
           {
            "colorbar": {
             "outlinewidth": 0,
             "ticks": ""
            },
            "colorscale": [
             [
              0,
              "#0d0887"
             ],
             [
              0.1111111111111111,
              "#46039f"
             ],
             [
              0.2222222222222222,
              "#7201a8"
             ],
             [
              0.3333333333333333,
              "#9c179e"
             ],
             [
              0.4444444444444444,
              "#bd3786"
             ],
             [
              0.5555555555555556,
              "#d8576b"
             ],
             [
              0.6666666666666666,
              "#ed7953"
             ],
             [
              0.7777777777777778,
              "#fb9f3a"
             ],
             [
              0.8888888888888888,
              "#fdca26"
             ],
             [
              1,
              "#f0f921"
             ]
            ],
            "type": "heatmapgl"
           }
          ],
          "histogram": [
           {
            "marker": {
             "colorbar": {
              "outlinewidth": 0,
              "ticks": ""
             }
            },
            "type": "histogram"
           }
          ],
          "histogram2d": [
           {
            "colorbar": {
             "outlinewidth": 0,
             "ticks": ""
            },
            "colorscale": [
             [
              0,
              "#0d0887"
             ],
             [
              0.1111111111111111,
              "#46039f"
             ],
             [
              0.2222222222222222,
              "#7201a8"
             ],
             [
              0.3333333333333333,
              "#9c179e"
             ],
             [
              0.4444444444444444,
              "#bd3786"
             ],
             [
              0.5555555555555556,
              "#d8576b"
             ],
             [
              0.6666666666666666,
              "#ed7953"
             ],
             [
              0.7777777777777778,
              "#fb9f3a"
             ],
             [
              0.8888888888888888,
              "#fdca26"
             ],
             [
              1,
              "#f0f921"
             ]
            ],
            "type": "histogram2d"
           }
          ],
          "histogram2dcontour": [
           {
            "colorbar": {
             "outlinewidth": 0,
             "ticks": ""
            },
            "colorscale": [
             [
              0,
              "#0d0887"
             ],
             [
              0.1111111111111111,
              "#46039f"
             ],
             [
              0.2222222222222222,
              "#7201a8"
             ],
             [
              0.3333333333333333,
              "#9c179e"
             ],
             [
              0.4444444444444444,
              "#bd3786"
             ],
             [
              0.5555555555555556,
              "#d8576b"
             ],
             [
              0.6666666666666666,
              "#ed7953"
             ],
             [
              0.7777777777777778,
              "#fb9f3a"
             ],
             [
              0.8888888888888888,
              "#fdca26"
             ],
             [
              1,
              "#f0f921"
             ]
            ],
            "type": "histogram2dcontour"
           }
          ],
          "mesh3d": [
           {
            "colorbar": {
             "outlinewidth": 0,
             "ticks": ""
            },
            "type": "mesh3d"
           }
          ],
          "parcoords": [
           {
            "line": {
             "colorbar": {
              "outlinewidth": 0,
              "ticks": ""
             }
            },
            "type": "parcoords"
           }
          ],
          "pie": [
           {
            "automargin": true,
            "type": "pie"
           }
          ],
          "scatter": [
           {
            "marker": {
             "colorbar": {
              "outlinewidth": 0,
              "ticks": ""
             }
            },
            "type": "scatter"
           }
          ],
          "scatter3d": [
           {
            "line": {
             "colorbar": {
              "outlinewidth": 0,
              "ticks": ""
             }
            },
            "marker": {
             "colorbar": {
              "outlinewidth": 0,
              "ticks": ""
             }
            },
            "type": "scatter3d"
           }
          ],
          "scattercarpet": [
           {
            "marker": {
             "colorbar": {
              "outlinewidth": 0,
              "ticks": ""
             }
            },
            "type": "scattercarpet"
           }
          ],
          "scattergeo": [
           {
            "marker": {
             "colorbar": {
              "outlinewidth": 0,
              "ticks": ""
             }
            },
            "type": "scattergeo"
           }
          ],
          "scattergl": [
           {
            "marker": {
             "colorbar": {
              "outlinewidth": 0,
              "ticks": ""
             }
            },
            "type": "scattergl"
           }
          ],
          "scattermapbox": [
           {
            "marker": {
             "colorbar": {
              "outlinewidth": 0,
              "ticks": ""
             }
            },
            "type": "scattermapbox"
           }
          ],
          "scatterpolar": [
           {
            "marker": {
             "colorbar": {
              "outlinewidth": 0,
              "ticks": ""
             }
            },
            "type": "scatterpolar"
           }
          ],
          "scatterpolargl": [
           {
            "marker": {
             "colorbar": {
              "outlinewidth": 0,
              "ticks": ""
             }
            },
            "type": "scatterpolargl"
           }
          ],
          "scatterternary": [
           {
            "marker": {
             "colorbar": {
              "outlinewidth": 0,
              "ticks": ""
             }
            },
            "type": "scatterternary"
           }
          ],
          "surface": [
           {
            "colorbar": {
             "outlinewidth": 0,
             "ticks": ""
            },
            "colorscale": [
             [
              0,
              "#0d0887"
             ],
             [
              0.1111111111111111,
              "#46039f"
             ],
             [
              0.2222222222222222,
              "#7201a8"
             ],
             [
              0.3333333333333333,
              "#9c179e"
             ],
             [
              0.4444444444444444,
              "#bd3786"
             ],
             [
              0.5555555555555556,
              "#d8576b"
             ],
             [
              0.6666666666666666,
              "#ed7953"
             ],
             [
              0.7777777777777778,
              "#fb9f3a"
             ],
             [
              0.8888888888888888,
              "#fdca26"
             ],
             [
              1,
              "#f0f921"
             ]
            ],
            "type": "surface"
           }
          ],
          "table": [
           {
            "cells": {
             "fill": {
              "color": "#EBF0F8"
             },
             "line": {
              "color": "white"
             }
            },
            "header": {
             "fill": {
              "color": "#C8D4E3"
             },
             "line": {
              "color": "white"
             }
            },
            "type": "table"
           }
          ]
         },
         "layout": {
          "annotationdefaults": {
           "arrowcolor": "#2a3f5f",
           "arrowhead": 0,
           "arrowwidth": 1
          },
          "autotypenumbers": "strict",
          "coloraxis": {
           "colorbar": {
            "outlinewidth": 0,
            "ticks": ""
           }
          },
          "colorscale": {
           "diverging": [
            [
             0,
             "#8e0152"
            ],
            [
             0.1,
             "#c51b7d"
            ],
            [
             0.2,
             "#de77ae"
            ],
            [
             0.3,
             "#f1b6da"
            ],
            [
             0.4,
             "#fde0ef"
            ],
            [
             0.5,
             "#f7f7f7"
            ],
            [
             0.6,
             "#e6f5d0"
            ],
            [
             0.7,
             "#b8e186"
            ],
            [
             0.8,
             "#7fbc41"
            ],
            [
             0.9,
             "#4d9221"
            ],
            [
             1,
             "#276419"
            ]
           ],
           "sequential": [
            [
             0,
             "#0d0887"
            ],
            [
             0.1111111111111111,
             "#46039f"
            ],
            [
             0.2222222222222222,
             "#7201a8"
            ],
            [
             0.3333333333333333,
             "#9c179e"
            ],
            [
             0.4444444444444444,
             "#bd3786"
            ],
            [
             0.5555555555555556,
             "#d8576b"
            ],
            [
             0.6666666666666666,
             "#ed7953"
            ],
            [
             0.7777777777777778,
             "#fb9f3a"
            ],
            [
             0.8888888888888888,
             "#fdca26"
            ],
            [
             1,
             "#f0f921"
            ]
           ],
           "sequentialminus": [
            [
             0,
             "#0d0887"
            ],
            [
             0.1111111111111111,
             "#46039f"
            ],
            [
             0.2222222222222222,
             "#7201a8"
            ],
            [
             0.3333333333333333,
             "#9c179e"
            ],
            [
             0.4444444444444444,
             "#bd3786"
            ],
            [
             0.5555555555555556,
             "#d8576b"
            ],
            [
             0.6666666666666666,
             "#ed7953"
            ],
            [
             0.7777777777777778,
             "#fb9f3a"
            ],
            [
             0.8888888888888888,
             "#fdca26"
            ],
            [
             1,
             "#f0f921"
            ]
           ]
          },
          "colorway": [
           "#636efa",
           "#EF553B",
           "#00cc96",
           "#ab63fa",
           "#FFA15A",
           "#19d3f3",
           "#FF6692",
           "#B6E880",
           "#FF97FF",
           "#FECB52"
          ],
          "font": {
           "color": "#2a3f5f"
          },
          "geo": {
           "bgcolor": "white",
           "lakecolor": "white",
           "landcolor": "#E5ECF6",
           "showlakes": true,
           "showland": true,
           "subunitcolor": "white"
          },
          "hoverlabel": {
           "align": "left"
          },
          "hovermode": "closest",
          "mapbox": {
           "style": "light"
          },
          "paper_bgcolor": "white",
          "plot_bgcolor": "#E5ECF6",
          "polar": {
           "angularaxis": {
            "gridcolor": "white",
            "linecolor": "white",
            "ticks": ""
           },
           "bgcolor": "#E5ECF6",
           "radialaxis": {
            "gridcolor": "white",
            "linecolor": "white",
            "ticks": ""
           }
          },
          "scene": {
           "xaxis": {
            "backgroundcolor": "#E5ECF6",
            "gridcolor": "white",
            "gridwidth": 2,
            "linecolor": "white",
            "showbackground": true,
            "ticks": "",
            "zerolinecolor": "white"
           },
           "yaxis": {
            "backgroundcolor": "#E5ECF6",
            "gridcolor": "white",
            "gridwidth": 2,
            "linecolor": "white",
            "showbackground": true,
            "ticks": "",
            "zerolinecolor": "white"
           },
           "zaxis": {
            "backgroundcolor": "#E5ECF6",
            "gridcolor": "white",
            "gridwidth": 2,
            "linecolor": "white",
            "showbackground": true,
            "ticks": "",
            "zerolinecolor": "white"
           }
          },
          "shapedefaults": {
           "line": {
            "color": "#2a3f5f"
           }
          },
          "ternary": {
           "aaxis": {
            "gridcolor": "white",
            "linecolor": "white",
            "ticks": ""
           },
           "baxis": {
            "gridcolor": "white",
            "linecolor": "white",
            "ticks": ""
           },
           "bgcolor": "#E5ECF6",
           "caxis": {
            "gridcolor": "white",
            "linecolor": "white",
            "ticks": ""
           }
          },
          "title": {
           "x": 0.05
          },
          "xaxis": {
           "automargin": true,
           "gridcolor": "white",
           "linecolor": "white",
           "ticks": "",
           "title": {
            "standoff": 15
           },
           "zerolinecolor": "white",
           "zerolinewidth": 2
          },
          "yaxis": {
           "automargin": true,
           "gridcolor": "white",
           "linecolor": "white",
           "ticks": "",
           "title": {
            "standoff": 15
           },
           "zerolinecolor": "white",
           "zerolinewidth": 2
          }
         }
        }
       }
      },
      "text/html": [
       "<div>                            <div id=\"46f2746b-de71-41e0-a2f4-30bbe7a63d78\" class=\"plotly-graph-div\" style=\"height:525px; width:100%;\"></div>            <script type=\"text/javascript\">                require([\"plotly\"], function(Plotly) {                    window.PLOTLYENV=window.PLOTLYENV || {};                                    if (document.getElementById(\"46f2746b-de71-41e0-a2f4-30bbe7a63d78\")) {                    Plotly.newPlot(                        \"46f2746b-de71-41e0-a2f4-30bbe7a63d78\",                        [{\"coloraxis\": \"coloraxis\", \"hovertemplate\": \"<b>%{hovertext}</b><br><br>Avg_Temp_Celsius=%{z}<br>Lat=%{lat}<br>Long=%{lon}<extra></extra>\", \"hovertext\": [\"Abilene\", \"Akron\", \"Albuquerque\", \"Alexandria\", \"Allentown\", \"Amarillo\", \"Anaheim\", \"Anchorage\", \"Ann Arbor\", \"Antioch\", \"Arlington\", \"Arlington\", \"Arvada\", \"Atlanta\", \"Aurora\", \"Aurora\", \"Austin\", \"Bakersfield\", \"Baltimore\", \"Baton Rouge\", \"Beaumont\", \"Bellevue\", \"Berkeley\", \"Birmingham\", \"Boston\", \"Bridgeport\", \"Brownsville\", \"Buffalo\", \"Burbank\", \"Cambridge\", \"Cape Coral\", \"Carrollton\", \"Cary\", \"Cedar Rapids\", \"Chandler\", \"Charleston\", \"Charlotte\", \"Chattanooga\", \"Chesapeake\", \"Chicago\", \"Chula Vista\", \"Cincinnati\", \"Clarksville\", \"Clearwater\", \"Cleveland\", \"Colorado Springs\", \"Columbia\", \"Columbus\", \"Columbus\", \"Concord\", \"Coral Springs\", \"Corona\", \"Corpus Christi\", \"Costa Mesa\", \"Dallas\", \"Dayton\", \"Denton\", \"Denver\", \"Des Moines\", \"Detroit\", \"Downey\", \"Durham\", \"East Los Angeles\", \"Edison\", \"El Monte\", \"El Paso\", \"Elizabeth\", \"Escondido\", \"Eugene\", \"Evansville\", \"Fairfield\", \"Fayetteville\", \"Flint\", \"Fontana\", \"Fort Collins\", \"Fort Lauderdale\", \"Fort Wayne\", \"Fort Worth\", \"Fremont\", \"Fresno\", \"Fullerton\", \"Gainesville\", \"Garden Grove\", \"Garland\", \"Gilbert\", \"Glendale\", \"Glendale\", \"Grand Prairie\", \"Grand Rapids\", \"Green Bay\", \"Greensboro\", \"Hampton\", \"Hartford\", \"Hayward\", \"Henderson\", \"Hialeah\", \"Highlands Ranch\", \"Hollywood\", \"Houston\", \"Huntington Beach\", \"Huntsville\", \"Independence\", \"Indianapolis\", \"Inglewood\", \"Irvine\", \"Irving\", \"Jackson\", \"Jacksonville\", \"Jersey City\", \"Joliet\", \"Kansas City\", \"Killeen\", \"Knoxville\", \"Lafayette\", \"Lakewood\", \"Lancaster\", \"Lansing\", \"Laredo\", \"Las Vegas\", \"Lexington Fayette\", \"Lincoln\", \"Little Rock\", \"Long Beach\", \"Los Angeles\", \"Louisville\", \"Lowell\", \"Lubbock\", \"Madison\", \"Manchester\", \"Memphis\", \"Mesa\", \"Mesquite\", \"Metairie\", \"Miami\", \"Milwaukee\", \"Minneapolis\", \"Miramar\", \"Mobile\", \"Modesto\", \"Montgomery\", \"Moreno Valley\", \"Naperville\", \"Nashville\", \"New Haven\", \"New Orleans\", \"New York\", \"Newark\", \"Newport News\", \"Nogales\", \"Norfolk\", \"Norman\", \"North Las Vegas\", \"Norwalk\", \"Nuevo Laredo\", \"Oakland\", \"Oceanside\", \"Oklahoma City\", \"Olathe\", \"Omaha\", \"Ontario\", \"Orange\", \"Orlando\", \"Overland Park\", \"Oxnard\", \"Palmdale\", \"Paradise\", \"Pasadena\", \"Pasadena\", \"Paterson\", \"Pembroke Pines\", \"Peoria\", \"Peoria\", \"Philadelphia\", \"Phoenix\", \"Pittsburgh\", \"Plano\", \"Pomona\", \"Port Saint Lucie\", \"Portland\", \"Providence\", \"Provo\", \"Pueblo\", \"Raleigh\", \"Rancho Cucamonga\", \"Reno\", \"Rialto\", \"Richardson\", \"Richmond\", \"Richmond\", \"Riverside\", \"Rochester\", \"Rockford\", \"Roseville\", \"Sacramento\", \"Saint Louis\", \"Saint Paul\", \"Saint Petersburg\", \"Salem\", \"Salinas\", \"Salt Lake City\", \"San Antonio\", \"San Bernardino\", \"San Diego\", \"San Francisco\", \"San Jose\", \"Santa Ana\", \"Santa Clara\", \"Santa Clarita\", \"Santa Rosa\", \"Savannah\", \"Scottsdale\", \"Seattle\", \"Shreveport\", \"Simi Valley\", \"Sioux Falls\", \"South Bend\", \"Spokane\", \"Spring Valley\", \"Springfield\", \"Springfield\", \"Springfield\", \"Stamford\", \"Sterling Heights\", \"Stockton\", \"Sunnyvale\", \"Sunrise Manor\", \"Syracuse\", \"Tacoma\", \"Tallahassee\", \"Tampa\", \"Tempe\", \"Thornton\", \"Thousand Oaks\", \"Toledo\", \"Toms River\", \"Topeka\", \"Torrance\", \"Tucson\", \"Tulsa\", \"Vallejo\", \"Vancouver\", \"Virginia Beach\", \"Visalia\", \"Waco\", \"Warren\", \"Washington\", \"Waterbury\", \"West Covina\", \"West Jordan\", \"West Valley City\", \"Westminster\", \"Wichita\", \"Wichita Falls\", \"Windsor\", \"Winston Salem\", \"Worcester\", \"Yonkers\"], \"lat\": [32.95, 40.99, 34.56, 39.38, 40.99, 34.56, 32.95, 61.88, 42.59, 37.78, 32.95, 39.38, 39.38, 34.56, 39.38, 40.99, 29.74, 36.17, 39.38, 29.74, 29.74, 47.42, 37.78, 32.95, 42.59, 40.99, 26.52, 42.59, 34.56, 42.59, 26.52, 32.95, 36.17, 42.59, 32.95, 32.95, 34.56, 34.56, 36.17, 42.59, 32.95, 39.38, 36.17, 28.13, 40.99, 39.38, 34.56, 32.95, 39.38, 37.78, 26.52, 32.95, 28.13, 32.95, 32.95, 39.38, 32.95, 39.38, 40.99, 42.59, 34.56, 36.17, 34.56, 40.99, 34.56, 31.35, 40.99, 32.95, 44.2, 37.78, 37.78, 34.56, 42.59, 34.56, 40.99, 26.52, 40.99, 32.95, 37.78, 36.17, 32.95, 29.74, 32.95, 32.95, 32.95, 32.95, 34.56, 32.95, 42.59, 44.2, 36.17, 36.17, 40.99, 37.78, 36.17, 26.52, 39.38, 26.52, 29.74, 32.95, 34.56, 39.38, 39.38, 34.56, 32.95, 32.95, 32.95, 29.74, 40.99, 40.99, 39.38, 31.35, 36.17, 29.74, 39.38, 34.56, 42.59, 28.13, 36.17, 37.78, 40.99, 34.56, 32.95, 34.56, 37.78, 42.59, 32.95, 42.59, 42.59, 34.56, 32.95, 32.95, 29.74, 26.52, 42.59, 45.81, 26.52, 31.35, 37.78, 32.95, 34.56, 40.99, 36.17, 40.99, 29.74, 40.99, 40.99, 37.78, 31.35, 36.17, 34.56, 36.17, 34.56, 28.13, 37.78, 32.95, 36.17, 39.38, 40.99, 34.56, 32.95, 28.13, 39.38, 34.56, 34.56, 36.17, 29.74, 34.56, 40.99, 26.52, 32.95, 40.99, 39.38, 32.95, 40.99, 32.95, 34.56, 26.52, 45.81, 42.59, 39.38, 37.78, 36.17, 34.56, 39.38, 34.56, 32.95, 37.78, 37.78, 34.56, 42.59, 42.59, 39.38, 37.78, 39.38, 45.81, 28.13, 44.2, 36.17, 40.99, 29.74, 34.56, 32.95, 37.78, 37.78, 32.95, 37.78, 34.56, 37.78, 31.35, 32.95, 47.42, 32.95, 34.56, 44.2, 40.99, 47.42, 36.17, 37.78, 39.38, 42.59, 40.99, 42.59, 37.78, 37.78, 36.17, 42.59, 47.42, 29.74, 28.13, 32.95, 39.38, 34.56, 40.99, 39.38, 39.38, 34.56, 31.35, 36.17, 37.78, 45.81, 36.17, 36.17, 31.35, 42.59, 39.38, 40.99, 34.56, 40.99, 40.99, 39.38, 37.78, 34.56, 42.59, 36.17, 42.59, 40.99], \"lon\": [-100.53, -80.95, -107.03, -76.99, -74.56, -101.19, -117.77, -151.13, -82.91, -122.03, -96.7, -76.99, -106.13, -83.68, -104.05, -87.34, -97.85, -119.34, -76.99, -90.46, -94.15, -121.97, -122.03, -87.13, -72.0, -72.43, -96.72, -78.55, -118.7, -72.0, -82.39, -96.7, -79.56, -91.64, -112.02, -79.47, -81.73, -85.62, -75.58, -87.27, -117.77, -85.32, -87.51, -82.73, -80.95, -104.05, -81.73, -85.21, -83.24, -122.03, -80.6, -117.77, -97.27, -117.77, -96.7, -83.24, -96.7, -104.05, -93.73, -82.91, -118.7, -79.56, -118.7, -74.56, -118.7, -105.55, -74.56, -117.77, -122.98, -87.46, -122.03, -79.78, -82.91, -116.76, -104.38, -80.6, -85.21, -96.7, -122.03, -119.34, -117.77, -83.08, -117.77, -96.7, -112.02, -112.02, -118.7, -96.7, -85.09, -87.2, -79.56, -75.58, -72.43, -122.03, -115.36, -80.6, -104.05, -80.6, -96.0, -117.77, -85.62, -93.64, -85.32, -118.7, -117.77, -96.7, -90.96, -81.23, -74.56, -87.34, -93.64, -98.01, -83.54, -92.31, -104.05, -118.7, -85.09, -99.09, -115.36, -85.42, -95.86, -91.46, -117.77, -118.7, -85.42, -72.0, -102.45, -89.45, -72.0, -89.51, -112.02, -96.7, -90.46, -80.6, -87.27, -93.46, -80.6, -88.59, -120.0, -87.13, -116.76, -87.34, -87.51, -72.43, -90.46, -74.56, -74.56, -77.29, -111.2, -75.58, -97.3, -115.36, -118.7, -99.09, -122.03, -117.77, -97.46, -95.72, -95.86, -116.76, -117.77, -80.91, -93.64, -118.7, -118.7, -115.36, -96.0, -118.7, -74.56, -80.6, -112.02, -89.47, -74.91, -112.02, -80.95, -96.7, -118.7, -80.6, -123.46, -72.0, -112.37, -103.73, -79.56, -116.76, -120.69, -116.76, -96.7, -122.03, -77.29, -116.76, -78.55, -89.45, -120.69, -122.03, -89.48, -93.46, -82.73, -122.98, -121.33, -112.9, -97.85, -116.76, -117.77, -122.03, -122.03, -117.77, -122.03, -118.7, -122.03, -81.05, -112.02, -121.97, -92.87, -118.7, -96.15, -85.21, -117.24, -115.36, -93.56, -89.48, -72.0, -74.56, -82.91, -122.03, -122.03, -115.36, -76.36, -121.97, -84.92, -82.73, -112.02, -104.05, -118.7, -83.08, -74.91, -95.72, -118.7, -111.2, -95.47, -122.03, -123.46, -75.58, -119.34, -98.01, -82.91, -76.99, -72.43, -118.7, -112.9, -112.9, -104.05, -97.63, -99.24, -82.91, -79.56, -72.0, -74.56], \"name\": \"\", \"radius\": 15, \"subplot\": \"mapbox\", \"type\": \"densitymapbox\", \"z\": [17.79083333, 9.879916667, 12.58191667, 12.07275, 9.836, 16.0105, 17.10016667, -0.162833333, 8.725833332999999, 15.42508333, 18.55375, 12.07275, 3.745833333, 14.85366667, 10.03691667, 10.25675, 20.36833333, 16.95825, 12.07275, 20.62916667, 20.43541667, 8.74075, 15.42508333, 17.5575, 7.775666667, 10.3985, 23.07441667, 8.10025, 16.94466667, 7.775666667, 23.87483333, 18.55375, 14.822000000000001, 8.711916667, 22.14558333, 19.1295, 16.28383333, 15.45466667, 16.19891667, 10.48158333, 17.10016667, 11.48975, 14.562000000000001, 22.54041667, 9.879916667, 10.03691667, 16.28383333, 17.19483333, 11.61433333, 15.42508333, 23.99991667, 17.10016667, 21.88083333, 17.10016667, 18.55375, 11.61433333, 18.55375, 10.03691667, 10.65733333, 8.725833332999999, 16.94466667, 14.822000000000001, 16.94466667, 9.836, 16.94466667, 16.93616667, 9.836, 17.10016667, 11.01066667, 13.71158333, 15.42508333, 16.81466667, 8.725833332999999, 18.19566667, 9.43625, 23.99991667, 9.875, 18.55375, 15.42508333, 16.95825, 17.10016667, 20.67058333, 17.10016667, 18.55375, 22.14558333, 22.14558333, 16.94466667, 18.55375, 8.798083333, 7.582000000000001, 14.822000000000001, 16.19891667, 10.3985, 15.42508333, 18.64958333, 23.99991667, 10.03691667, 23.99991667, 20.685, 17.10016667, 15.45466667, 12.55591667, 11.48975, 16.94466667, 17.10016667, 18.55375, 18.11766667, 21.6495, 9.836, 10.25675, 12.55591667, 19.04741667, 13.47058333, 20.50433333, 10.03691667, 16.94466667, 8.798083333, 22.09883333, 18.64958333, 13.34633333, 10.89808333, 16.79641667, 17.10016667, 16.94466667, 13.34633333, 7.775666667, 16.82733333, 8.70575, 7.775666667, 16.41825, 22.14558333, 18.55375, 20.62916667, 23.99991667, 10.48158333, 6.0360000000000005, 23.99991667, 18.77566667, 13.38183333, 17.5575, 18.19566667, 10.25675, 14.562000000000001, 10.3985, 20.62916667, 9.836, 9.836, 14.0305, 18.93216667, 16.19891667, 17.09666667, 18.64958333, 16.94466667, 22.09883333, 15.42508333, 17.10016667, 15.69658333, 12.69975, 10.89808333, 18.19566667, 17.10016667, 23.05866667, 12.55591667, 16.94466667, 16.94466667, 18.64958333, 20.685, 16.94466667, 9.836, 23.99991667, 22.14558333, 10.39941667, 12.07408333, 22.14558333, 9.879916667, 18.55375, 16.94466667, 23.99991667, 10.99125, 7.775666667, 10.63733333, 12.03883333, 14.822000000000001, 18.19566667, 12.48458333, 18.19566667, 18.55375, 15.42508333, 14.0305, 18.19566667, 8.10025, 8.70575, 12.48458333, 15.42508333, 12.18383333, 6.0360000000000005, 22.54041667, 11.01066667, 15.65733333, 11.96716667, 20.36833333, 18.19566667, 17.10016667, 15.42508333, 15.42508333, 17.10016667, 15.42508333, 16.94466667, 15.42508333, 19.89808333, 22.14558333, 8.74075, 18.07425, 16.94466667, 7.32125, 9.875, 9.3065, 18.64958333, 13.54625, 12.18383333, 7.775666667, 9.836, 8.725833332999999, 15.42508333, 15.42508333, 18.64958333, 7.995166667, 8.74075, 20.4865, 22.54041667, 22.14558333, 10.03691667, 16.94466667, 9.760333333, 12.07408333, 12.69975, 16.94466667, 18.93216667, 15.64141667, 15.42508333, 10.99125, 16.19891667, 16.95825, 19.04741667, 8.725833332999999, 12.07275, 10.3985, 16.94466667, 11.96716667, 11.96716667, 10.03691667, 13.89108333, 17.16016667, 8.725833332999999, 14.822000000000001, 7.775666667, 9.836]}],                        {\"coloraxis\": {\"colorbar\": {\"title\": {\"text\": \"Avg_Temp_Celsius\"}}, \"colorscale\": [[0.0, \"#0d0887\"], [0.1111111111111111, \"#46039f\"], [0.2222222222222222, \"#7201a8\"], [0.3333333333333333, \"#9c179e\"], [0.4444444444444444, \"#bd3786\"], [0.5555555555555556, \"#d8576b\"], [0.6666666666666666, \"#ed7953\"], [0.7777777777777778, \"#fb9f3a\"], [0.8888888888888888, \"#fdca26\"], [1.0, \"#f0f921\"]]}, \"legend\": {\"tracegroupgap\": 0}, \"mapbox\": {\"center\": {\"lat\": 37.78, \"lon\": -97.63}, \"domain\": {\"x\": [0.0, 1.0], \"y\": [0.0, 1.0]}, \"style\": \"stamen-terrain\", \"zoom\": 3}, \"margin\": {\"t\": 60}, \"template\": {\"data\": {\"bar\": [{\"error_x\": {\"color\": \"#2a3f5f\"}, \"error_y\": {\"color\": \"#2a3f5f\"}, \"marker\": {\"line\": {\"color\": \"#E5ECF6\", \"width\": 0.5}}, \"type\": \"bar\"}], \"barpolar\": [{\"marker\": {\"line\": {\"color\": \"#E5ECF6\", \"width\": 0.5}}, \"type\": \"barpolar\"}], \"carpet\": [{\"aaxis\": {\"endlinecolor\": \"#2a3f5f\", \"gridcolor\": \"white\", \"linecolor\": \"white\", \"minorgridcolor\": \"white\", \"startlinecolor\": \"#2a3f5f\"}, \"baxis\": {\"endlinecolor\": \"#2a3f5f\", \"gridcolor\": \"white\", \"linecolor\": \"white\", \"minorgridcolor\": \"white\", \"startlinecolor\": \"#2a3f5f\"}, \"type\": \"carpet\"}], \"choropleth\": [{\"colorbar\": {\"outlinewidth\": 0, \"ticks\": \"\"}, \"type\": \"choropleth\"}], \"contour\": [{\"colorbar\": {\"outlinewidth\": 0, \"ticks\": \"\"}, \"colorscale\": [[0.0, \"#0d0887\"], [0.1111111111111111, \"#46039f\"], [0.2222222222222222, \"#7201a8\"], [0.3333333333333333, \"#9c179e\"], [0.4444444444444444, \"#bd3786\"], [0.5555555555555556, \"#d8576b\"], [0.6666666666666666, \"#ed7953\"], [0.7777777777777778, \"#fb9f3a\"], [0.8888888888888888, \"#fdca26\"], [1.0, \"#f0f921\"]], \"type\": \"contour\"}], \"contourcarpet\": [{\"colorbar\": {\"outlinewidth\": 0, \"ticks\": \"\"}, \"type\": \"contourcarpet\"}], \"heatmap\": [{\"colorbar\": {\"outlinewidth\": 0, \"ticks\": \"\"}, \"colorscale\": [[0.0, \"#0d0887\"], [0.1111111111111111, \"#46039f\"], [0.2222222222222222, \"#7201a8\"], [0.3333333333333333, \"#9c179e\"], [0.4444444444444444, \"#bd3786\"], [0.5555555555555556, \"#d8576b\"], [0.6666666666666666, \"#ed7953\"], [0.7777777777777778, \"#fb9f3a\"], [0.8888888888888888, \"#fdca26\"], [1.0, \"#f0f921\"]], \"type\": \"heatmap\"}], \"heatmapgl\": [{\"colorbar\": {\"outlinewidth\": 0, \"ticks\": \"\"}, \"colorscale\": [[0.0, \"#0d0887\"], [0.1111111111111111, \"#46039f\"], [0.2222222222222222, \"#7201a8\"], [0.3333333333333333, \"#9c179e\"], [0.4444444444444444, \"#bd3786\"], [0.5555555555555556, \"#d8576b\"], [0.6666666666666666, \"#ed7953\"], [0.7777777777777778, \"#fb9f3a\"], [0.8888888888888888, \"#fdca26\"], [1.0, \"#f0f921\"]], \"type\": \"heatmapgl\"}], \"histogram\": [{\"marker\": {\"colorbar\": {\"outlinewidth\": 0, \"ticks\": \"\"}}, \"type\": \"histogram\"}], \"histogram2d\": [{\"colorbar\": {\"outlinewidth\": 0, \"ticks\": \"\"}, \"colorscale\": [[0.0, \"#0d0887\"], [0.1111111111111111, \"#46039f\"], [0.2222222222222222, \"#7201a8\"], [0.3333333333333333, \"#9c179e\"], [0.4444444444444444, \"#bd3786\"], [0.5555555555555556, \"#d8576b\"], [0.6666666666666666, \"#ed7953\"], [0.7777777777777778, \"#fb9f3a\"], [0.8888888888888888, \"#fdca26\"], [1.0, \"#f0f921\"]], \"type\": \"histogram2d\"}], \"histogram2dcontour\": [{\"colorbar\": {\"outlinewidth\": 0, \"ticks\": \"\"}, \"colorscale\": [[0.0, \"#0d0887\"], [0.1111111111111111, \"#46039f\"], [0.2222222222222222, \"#7201a8\"], [0.3333333333333333, \"#9c179e\"], [0.4444444444444444, \"#bd3786\"], [0.5555555555555556, \"#d8576b\"], [0.6666666666666666, \"#ed7953\"], [0.7777777777777778, \"#fb9f3a\"], [0.8888888888888888, \"#fdca26\"], [1.0, \"#f0f921\"]], \"type\": \"histogram2dcontour\"}], \"mesh3d\": [{\"colorbar\": {\"outlinewidth\": 0, \"ticks\": \"\"}, \"type\": \"mesh3d\"}], \"parcoords\": [{\"line\": {\"colorbar\": {\"outlinewidth\": 0, \"ticks\": \"\"}}, \"type\": \"parcoords\"}], \"pie\": [{\"automargin\": true, \"type\": \"pie\"}], \"scatter\": [{\"marker\": {\"colorbar\": {\"outlinewidth\": 0, \"ticks\": \"\"}}, \"type\": \"scatter\"}], \"scatter3d\": [{\"line\": {\"colorbar\": {\"outlinewidth\": 0, \"ticks\": \"\"}}, \"marker\": {\"colorbar\": {\"outlinewidth\": 0, \"ticks\": \"\"}}, \"type\": \"scatter3d\"}], \"scattercarpet\": [{\"marker\": {\"colorbar\": {\"outlinewidth\": 0, \"ticks\": \"\"}}, \"type\": \"scattercarpet\"}], \"scattergeo\": [{\"marker\": {\"colorbar\": {\"outlinewidth\": 0, \"ticks\": \"\"}}, \"type\": \"scattergeo\"}], \"scattergl\": [{\"marker\": {\"colorbar\": {\"outlinewidth\": 0, \"ticks\": \"\"}}, \"type\": \"scattergl\"}], \"scattermapbox\": [{\"marker\": {\"colorbar\": {\"outlinewidth\": 0, \"ticks\": \"\"}}, \"type\": \"scattermapbox\"}], \"scatterpolar\": [{\"marker\": {\"colorbar\": {\"outlinewidth\": 0, \"ticks\": \"\"}}, \"type\": \"scatterpolar\"}], \"scatterpolargl\": [{\"marker\": {\"colorbar\": {\"outlinewidth\": 0, \"ticks\": \"\"}}, \"type\": \"scatterpolargl\"}], \"scatterternary\": [{\"marker\": {\"colorbar\": {\"outlinewidth\": 0, \"ticks\": \"\"}}, \"type\": \"scatterternary\"}], \"surface\": [{\"colorbar\": {\"outlinewidth\": 0, \"ticks\": \"\"}, \"colorscale\": [[0.0, \"#0d0887\"], [0.1111111111111111, \"#46039f\"], [0.2222222222222222, \"#7201a8\"], [0.3333333333333333, \"#9c179e\"], [0.4444444444444444, \"#bd3786\"], [0.5555555555555556, \"#d8576b\"], [0.6666666666666666, \"#ed7953\"], [0.7777777777777778, \"#fb9f3a\"], [0.8888888888888888, \"#fdca26\"], [1.0, \"#f0f921\"]], \"type\": \"surface\"}], \"table\": [{\"cells\": {\"fill\": {\"color\": \"#EBF0F8\"}, \"line\": {\"color\": \"white\"}}, \"header\": {\"fill\": {\"color\": \"#C8D4E3\"}, \"line\": {\"color\": \"white\"}}, \"type\": \"table\"}]}, \"layout\": {\"annotationdefaults\": {\"arrowcolor\": \"#2a3f5f\", \"arrowhead\": 0, \"arrowwidth\": 1}, \"autotypenumbers\": \"strict\", \"coloraxis\": {\"colorbar\": {\"outlinewidth\": 0, \"ticks\": \"\"}}, \"colorscale\": {\"diverging\": [[0, \"#8e0152\"], [0.1, \"#c51b7d\"], [0.2, \"#de77ae\"], [0.3, \"#f1b6da\"], [0.4, \"#fde0ef\"], [0.5, \"#f7f7f7\"], [0.6, \"#e6f5d0\"], [0.7, \"#b8e186\"], [0.8, \"#7fbc41\"], [0.9, \"#4d9221\"], [1, \"#276419\"]], \"sequential\": [[0.0, \"#0d0887\"], [0.1111111111111111, \"#46039f\"], [0.2222222222222222, \"#7201a8\"], [0.3333333333333333, \"#9c179e\"], [0.4444444444444444, \"#bd3786\"], [0.5555555555555556, \"#d8576b\"], [0.6666666666666666, \"#ed7953\"], [0.7777777777777778, \"#fb9f3a\"], [0.8888888888888888, \"#fdca26\"], [1.0, \"#f0f921\"]], \"sequentialminus\": [[0.0, \"#0d0887\"], [0.1111111111111111, \"#46039f\"], [0.2222222222222222, \"#7201a8\"], [0.3333333333333333, \"#9c179e\"], [0.4444444444444444, \"#bd3786\"], [0.5555555555555556, \"#d8576b\"], [0.6666666666666666, \"#ed7953\"], [0.7777777777777778, \"#fb9f3a\"], [0.8888888888888888, \"#fdca26\"], [1.0, \"#f0f921\"]]}, \"colorway\": [\"#636efa\", \"#EF553B\", \"#00cc96\", \"#ab63fa\", \"#FFA15A\", \"#19d3f3\", \"#FF6692\", \"#B6E880\", \"#FF97FF\", \"#FECB52\"], \"font\": {\"color\": \"#2a3f5f\"}, \"geo\": {\"bgcolor\": \"white\", \"lakecolor\": \"white\", \"landcolor\": \"#E5ECF6\", \"showlakes\": true, \"showland\": true, \"subunitcolor\": \"white\"}, \"hoverlabel\": {\"align\": \"left\"}, \"hovermode\": \"closest\", \"mapbox\": {\"style\": \"light\"}, \"paper_bgcolor\": \"white\", \"plot_bgcolor\": \"#E5ECF6\", \"polar\": {\"angularaxis\": {\"gridcolor\": \"white\", \"linecolor\": \"white\", \"ticks\": \"\"}, \"bgcolor\": \"#E5ECF6\", \"radialaxis\": {\"gridcolor\": \"white\", \"linecolor\": \"white\", \"ticks\": \"\"}}, \"scene\": {\"xaxis\": {\"backgroundcolor\": \"#E5ECF6\", \"gridcolor\": \"white\", \"gridwidth\": 2, \"linecolor\": \"white\", \"showbackground\": true, \"ticks\": \"\", \"zerolinecolor\": \"white\"}, \"yaxis\": {\"backgroundcolor\": \"#E5ECF6\", \"gridcolor\": \"white\", \"gridwidth\": 2, \"linecolor\": \"white\", \"showbackground\": true, \"ticks\": \"\", \"zerolinecolor\": \"white\"}, \"zaxis\": {\"backgroundcolor\": \"#E5ECF6\", \"gridcolor\": \"white\", \"gridwidth\": 2, \"linecolor\": \"white\", \"showbackground\": true, \"ticks\": \"\", \"zerolinecolor\": \"white\"}}, \"shapedefaults\": {\"line\": {\"color\": \"#2a3f5f\"}}, \"ternary\": {\"aaxis\": {\"gridcolor\": \"white\", \"linecolor\": \"white\", \"ticks\": \"\"}, \"baxis\": {\"gridcolor\": \"white\", \"linecolor\": \"white\", \"ticks\": \"\"}, \"bgcolor\": \"#E5ECF6\", \"caxis\": {\"gridcolor\": \"white\", \"linecolor\": \"white\", \"ticks\": \"\"}}, \"title\": {\"x\": 0.05}, \"xaxis\": {\"automargin\": true, \"gridcolor\": \"white\", \"linecolor\": \"white\", \"ticks\": \"\", \"title\": {\"standoff\": 15}, \"zerolinecolor\": \"white\", \"zerolinewidth\": 2}, \"yaxis\": {\"automargin\": true, \"gridcolor\": \"white\", \"linecolor\": \"white\", \"ticks\": \"\", \"title\": {\"standoff\": 15}, \"zerolinecolor\": \"white\", \"zerolinewidth\": 2}}}},                        {\"responsive\": true}                    ).then(function(){\n",
       "                            \n",
       "var gd = document.getElementById('46f2746b-de71-41e0-a2f4-30bbe7a63d78');\n",
       "var x = new MutationObserver(function (mutations, observer) {{\n",
       "        var display = window.getComputedStyle(gd).display;\n",
       "        if (!display || display === 'none') {{\n",
       "            console.log([gd, 'removed!']);\n",
       "            Plotly.purge(gd);\n",
       "            observer.disconnect();\n",
       "        }}\n",
       "}});\n",
       "\n",
       "// Listen for the removal of the full notebook cells\n",
       "var notebookContainer = gd.closest('#notebook-container');\n",
       "if (notebookContainer) {{\n",
       "    x.observe(notebookContainer, {childList: true});\n",
       "}}\n",
       "\n",
       "// Listen for the clearing of the current output cell\n",
       "var outputEl = gd.closest('.output');\n",
       "if (outputEl) {{\n",
       "    x.observe(outputEl, {childList: true});\n",
       "}}\n",
       "\n",
       "                        })                };                });            </script>        </div>"
      ]
     },
     "metadata": {},
     "output_type": "display_data"
    }
   ],
   "source": [
    "df = pd.read_csv('2003.csv')\n",
    "\n",
    "import plotly.express as px\n",
    "fig = px.density_mapbox(df, lat='Lat', lon='Long', z='Avg_Temp_Celsius',hover_name='City', radius=15,\n",
    "                        center=dict(lat=37.78, lon=-97.63), zoom=3,\n",
    "                        mapbox_style=\"stamen-terrain\")\n",
    "fig.show()"
   ]
  },
  {
   "cell_type": "code",
   "execution_count": 26,
   "metadata": {},
   "outputs": [
    {
     "data": {
      "application/vnd.plotly.v1+json": {
       "config": {
        "plotlyServerURL": "https://plot.ly"
       },
       "data": [
        {
         "coloraxis": "coloraxis",
         "hovertemplate": "<b>%{hovertext}</b><br><br>Avg_Temp_Celsius=%{z}<br>Lat=%{lat}<br>Long=%{lon}<extra></extra>",
         "hovertext": [
          "Abilene",
          "Akron",
          "Albuquerque",
          "Alexandria",
          "Allentown",
          "Amarillo",
          "Anaheim",
          "Anchorage",
          "Ann Arbor",
          "Antioch",
          "Arlington",
          "Arlington",
          "Arvada",
          "Atlanta",
          "Aurora",
          "Aurora",
          "Austin",
          "Bakersfield",
          "Baltimore",
          "Baton Rouge",
          "Beaumont",
          "Bellevue",
          "Berkeley",
          "Birmingham",
          "Boston",
          "Bridgeport",
          "Brownsville",
          "Buffalo",
          "Burbank",
          "Cambridge",
          "Cape Coral",
          "Carrollton",
          "Cary",
          "Cedar Rapids",
          "Chandler",
          "Charleston",
          "Charlotte",
          "Chattanooga",
          "Chesapeake",
          "Chicago",
          "Chula Vista",
          "Cincinnati",
          "Clarksville",
          "Clearwater",
          "Cleveland",
          "Colorado Springs",
          "Columbia",
          "Columbus",
          "Columbus",
          "Concord",
          "Coral Springs",
          "Corona",
          "Corpus Christi",
          "Costa Mesa",
          "Dallas",
          "Dayton",
          "Denton",
          "Denver",
          "Des Moines",
          "Detroit",
          "Downey",
          "Durham",
          "East Los Angeles",
          "Edison",
          "El Monte",
          "El Paso",
          "Elizabeth",
          "Escondido",
          "Eugene",
          "Evansville",
          "Fairfield",
          "Fayetteville",
          "Flint",
          "Fontana",
          "Fort Collins",
          "Fort Lauderdale",
          "Fort Wayne",
          "Fort Worth",
          "Fremont",
          "Fresno",
          "Fullerton",
          "Gainesville",
          "Garden Grove",
          "Garland",
          "Gilbert",
          "Glendale",
          "Glendale",
          "Grand Prairie",
          "Grand Rapids",
          "Green Bay",
          "Greensboro",
          "Hampton",
          "Hartford",
          "Hayward",
          "Henderson",
          "Hialeah",
          "Highlands Ranch",
          "Hollywood",
          "Houston",
          "Huntington Beach",
          "Huntsville",
          "Independence",
          "Indianapolis",
          "Inglewood",
          "Irvine",
          "Irving",
          "Jackson",
          "Jacksonville",
          "Jersey City",
          "Joliet",
          "Kansas City",
          "Killeen",
          "Knoxville",
          "Lafayette",
          "Lakewood",
          "Lancaster",
          "Lansing",
          "Laredo",
          "Las Vegas",
          "Lexington Fayette",
          "Lincoln",
          "Little Rock",
          "Long Beach",
          "Los Angeles",
          "Louisville",
          "Lowell",
          "Lubbock",
          "Madison",
          "Manchester",
          "Memphis",
          "Mesa",
          "Mesquite",
          "Metairie",
          "Miami",
          "Milwaukee",
          "Minneapolis",
          "Miramar",
          "Mobile",
          "Modesto",
          "Montgomery",
          "Moreno Valley",
          "Naperville",
          "Nashville",
          "New Haven",
          "New Orleans",
          "New York",
          "Newark",
          "Newport News",
          "Nogales",
          "Norfolk",
          "Norman",
          "North Las Vegas",
          "Norwalk",
          "Nuevo Laredo",
          "Oakland",
          "Oceanside",
          "Oklahoma City",
          "Olathe",
          "Omaha",
          "Ontario",
          "Orange",
          "Orlando",
          "Overland Park",
          "Oxnard",
          "Palmdale",
          "Paradise",
          "Pasadena",
          "Pasadena",
          "Paterson",
          "Pembroke Pines",
          "Peoria",
          "Peoria",
          "Philadelphia",
          "Phoenix",
          "Pittsburgh",
          "Plano",
          "Pomona",
          "Port Saint Lucie",
          "Portland",
          "Providence",
          "Provo",
          "Pueblo",
          "Raleigh",
          "Rancho Cucamonga",
          "Reno",
          "Rialto",
          "Richardson",
          "Richmond",
          "Richmond",
          "Riverside",
          "Rochester",
          "Rockford",
          "Roseville",
          "Sacramento",
          "Saint Louis",
          "Saint Paul",
          "Saint Petersburg",
          "Salem",
          "Salinas",
          "Salt Lake City",
          "San Antonio",
          "San Bernardino",
          "San Diego",
          "San Francisco",
          "San Jose",
          "Santa Ana",
          "Santa Clara",
          "Santa Clarita",
          "Santa Rosa",
          "Savannah",
          "Scottsdale",
          "Seattle",
          "Shreveport",
          "Simi Valley",
          "Sioux Falls",
          "South Bend",
          "Spokane",
          "Spring Valley",
          "Springfield",
          "Springfield",
          "Springfield",
          "Stamford",
          "Sterling Heights",
          "Stockton",
          "Sunnyvale",
          "Sunrise Manor",
          "Syracuse",
          "Tacoma",
          "Tallahassee",
          "Tampa",
          "Tempe",
          "Thornton",
          "Thousand Oaks",
          "Toledo",
          "Toms River",
          "Topeka",
          "Torrance",
          "Tucson",
          "Tulsa",
          "Vallejo",
          "Vancouver",
          "Virginia Beach",
          "Visalia",
          "Waco",
          "Warren",
          "Washington",
          "Waterbury",
          "West Covina",
          "West Jordan",
          "West Valley City",
          "Westminster",
          "Wichita",
          "Wichita Falls",
          "Windsor",
          "Winston Salem",
          "Worcester",
          "Yonkers"
         ],
         "lat": [
          32.95,
          40.99,
          34.56,
          39.38,
          40.99,
          34.56,
          32.95,
          61.88,
          42.59,
          37.78,
          32.95,
          39.38,
          39.38,
          34.56,
          39.38,
          40.99,
          29.74,
          36.17,
          39.38,
          29.74,
          29.74,
          47.42,
          37.78,
          32.95,
          42.59,
          40.99,
          26.52,
          42.59,
          34.56,
          42.59,
          26.52,
          32.95,
          36.17,
          42.59,
          32.95,
          32.95,
          34.56,
          34.56,
          36.17,
          42.59,
          32.95,
          39.38,
          36.17,
          28.13,
          40.99,
          39.38,
          34.56,
          32.95,
          39.38,
          37.78,
          26.52,
          32.95,
          28.13,
          32.95,
          32.95,
          39.38,
          32.95,
          39.38,
          40.99,
          42.59,
          34.56,
          36.17,
          34.56,
          40.99,
          34.56,
          31.35,
          40.99,
          32.95,
          44.2,
          37.78,
          37.78,
          34.56,
          42.59,
          34.56,
          40.99,
          26.52,
          40.99,
          32.95,
          37.78,
          36.17,
          32.95,
          29.74,
          32.95,
          32.95,
          32.95,
          32.95,
          34.56,
          32.95,
          42.59,
          44.2,
          36.17,
          36.17,
          40.99,
          37.78,
          36.17,
          26.52,
          39.38,
          26.52,
          29.74,
          32.95,
          34.56,
          39.38,
          39.38,
          34.56,
          32.95,
          32.95,
          32.95,
          29.74,
          40.99,
          40.99,
          39.38,
          31.35,
          36.17,
          29.74,
          39.38,
          34.56,
          42.59,
          28.13,
          36.17,
          37.78,
          40.99,
          34.56,
          32.95,
          34.56,
          37.78,
          42.59,
          32.95,
          42.59,
          42.59,
          34.56,
          32.95,
          32.95,
          29.74,
          26.52,
          42.59,
          45.81,
          26.52,
          31.35,
          37.78,
          32.95,
          34.56,
          40.99,
          36.17,
          40.99,
          29.74,
          40.99,
          40.99,
          37.78,
          31.35,
          36.17,
          34.56,
          36.17,
          34.56,
          28.13,
          37.78,
          32.95,
          36.17,
          39.38,
          40.99,
          34.56,
          32.95,
          28.13,
          39.38,
          34.56,
          34.56,
          36.17,
          29.74,
          34.56,
          40.99,
          26.52,
          32.95,
          40.99,
          39.38,
          32.95,
          40.99,
          32.95,
          34.56,
          26.52,
          45.81,
          42.59,
          39.38,
          37.78,
          36.17,
          34.56,
          39.38,
          34.56,
          32.95,
          37.78,
          37.78,
          34.56,
          42.59,
          42.59,
          39.38,
          37.78,
          39.38,
          45.81,
          28.13,
          44.2,
          36.17,
          40.99,
          29.74,
          34.56,
          32.95,
          37.78,
          37.78,
          32.95,
          37.78,
          34.56,
          37.78,
          31.35,
          32.95,
          47.42,
          32.95,
          34.56,
          44.2,
          40.99,
          47.42,
          36.17,
          37.78,
          39.38,
          42.59,
          40.99,
          42.59,
          37.78,
          37.78,
          36.17,
          42.59,
          47.42,
          29.74,
          28.13,
          32.95,
          39.38,
          34.56,
          40.99,
          39.38,
          39.38,
          34.56,
          31.35,
          36.17,
          37.78,
          45.81,
          36.17,
          36.17,
          31.35,
          42.59,
          39.38,
          40.99,
          34.56,
          40.99,
          40.99,
          39.38,
          37.78,
          34.56,
          42.59,
          36.17,
          42.59,
          40.99
         ],
         "lon": [
          -100.53,
          -80.95,
          -107.03,
          -76.99,
          -74.56,
          -101.19,
          -117.77,
          -151.13,
          -82.91,
          -122.03,
          -96.7,
          -76.99,
          -106.13,
          -83.68,
          -104.05,
          -87.34,
          -97.85,
          -119.34,
          -76.99,
          -90.46,
          -94.15,
          -121.97,
          -122.03,
          -87.13,
          -72,
          -72.43,
          -96.72,
          -78.55,
          -118.7,
          -72,
          -82.39,
          -96.7,
          -79.56,
          -91.64,
          -112.02,
          -79.47,
          -81.73,
          -85.62,
          -75.58,
          -87.27,
          -117.77,
          -85.32,
          -87.51,
          -82.73,
          -80.95,
          -104.05,
          -81.73,
          -85.21,
          -83.24,
          -122.03,
          -80.6,
          -117.77,
          -97.27,
          -117.77,
          -96.7,
          -83.24,
          -96.7,
          -104.05,
          -93.73,
          -82.91,
          -118.7,
          -79.56,
          -118.7,
          -74.56,
          -118.7,
          -105.55,
          -74.56,
          -117.77,
          -122.98,
          -87.46,
          -122.03,
          -79.78,
          -82.91,
          -116.76,
          -104.38,
          -80.6,
          -85.21,
          -96.7,
          -122.03,
          -119.34,
          -117.77,
          -83.08,
          -117.77,
          -96.7,
          -112.02,
          -112.02,
          -118.7,
          -96.7,
          -85.09,
          -87.2,
          -79.56,
          -75.58,
          -72.43,
          -122.03,
          -115.36,
          -80.6,
          -104.05,
          -80.6,
          -96,
          -117.77,
          -85.62,
          -93.64,
          -85.32,
          -118.7,
          -117.77,
          -96.7,
          -90.96,
          -81.23,
          -74.56,
          -87.34,
          -93.64,
          -98.01,
          -83.54,
          -92.31,
          -104.05,
          -118.7,
          -85.09,
          -99.09,
          -115.36,
          -85.42,
          -95.86,
          -91.46,
          -117.77,
          -118.7,
          -85.42,
          -72,
          -102.45,
          -89.45,
          -72,
          -89.51,
          -112.02,
          -96.7,
          -90.46,
          -80.6,
          -87.27,
          -93.46,
          -80.6,
          -88.59,
          -120,
          -87.13,
          -116.76,
          -87.34,
          -87.51,
          -72.43,
          -90.46,
          -74.56,
          -74.56,
          -77.29,
          -111.2,
          -75.58,
          -97.3,
          -115.36,
          -118.7,
          -99.09,
          -122.03,
          -117.77,
          -97.46,
          -95.72,
          -95.86,
          -116.76,
          -117.77,
          -80.91,
          -93.64,
          -118.7,
          -118.7,
          -115.36,
          -96,
          -118.7,
          -74.56,
          -80.6,
          -112.02,
          -89.47,
          -74.91,
          -112.02,
          -80.95,
          -96.7,
          -118.7,
          -80.6,
          -123.46,
          -72,
          -112.37,
          -103.73,
          -79.56,
          -116.76,
          -120.69,
          -116.76,
          -96.7,
          -122.03,
          -77.29,
          -116.76,
          -78.55,
          -89.45,
          -120.69,
          -122.03,
          -89.48,
          -93.46,
          -82.73,
          -122.98,
          -121.33,
          -112.9,
          -97.85,
          -116.76,
          -117.77,
          -122.03,
          -122.03,
          -117.77,
          -122.03,
          -118.7,
          -122.03,
          -81.05,
          -112.02,
          -121.97,
          -92.87,
          -118.7,
          -96.15,
          -85.21,
          -117.24,
          -115.36,
          -93.56,
          -89.48,
          -72,
          -74.56,
          -82.91,
          -122.03,
          -122.03,
          -115.36,
          -76.36,
          -121.97,
          -84.92,
          -82.73,
          -112.02,
          -104.05,
          -118.7,
          -83.08,
          -74.91,
          -95.72,
          -118.7,
          -111.2,
          -95.47,
          -122.03,
          -123.46,
          -75.58,
          -119.34,
          -98.01,
          -82.91,
          -76.99,
          -72.43,
          -118.7,
          -112.9,
          -112.9,
          -104.05,
          -97.63,
          -99.24,
          -82.91,
          -79.56,
          -72,
          -74.56
         ],
         "name": "",
         "radius": 15,
         "subplot": "mapbox",
         "type": "densitymapbox",
         "z": [
          19.41111111,
          11.87066667,
          13.63077778,
          14.18766667,
          12.16388889,
          17.52955556,
          17.18077778,
          1.01875,
          10.89722222,
          16.23366667,
          20.45077778,
          14.18766667,
          4.473111111000001,
          16.13677778,
          11.20577778,
          12.15344444,
          22.18266667,
          18.67566667,
          14.18766667,
          21.99522222,
          21.82055556,
          9.946444443999999,
          16.23366667,
          18.98388889,
          10.37566667,
          12.32911111,
          23.76422222,
          10.27944444,
          18.12066667,
          10.37566667,
          23.97433333,
          20.45077778,
          16.23144444,
          10.42022222,
          23.56455556,
          20.21411111,
          17.705,
          16.90533333,
          17.288,
          11.58688889,
          17.18077778,
          13.39833333,
          16.17244444,
          23.54666667,
          11.87066667,
          11.20577778,
          17.705,
          18.63877778,
          13.45588889,
          16.23366667,
          24.44011111,
          17.18077778,
          23.409000000000002,
          17.18077778,
          20.45077778,
          13.45588889,
          20.45077778,
          11.20577778,
          12.28611111,
          10.89722222,
          18.12066667,
          16.23144444,
          18.12066667,
          12.16388889,
          18.12066667,
          18.24088889,
          12.16388889,
          17.18077778,
          12.03266667,
          15.39755556,
          16.23366667,
          18.23077778,
          10.89722222,
          19.86533333,
          10.72955556,
          24.44011111,
          11.99433333,
          20.45077778,
          16.23366667,
          18.67566667,
          17.18077778,
          21.97788889,
          17.18077778,
          20.45077778,
          23.56455556,
          23.56455556,
          18.12066667,
          20.45077778,
          10.75933333,
          8.829,
          16.23144444,
          17.288,
          12.32911111,
          16.23366667,
          20.538,
          24.44011111,
          11.20577778,
          24.44011111,
          22.28022222,
          17.18077778,
          16.90533333,
          13.98966667,
          13.39833333,
          18.12066667,
          17.18077778,
          20.45077778,
          19.65644444,
          22.49377778,
          12.16388889,
          12.15344444,
          13.98966667,
          20.87122222,
          14.82477778,
          21.77655556,
          11.20577778,
          18.12066667,
          10.75933333,
          24.10222222,
          20.538,
          15.03111111,
          12.55877778,
          18.30811111,
          17.18077778,
          18.12066667,
          15.03111111,
          10.37566667,
          18.16644444,
          10.17622222,
          10.37566667,
          17.92566667,
          23.56455556,
          20.45077778,
          21.99522222,
          24.44011111,
          11.58688889,
          7.257444444,
          24.44011111,
          20.25233333,
          15.02088889,
          18.98388889,
          19.86533333,
          12.15344444,
          16.17244444,
          12.32911111,
          21.99522222,
          12.16388889,
          12.16388889,
          15.67722222,
          19.712,
          17.288,
          18.73988889,
          20.538,
          18.12066667,
          24.10222222,
          16.23366667,
          17.18077778,
          17.21477778,
          14.10144444,
          12.55877778,
          19.86533333,
          17.18077778,
          23.77077778,
          13.98966667,
          18.12066667,
          18.12066667,
          20.538,
          22.28022222,
          18.12066667,
          12.16388889,
          24.44011111,
          23.56455556,
          12.20422222,
          14.01366667,
          23.56455556,
          11.87066667,
          20.45077778,
          18.12066667,
          24.44011111,
          11.73533333,
          10.37566667,
          11.36155556,
          13.42411111,
          16.23144444,
          19.86533333,
          13.91533333,
          19.86533333,
          20.45077778,
          16.23366667,
          15.67722222,
          19.86533333,
          10.27944444,
          10.17622222,
          13.91533333,
          16.23366667,
          13.93588889,
          7.257444444,
          23.54666667,
          12.03266667,
          16.558,
          12.60022222,
          22.18266667,
          19.86533333,
          17.18077778,
          16.23366667,
          16.23366667,
          17.18077778,
          16.23366667,
          18.12066667,
          16.23366667,
          20.96911111,
          23.56455556,
          9.946444443999999,
          19.57322222,
          18.12066667,
          8.679,
          11.99433333,
          10.94711111,
          20.538,
          15.06466667,
          13.93588889,
          10.37566667,
          12.16388889,
          10.89722222,
          16.23366667,
          16.23366667,
          20.538,
          10.18011111,
          9.946444443999999,
          21.76022222,
          23.54666667,
          23.56455556,
          11.20577778,
          18.12066667,
          11.99366667,
          14.01366667,
          14.10144444,
          18.12066667,
          19.712,
          17.11977778,
          16.23366667,
          11.73533333,
          17.288,
          18.67566667,
          20.87122222,
          10.89722222,
          14.18766667,
          12.32911111,
          18.12066667,
          12.60022222,
          12.60022222,
          11.20577778,
          15.334000000000001,
          18.93255556,
          10.89722222,
          16.23144444,
          10.37566667,
          12.16388889
         ]
        }
       ],
       "layout": {
        "coloraxis": {
         "colorbar": {
          "title": {
           "text": "Avg_Temp_Celsius"
          }
         },
         "colorscale": [
          [
           0,
           "#0d0887"
          ],
          [
           0.1111111111111111,
           "#46039f"
          ],
          [
           0.2222222222222222,
           "#7201a8"
          ],
          [
           0.3333333333333333,
           "#9c179e"
          ],
          [
           0.4444444444444444,
           "#bd3786"
          ],
          [
           0.5555555555555556,
           "#d8576b"
          ],
          [
           0.6666666666666666,
           "#ed7953"
          ],
          [
           0.7777777777777778,
           "#fb9f3a"
          ],
          [
           0.8888888888888888,
           "#fdca26"
          ],
          [
           1,
           "#f0f921"
          ]
         ]
        },
        "legend": {
         "tracegroupgap": 0
        },
        "mapbox": {
         "center": {
          "lat": 37.78,
          "lon": -97.63
         },
         "domain": {
          "x": [
           0,
           1
          ],
          "y": [
           0,
           1
          ]
         },
         "style": "stamen-terrain",
         "zoom": 3
        },
        "margin": {
         "t": 60
        },
        "template": {
         "data": {
          "bar": [
           {
            "error_x": {
             "color": "#2a3f5f"
            },
            "error_y": {
             "color": "#2a3f5f"
            },
            "marker": {
             "line": {
              "color": "#E5ECF6",
              "width": 0.5
             }
            },
            "type": "bar"
           }
          ],
          "barpolar": [
           {
            "marker": {
             "line": {
              "color": "#E5ECF6",
              "width": 0.5
             }
            },
            "type": "barpolar"
           }
          ],
          "carpet": [
           {
            "aaxis": {
             "endlinecolor": "#2a3f5f",
             "gridcolor": "white",
             "linecolor": "white",
             "minorgridcolor": "white",
             "startlinecolor": "#2a3f5f"
            },
            "baxis": {
             "endlinecolor": "#2a3f5f",
             "gridcolor": "white",
             "linecolor": "white",
             "minorgridcolor": "white",
             "startlinecolor": "#2a3f5f"
            },
            "type": "carpet"
           }
          ],
          "choropleth": [
           {
            "colorbar": {
             "outlinewidth": 0,
             "ticks": ""
            },
            "type": "choropleth"
           }
          ],
          "contour": [
           {
            "colorbar": {
             "outlinewidth": 0,
             "ticks": ""
            },
            "colorscale": [
             [
              0,
              "#0d0887"
             ],
             [
              0.1111111111111111,
              "#46039f"
             ],
             [
              0.2222222222222222,
              "#7201a8"
             ],
             [
              0.3333333333333333,
              "#9c179e"
             ],
             [
              0.4444444444444444,
              "#bd3786"
             ],
             [
              0.5555555555555556,
              "#d8576b"
             ],
             [
              0.6666666666666666,
              "#ed7953"
             ],
             [
              0.7777777777777778,
              "#fb9f3a"
             ],
             [
              0.8888888888888888,
              "#fdca26"
             ],
             [
              1,
              "#f0f921"
             ]
            ],
            "type": "contour"
           }
          ],
          "contourcarpet": [
           {
            "colorbar": {
             "outlinewidth": 0,
             "ticks": ""
            },
            "type": "contourcarpet"
           }
          ],
          "heatmap": [
           {
            "colorbar": {
             "outlinewidth": 0,
             "ticks": ""
            },
            "colorscale": [
             [
              0,
              "#0d0887"
             ],
             [
              0.1111111111111111,
              "#46039f"
             ],
             [
              0.2222222222222222,
              "#7201a8"
             ],
             [
              0.3333333333333333,
              "#9c179e"
             ],
             [
              0.4444444444444444,
              "#bd3786"
             ],
             [
              0.5555555555555556,
              "#d8576b"
             ],
             [
              0.6666666666666666,
              "#ed7953"
             ],
             [
              0.7777777777777778,
              "#fb9f3a"
             ],
             [
              0.8888888888888888,
              "#fdca26"
             ],
             [
              1,
              "#f0f921"
             ]
            ],
            "type": "heatmap"
           }
          ],
          "heatmapgl": [
           {
            "colorbar": {
             "outlinewidth": 0,
             "ticks": ""
            },
            "colorscale": [
             [
              0,
              "#0d0887"
             ],
             [
              0.1111111111111111,
              "#46039f"
             ],
             [
              0.2222222222222222,
              "#7201a8"
             ],
             [
              0.3333333333333333,
              "#9c179e"
             ],
             [
              0.4444444444444444,
              "#bd3786"
             ],
             [
              0.5555555555555556,
              "#d8576b"
             ],
             [
              0.6666666666666666,
              "#ed7953"
             ],
             [
              0.7777777777777778,
              "#fb9f3a"
             ],
             [
              0.8888888888888888,
              "#fdca26"
             ],
             [
              1,
              "#f0f921"
             ]
            ],
            "type": "heatmapgl"
           }
          ],
          "histogram": [
           {
            "marker": {
             "colorbar": {
              "outlinewidth": 0,
              "ticks": ""
             }
            },
            "type": "histogram"
           }
          ],
          "histogram2d": [
           {
            "colorbar": {
             "outlinewidth": 0,
             "ticks": ""
            },
            "colorscale": [
             [
              0,
              "#0d0887"
             ],
             [
              0.1111111111111111,
              "#46039f"
             ],
             [
              0.2222222222222222,
              "#7201a8"
             ],
             [
              0.3333333333333333,
              "#9c179e"
             ],
             [
              0.4444444444444444,
              "#bd3786"
             ],
             [
              0.5555555555555556,
              "#d8576b"
             ],
             [
              0.6666666666666666,
              "#ed7953"
             ],
             [
              0.7777777777777778,
              "#fb9f3a"
             ],
             [
              0.8888888888888888,
              "#fdca26"
             ],
             [
              1,
              "#f0f921"
             ]
            ],
            "type": "histogram2d"
           }
          ],
          "histogram2dcontour": [
           {
            "colorbar": {
             "outlinewidth": 0,
             "ticks": ""
            },
            "colorscale": [
             [
              0,
              "#0d0887"
             ],
             [
              0.1111111111111111,
              "#46039f"
             ],
             [
              0.2222222222222222,
              "#7201a8"
             ],
             [
              0.3333333333333333,
              "#9c179e"
             ],
             [
              0.4444444444444444,
              "#bd3786"
             ],
             [
              0.5555555555555556,
              "#d8576b"
             ],
             [
              0.6666666666666666,
              "#ed7953"
             ],
             [
              0.7777777777777778,
              "#fb9f3a"
             ],
             [
              0.8888888888888888,
              "#fdca26"
             ],
             [
              1,
              "#f0f921"
             ]
            ],
            "type": "histogram2dcontour"
           }
          ],
          "mesh3d": [
           {
            "colorbar": {
             "outlinewidth": 0,
             "ticks": ""
            },
            "type": "mesh3d"
           }
          ],
          "parcoords": [
           {
            "line": {
             "colorbar": {
              "outlinewidth": 0,
              "ticks": ""
             }
            },
            "type": "parcoords"
           }
          ],
          "pie": [
           {
            "automargin": true,
            "type": "pie"
           }
          ],
          "scatter": [
           {
            "marker": {
             "colorbar": {
              "outlinewidth": 0,
              "ticks": ""
             }
            },
            "type": "scatter"
           }
          ],
          "scatter3d": [
           {
            "line": {
             "colorbar": {
              "outlinewidth": 0,
              "ticks": ""
             }
            },
            "marker": {
             "colorbar": {
              "outlinewidth": 0,
              "ticks": ""
             }
            },
            "type": "scatter3d"
           }
          ],
          "scattercarpet": [
           {
            "marker": {
             "colorbar": {
              "outlinewidth": 0,
              "ticks": ""
             }
            },
            "type": "scattercarpet"
           }
          ],
          "scattergeo": [
           {
            "marker": {
             "colorbar": {
              "outlinewidth": 0,
              "ticks": ""
             }
            },
            "type": "scattergeo"
           }
          ],
          "scattergl": [
           {
            "marker": {
             "colorbar": {
              "outlinewidth": 0,
              "ticks": ""
             }
            },
            "type": "scattergl"
           }
          ],
          "scattermapbox": [
           {
            "marker": {
             "colorbar": {
              "outlinewidth": 0,
              "ticks": ""
             }
            },
            "type": "scattermapbox"
           }
          ],
          "scatterpolar": [
           {
            "marker": {
             "colorbar": {
              "outlinewidth": 0,
              "ticks": ""
             }
            },
            "type": "scatterpolar"
           }
          ],
          "scatterpolargl": [
           {
            "marker": {
             "colorbar": {
              "outlinewidth": 0,
              "ticks": ""
             }
            },
            "type": "scatterpolargl"
           }
          ],
          "scatterternary": [
           {
            "marker": {
             "colorbar": {
              "outlinewidth": 0,
              "ticks": ""
             }
            },
            "type": "scatterternary"
           }
          ],
          "surface": [
           {
            "colorbar": {
             "outlinewidth": 0,
             "ticks": ""
            },
            "colorscale": [
             [
              0,
              "#0d0887"
             ],
             [
              0.1111111111111111,
              "#46039f"
             ],
             [
              0.2222222222222222,
              "#7201a8"
             ],
             [
              0.3333333333333333,
              "#9c179e"
             ],
             [
              0.4444444444444444,
              "#bd3786"
             ],
             [
              0.5555555555555556,
              "#d8576b"
             ],
             [
              0.6666666666666666,
              "#ed7953"
             ],
             [
              0.7777777777777778,
              "#fb9f3a"
             ],
             [
              0.8888888888888888,
              "#fdca26"
             ],
             [
              1,
              "#f0f921"
             ]
            ],
            "type": "surface"
           }
          ],
          "table": [
           {
            "cells": {
             "fill": {
              "color": "#EBF0F8"
             },
             "line": {
              "color": "white"
             }
            },
            "header": {
             "fill": {
              "color": "#C8D4E3"
             },
             "line": {
              "color": "white"
             }
            },
            "type": "table"
           }
          ]
         },
         "layout": {
          "annotationdefaults": {
           "arrowcolor": "#2a3f5f",
           "arrowhead": 0,
           "arrowwidth": 1
          },
          "autotypenumbers": "strict",
          "coloraxis": {
           "colorbar": {
            "outlinewidth": 0,
            "ticks": ""
           }
          },
          "colorscale": {
           "diverging": [
            [
             0,
             "#8e0152"
            ],
            [
             0.1,
             "#c51b7d"
            ],
            [
             0.2,
             "#de77ae"
            ],
            [
             0.3,
             "#f1b6da"
            ],
            [
             0.4,
             "#fde0ef"
            ],
            [
             0.5,
             "#f7f7f7"
            ],
            [
             0.6,
             "#e6f5d0"
            ],
            [
             0.7,
             "#b8e186"
            ],
            [
             0.8,
             "#7fbc41"
            ],
            [
             0.9,
             "#4d9221"
            ],
            [
             1,
             "#276419"
            ]
           ],
           "sequential": [
            [
             0,
             "#0d0887"
            ],
            [
             0.1111111111111111,
             "#46039f"
            ],
            [
             0.2222222222222222,
             "#7201a8"
            ],
            [
             0.3333333333333333,
             "#9c179e"
            ],
            [
             0.4444444444444444,
             "#bd3786"
            ],
            [
             0.5555555555555556,
             "#d8576b"
            ],
            [
             0.6666666666666666,
             "#ed7953"
            ],
            [
             0.7777777777777778,
             "#fb9f3a"
            ],
            [
             0.8888888888888888,
             "#fdca26"
            ],
            [
             1,
             "#f0f921"
            ]
           ],
           "sequentialminus": [
            [
             0,
             "#0d0887"
            ],
            [
             0.1111111111111111,
             "#46039f"
            ],
            [
             0.2222222222222222,
             "#7201a8"
            ],
            [
             0.3333333333333333,
             "#9c179e"
            ],
            [
             0.4444444444444444,
             "#bd3786"
            ],
            [
             0.5555555555555556,
             "#d8576b"
            ],
            [
             0.6666666666666666,
             "#ed7953"
            ],
            [
             0.7777777777777778,
             "#fb9f3a"
            ],
            [
             0.8888888888888888,
             "#fdca26"
            ],
            [
             1,
             "#f0f921"
            ]
           ]
          },
          "colorway": [
           "#636efa",
           "#EF553B",
           "#00cc96",
           "#ab63fa",
           "#FFA15A",
           "#19d3f3",
           "#FF6692",
           "#B6E880",
           "#FF97FF",
           "#FECB52"
          ],
          "font": {
           "color": "#2a3f5f"
          },
          "geo": {
           "bgcolor": "white",
           "lakecolor": "white",
           "landcolor": "#E5ECF6",
           "showlakes": true,
           "showland": true,
           "subunitcolor": "white"
          },
          "hoverlabel": {
           "align": "left"
          },
          "hovermode": "closest",
          "mapbox": {
           "style": "light"
          },
          "paper_bgcolor": "white",
          "plot_bgcolor": "#E5ECF6",
          "polar": {
           "angularaxis": {
            "gridcolor": "white",
            "linecolor": "white",
            "ticks": ""
           },
           "bgcolor": "#E5ECF6",
           "radialaxis": {
            "gridcolor": "white",
            "linecolor": "white",
            "ticks": ""
           }
          },
          "scene": {
           "xaxis": {
            "backgroundcolor": "#E5ECF6",
            "gridcolor": "white",
            "gridwidth": 2,
            "linecolor": "white",
            "showbackground": true,
            "ticks": "",
            "zerolinecolor": "white"
           },
           "yaxis": {
            "backgroundcolor": "#E5ECF6",
            "gridcolor": "white",
            "gridwidth": 2,
            "linecolor": "white",
            "showbackground": true,
            "ticks": "",
            "zerolinecolor": "white"
           },
           "zaxis": {
            "backgroundcolor": "#E5ECF6",
            "gridcolor": "white",
            "gridwidth": 2,
            "linecolor": "white",
            "showbackground": true,
            "ticks": "",
            "zerolinecolor": "white"
           }
          },
          "shapedefaults": {
           "line": {
            "color": "#2a3f5f"
           }
          },
          "ternary": {
           "aaxis": {
            "gridcolor": "white",
            "linecolor": "white",
            "ticks": ""
           },
           "baxis": {
            "gridcolor": "white",
            "linecolor": "white",
            "ticks": ""
           },
           "bgcolor": "#E5ECF6",
           "caxis": {
            "gridcolor": "white",
            "linecolor": "white",
            "ticks": ""
           }
          },
          "title": {
           "x": 0.05
          },
          "xaxis": {
           "automargin": true,
           "gridcolor": "white",
           "linecolor": "white",
           "ticks": "",
           "title": {
            "standoff": 15
           },
           "zerolinecolor": "white",
           "zerolinewidth": 2
          },
          "yaxis": {
           "automargin": true,
           "gridcolor": "white",
           "linecolor": "white",
           "ticks": "",
           "title": {
            "standoff": 15
           },
           "zerolinecolor": "white",
           "zerolinewidth": 2
          }
         }
        }
       }
      },
      "text/html": [
       "<div>                            <div id=\"9fd138a8-dda0-48bc-bc11-a850e9a5a4d7\" class=\"plotly-graph-div\" style=\"height:525px; width:100%;\"></div>            <script type=\"text/javascript\">                require([\"plotly\"], function(Plotly) {                    window.PLOTLYENV=window.PLOTLYENV || {};                                    if (document.getElementById(\"9fd138a8-dda0-48bc-bc11-a850e9a5a4d7\")) {                    Plotly.newPlot(                        \"9fd138a8-dda0-48bc-bc11-a850e9a5a4d7\",                        [{\"coloraxis\": \"coloraxis\", \"hovertemplate\": \"<b>%{hovertext}</b><br><br>Avg_Temp_Celsius=%{z}<br>Lat=%{lat}<br>Long=%{lon}<extra></extra>\", \"hovertext\": [\"Abilene\", \"Akron\", \"Albuquerque\", \"Alexandria\", \"Allentown\", \"Amarillo\", \"Anaheim\", \"Anchorage\", \"Ann Arbor\", \"Antioch\", \"Arlington\", \"Arlington\", \"Arvada\", \"Atlanta\", \"Aurora\", \"Aurora\", \"Austin\", \"Bakersfield\", \"Baltimore\", \"Baton Rouge\", \"Beaumont\", \"Bellevue\", \"Berkeley\", \"Birmingham\", \"Boston\", \"Bridgeport\", \"Brownsville\", \"Buffalo\", \"Burbank\", \"Cambridge\", \"Cape Coral\", \"Carrollton\", \"Cary\", \"Cedar Rapids\", \"Chandler\", \"Charleston\", \"Charlotte\", \"Chattanooga\", \"Chesapeake\", \"Chicago\", \"Chula Vista\", \"Cincinnati\", \"Clarksville\", \"Clearwater\", \"Cleveland\", \"Colorado Springs\", \"Columbia\", \"Columbus\", \"Columbus\", \"Concord\", \"Coral Springs\", \"Corona\", \"Corpus Christi\", \"Costa Mesa\", \"Dallas\", \"Dayton\", \"Denton\", \"Denver\", \"Des Moines\", \"Detroit\", \"Downey\", \"Durham\", \"East Los Angeles\", \"Edison\", \"El Monte\", \"El Paso\", \"Elizabeth\", \"Escondido\", \"Eugene\", \"Evansville\", \"Fairfield\", \"Fayetteville\", \"Flint\", \"Fontana\", \"Fort Collins\", \"Fort Lauderdale\", \"Fort Wayne\", \"Fort Worth\", \"Fremont\", \"Fresno\", \"Fullerton\", \"Gainesville\", \"Garden Grove\", \"Garland\", \"Gilbert\", \"Glendale\", \"Glendale\", \"Grand Prairie\", \"Grand Rapids\", \"Green Bay\", \"Greensboro\", \"Hampton\", \"Hartford\", \"Hayward\", \"Henderson\", \"Hialeah\", \"Highlands Ranch\", \"Hollywood\", \"Houston\", \"Huntington Beach\", \"Huntsville\", \"Independence\", \"Indianapolis\", \"Inglewood\", \"Irvine\", \"Irving\", \"Jackson\", \"Jacksonville\", \"Jersey City\", \"Joliet\", \"Kansas City\", \"Killeen\", \"Knoxville\", \"Lafayette\", \"Lakewood\", \"Lancaster\", \"Lansing\", \"Laredo\", \"Las Vegas\", \"Lexington Fayette\", \"Lincoln\", \"Little Rock\", \"Long Beach\", \"Los Angeles\", \"Louisville\", \"Lowell\", \"Lubbock\", \"Madison\", \"Manchester\", \"Memphis\", \"Mesa\", \"Mesquite\", \"Metairie\", \"Miami\", \"Milwaukee\", \"Minneapolis\", \"Miramar\", \"Mobile\", \"Modesto\", \"Montgomery\", \"Moreno Valley\", \"Naperville\", \"Nashville\", \"New Haven\", \"New Orleans\", \"New York\", \"Newark\", \"Newport News\", \"Nogales\", \"Norfolk\", \"Norman\", \"North Las Vegas\", \"Norwalk\", \"Nuevo Laredo\", \"Oakland\", \"Oceanside\", \"Oklahoma City\", \"Olathe\", \"Omaha\", \"Ontario\", \"Orange\", \"Orlando\", \"Overland Park\", \"Oxnard\", \"Palmdale\", \"Paradise\", \"Pasadena\", \"Pasadena\", \"Paterson\", \"Pembroke Pines\", \"Peoria\", \"Peoria\", \"Philadelphia\", \"Phoenix\", \"Pittsburgh\", \"Plano\", \"Pomona\", \"Port Saint Lucie\", \"Portland\", \"Providence\", \"Provo\", \"Pueblo\", \"Raleigh\", \"Rancho Cucamonga\", \"Reno\", \"Rialto\", \"Richardson\", \"Richmond\", \"Richmond\", \"Riverside\", \"Rochester\", \"Rockford\", \"Roseville\", \"Sacramento\", \"Saint Louis\", \"Saint Paul\", \"Saint Petersburg\", \"Salem\", \"Salinas\", \"Salt Lake City\", \"San Antonio\", \"San Bernardino\", \"San Diego\", \"San Francisco\", \"San Jose\", \"Santa Ana\", \"Santa Clara\", \"Santa Clarita\", \"Santa Rosa\", \"Savannah\", \"Scottsdale\", \"Seattle\", \"Shreveport\", \"Simi Valley\", \"Sioux Falls\", \"South Bend\", \"Spokane\", \"Spring Valley\", \"Springfield\", \"Springfield\", \"Springfield\", \"Stamford\", \"Sterling Heights\", \"Stockton\", \"Sunnyvale\", \"Sunrise Manor\", \"Syracuse\", \"Tacoma\", \"Tallahassee\", \"Tampa\", \"Tempe\", \"Thornton\", \"Thousand Oaks\", \"Toledo\", \"Toms River\", \"Topeka\", \"Torrance\", \"Tucson\", \"Tulsa\", \"Vallejo\", \"Vancouver\", \"Virginia Beach\", \"Visalia\", \"Waco\", \"Warren\", \"Washington\", \"Waterbury\", \"West Covina\", \"West Jordan\", \"West Valley City\", \"Westminster\", \"Wichita\", \"Wichita Falls\", \"Windsor\", \"Winston Salem\", \"Worcester\", \"Yonkers\"], \"lat\": [32.95, 40.99, 34.56, 39.38, 40.99, 34.56, 32.95, 61.88, 42.59, 37.78, 32.95, 39.38, 39.38, 34.56, 39.38, 40.99, 29.74, 36.17, 39.38, 29.74, 29.74, 47.42, 37.78, 32.95, 42.59, 40.99, 26.52, 42.59, 34.56, 42.59, 26.52, 32.95, 36.17, 42.59, 32.95, 32.95, 34.56, 34.56, 36.17, 42.59, 32.95, 39.38, 36.17, 28.13, 40.99, 39.38, 34.56, 32.95, 39.38, 37.78, 26.52, 32.95, 28.13, 32.95, 32.95, 39.38, 32.95, 39.38, 40.99, 42.59, 34.56, 36.17, 34.56, 40.99, 34.56, 31.35, 40.99, 32.95, 44.2, 37.78, 37.78, 34.56, 42.59, 34.56, 40.99, 26.52, 40.99, 32.95, 37.78, 36.17, 32.95, 29.74, 32.95, 32.95, 32.95, 32.95, 34.56, 32.95, 42.59, 44.2, 36.17, 36.17, 40.99, 37.78, 36.17, 26.52, 39.38, 26.52, 29.74, 32.95, 34.56, 39.38, 39.38, 34.56, 32.95, 32.95, 32.95, 29.74, 40.99, 40.99, 39.38, 31.35, 36.17, 29.74, 39.38, 34.56, 42.59, 28.13, 36.17, 37.78, 40.99, 34.56, 32.95, 34.56, 37.78, 42.59, 32.95, 42.59, 42.59, 34.56, 32.95, 32.95, 29.74, 26.52, 42.59, 45.81, 26.52, 31.35, 37.78, 32.95, 34.56, 40.99, 36.17, 40.99, 29.74, 40.99, 40.99, 37.78, 31.35, 36.17, 34.56, 36.17, 34.56, 28.13, 37.78, 32.95, 36.17, 39.38, 40.99, 34.56, 32.95, 28.13, 39.38, 34.56, 34.56, 36.17, 29.74, 34.56, 40.99, 26.52, 32.95, 40.99, 39.38, 32.95, 40.99, 32.95, 34.56, 26.52, 45.81, 42.59, 39.38, 37.78, 36.17, 34.56, 39.38, 34.56, 32.95, 37.78, 37.78, 34.56, 42.59, 42.59, 39.38, 37.78, 39.38, 45.81, 28.13, 44.2, 36.17, 40.99, 29.74, 34.56, 32.95, 37.78, 37.78, 32.95, 37.78, 34.56, 37.78, 31.35, 32.95, 47.42, 32.95, 34.56, 44.2, 40.99, 47.42, 36.17, 37.78, 39.38, 42.59, 40.99, 42.59, 37.78, 37.78, 36.17, 42.59, 47.42, 29.74, 28.13, 32.95, 39.38, 34.56, 40.99, 39.38, 39.38, 34.56, 31.35, 36.17, 37.78, 45.81, 36.17, 36.17, 31.35, 42.59, 39.38, 40.99, 34.56, 40.99, 40.99, 39.38, 37.78, 34.56, 42.59, 36.17, 42.59, 40.99], \"lon\": [-100.53, -80.95, -107.03, -76.99, -74.56, -101.19, -117.77, -151.13, -82.91, -122.03, -96.7, -76.99, -106.13, -83.68, -104.05, -87.34, -97.85, -119.34, -76.99, -90.46, -94.15, -121.97, -122.03, -87.13, -72.0, -72.43, -96.72, -78.55, -118.7, -72.0, -82.39, -96.7, -79.56, -91.64, -112.02, -79.47, -81.73, -85.62, -75.58, -87.27, -117.77, -85.32, -87.51, -82.73, -80.95, -104.05, -81.73, -85.21, -83.24, -122.03, -80.6, -117.77, -97.27, -117.77, -96.7, -83.24, -96.7, -104.05, -93.73, -82.91, -118.7, -79.56, -118.7, -74.56, -118.7, -105.55, -74.56, -117.77, -122.98, -87.46, -122.03, -79.78, -82.91, -116.76, -104.38, -80.6, -85.21, -96.7, -122.03, -119.34, -117.77, -83.08, -117.77, -96.7, -112.02, -112.02, -118.7, -96.7, -85.09, -87.2, -79.56, -75.58, -72.43, -122.03, -115.36, -80.6, -104.05, -80.6, -96.0, -117.77, -85.62, -93.64, -85.32, -118.7, -117.77, -96.7, -90.96, -81.23, -74.56, -87.34, -93.64, -98.01, -83.54, -92.31, -104.05, -118.7, -85.09, -99.09, -115.36, -85.42, -95.86, -91.46, -117.77, -118.7, -85.42, -72.0, -102.45, -89.45, -72.0, -89.51, -112.02, -96.7, -90.46, -80.6, -87.27, -93.46, -80.6, -88.59, -120.0, -87.13, -116.76, -87.34, -87.51, -72.43, -90.46, -74.56, -74.56, -77.29, -111.2, -75.58, -97.3, -115.36, -118.7, -99.09, -122.03, -117.77, -97.46, -95.72, -95.86, -116.76, -117.77, -80.91, -93.64, -118.7, -118.7, -115.36, -96.0, -118.7, -74.56, -80.6, -112.02, -89.47, -74.91, -112.02, -80.95, -96.7, -118.7, -80.6, -123.46, -72.0, -112.37, -103.73, -79.56, -116.76, -120.69, -116.76, -96.7, -122.03, -77.29, -116.76, -78.55, -89.45, -120.69, -122.03, -89.48, -93.46, -82.73, -122.98, -121.33, -112.9, -97.85, -116.76, -117.77, -122.03, -122.03, -117.77, -122.03, -118.7, -122.03, -81.05, -112.02, -121.97, -92.87, -118.7, -96.15, -85.21, -117.24, -115.36, -93.56, -89.48, -72.0, -74.56, -82.91, -122.03, -122.03, -115.36, -76.36, -121.97, -84.92, -82.73, -112.02, -104.05, -118.7, -83.08, -74.91, -95.72, -118.7, -111.2, -95.47, -122.03, -123.46, -75.58, -119.34, -98.01, -82.91, -76.99, -72.43, -118.7, -112.9, -112.9, -104.05, -97.63, -99.24, -82.91, -79.56, -72.0, -74.56], \"name\": \"\", \"radius\": 15, \"subplot\": \"mapbox\", \"type\": \"densitymapbox\", \"z\": [19.41111111, 11.87066667, 13.63077778, 14.18766667, 12.16388889, 17.52955556, 17.18077778, 1.01875, 10.89722222, 16.23366667, 20.45077778, 14.18766667, 4.473111111000001, 16.13677778, 11.20577778, 12.15344444, 22.18266667, 18.67566667, 14.18766667, 21.99522222, 21.82055556, 9.946444443999999, 16.23366667, 18.98388889, 10.37566667, 12.32911111, 23.76422222, 10.27944444, 18.12066667, 10.37566667, 23.97433333, 20.45077778, 16.23144444, 10.42022222, 23.56455556, 20.21411111, 17.705, 16.90533333, 17.288, 11.58688889, 17.18077778, 13.39833333, 16.17244444, 23.54666667, 11.87066667, 11.20577778, 17.705, 18.63877778, 13.45588889, 16.23366667, 24.44011111, 17.18077778, 23.409000000000002, 17.18077778, 20.45077778, 13.45588889, 20.45077778, 11.20577778, 12.28611111, 10.89722222, 18.12066667, 16.23144444, 18.12066667, 12.16388889, 18.12066667, 18.24088889, 12.16388889, 17.18077778, 12.03266667, 15.39755556, 16.23366667, 18.23077778, 10.89722222, 19.86533333, 10.72955556, 24.44011111, 11.99433333, 20.45077778, 16.23366667, 18.67566667, 17.18077778, 21.97788889, 17.18077778, 20.45077778, 23.56455556, 23.56455556, 18.12066667, 20.45077778, 10.75933333, 8.829, 16.23144444, 17.288, 12.32911111, 16.23366667, 20.538, 24.44011111, 11.20577778, 24.44011111, 22.28022222, 17.18077778, 16.90533333, 13.98966667, 13.39833333, 18.12066667, 17.18077778, 20.45077778, 19.65644444, 22.49377778, 12.16388889, 12.15344444, 13.98966667, 20.87122222, 14.82477778, 21.77655556, 11.20577778, 18.12066667, 10.75933333, 24.10222222, 20.538, 15.03111111, 12.55877778, 18.30811111, 17.18077778, 18.12066667, 15.03111111, 10.37566667, 18.16644444, 10.17622222, 10.37566667, 17.92566667, 23.56455556, 20.45077778, 21.99522222, 24.44011111, 11.58688889, 7.257444444, 24.44011111, 20.25233333, 15.02088889, 18.98388889, 19.86533333, 12.15344444, 16.17244444, 12.32911111, 21.99522222, 12.16388889, 12.16388889, 15.67722222, 19.712, 17.288, 18.73988889, 20.538, 18.12066667, 24.10222222, 16.23366667, 17.18077778, 17.21477778, 14.10144444, 12.55877778, 19.86533333, 17.18077778, 23.77077778, 13.98966667, 18.12066667, 18.12066667, 20.538, 22.28022222, 18.12066667, 12.16388889, 24.44011111, 23.56455556, 12.20422222, 14.01366667, 23.56455556, 11.87066667, 20.45077778, 18.12066667, 24.44011111, 11.73533333, 10.37566667, 11.36155556, 13.42411111, 16.23144444, 19.86533333, 13.91533333, 19.86533333, 20.45077778, 16.23366667, 15.67722222, 19.86533333, 10.27944444, 10.17622222, 13.91533333, 16.23366667, 13.93588889, 7.257444444, 23.54666667, 12.03266667, 16.558, 12.60022222, 22.18266667, 19.86533333, 17.18077778, 16.23366667, 16.23366667, 17.18077778, 16.23366667, 18.12066667, 16.23366667, 20.96911111, 23.56455556, 9.946444443999999, 19.57322222, 18.12066667, 8.679, 11.99433333, 10.94711111, 20.538, 15.06466667, 13.93588889, 10.37566667, 12.16388889, 10.89722222, 16.23366667, 16.23366667, 20.538, 10.18011111, 9.946444443999999, 21.76022222, 23.54666667, 23.56455556, 11.20577778, 18.12066667, 11.99366667, 14.01366667, 14.10144444, 18.12066667, 19.712, 17.11977778, 16.23366667, 11.73533333, 17.288, 18.67566667, 20.87122222, 10.89722222, 14.18766667, 12.32911111, 18.12066667, 12.60022222, 12.60022222, 11.20577778, 15.334000000000001, 18.93255556, 10.89722222, 16.23144444, 10.37566667, 12.16388889]}],                        {\"coloraxis\": {\"colorbar\": {\"title\": {\"text\": \"Avg_Temp_Celsius\"}}, \"colorscale\": [[0.0, \"#0d0887\"], [0.1111111111111111, \"#46039f\"], [0.2222222222222222, \"#7201a8\"], [0.3333333333333333, \"#9c179e\"], [0.4444444444444444, \"#bd3786\"], [0.5555555555555556, \"#d8576b\"], [0.6666666666666666, \"#ed7953\"], [0.7777777777777778, \"#fb9f3a\"], [0.8888888888888888, \"#fdca26\"], [1.0, \"#f0f921\"]]}, \"legend\": {\"tracegroupgap\": 0}, \"mapbox\": {\"center\": {\"lat\": 37.78, \"lon\": -97.63}, \"domain\": {\"x\": [0.0, 1.0], \"y\": [0.0, 1.0]}, \"style\": \"stamen-terrain\", \"zoom\": 3}, \"margin\": {\"t\": 60}, \"template\": {\"data\": {\"bar\": [{\"error_x\": {\"color\": \"#2a3f5f\"}, \"error_y\": {\"color\": \"#2a3f5f\"}, \"marker\": {\"line\": {\"color\": \"#E5ECF6\", \"width\": 0.5}}, \"type\": \"bar\"}], \"barpolar\": [{\"marker\": {\"line\": {\"color\": \"#E5ECF6\", \"width\": 0.5}}, \"type\": \"barpolar\"}], \"carpet\": [{\"aaxis\": {\"endlinecolor\": \"#2a3f5f\", \"gridcolor\": \"white\", \"linecolor\": \"white\", \"minorgridcolor\": \"white\", \"startlinecolor\": \"#2a3f5f\"}, \"baxis\": {\"endlinecolor\": \"#2a3f5f\", \"gridcolor\": \"white\", \"linecolor\": \"white\", \"minorgridcolor\": \"white\", \"startlinecolor\": \"#2a3f5f\"}, \"type\": \"carpet\"}], \"choropleth\": [{\"colorbar\": {\"outlinewidth\": 0, \"ticks\": \"\"}, \"type\": \"choropleth\"}], \"contour\": [{\"colorbar\": {\"outlinewidth\": 0, \"ticks\": \"\"}, \"colorscale\": [[0.0, \"#0d0887\"], [0.1111111111111111, \"#46039f\"], [0.2222222222222222, \"#7201a8\"], [0.3333333333333333, \"#9c179e\"], [0.4444444444444444, \"#bd3786\"], [0.5555555555555556, \"#d8576b\"], [0.6666666666666666, \"#ed7953\"], [0.7777777777777778, \"#fb9f3a\"], [0.8888888888888888, \"#fdca26\"], [1.0, \"#f0f921\"]], \"type\": \"contour\"}], \"contourcarpet\": [{\"colorbar\": {\"outlinewidth\": 0, \"ticks\": \"\"}, \"type\": \"contourcarpet\"}], \"heatmap\": [{\"colorbar\": {\"outlinewidth\": 0, \"ticks\": \"\"}, \"colorscale\": [[0.0, \"#0d0887\"], [0.1111111111111111, \"#46039f\"], [0.2222222222222222, \"#7201a8\"], [0.3333333333333333, \"#9c179e\"], [0.4444444444444444, \"#bd3786\"], [0.5555555555555556, \"#d8576b\"], [0.6666666666666666, \"#ed7953\"], [0.7777777777777778, \"#fb9f3a\"], [0.8888888888888888, \"#fdca26\"], [1.0, \"#f0f921\"]], \"type\": \"heatmap\"}], \"heatmapgl\": [{\"colorbar\": {\"outlinewidth\": 0, \"ticks\": \"\"}, \"colorscale\": [[0.0, \"#0d0887\"], [0.1111111111111111, \"#46039f\"], [0.2222222222222222, \"#7201a8\"], [0.3333333333333333, \"#9c179e\"], [0.4444444444444444, \"#bd3786\"], [0.5555555555555556, \"#d8576b\"], [0.6666666666666666, \"#ed7953\"], [0.7777777777777778, \"#fb9f3a\"], [0.8888888888888888, \"#fdca26\"], [1.0, \"#f0f921\"]], \"type\": \"heatmapgl\"}], \"histogram\": [{\"marker\": {\"colorbar\": {\"outlinewidth\": 0, \"ticks\": \"\"}}, \"type\": \"histogram\"}], \"histogram2d\": [{\"colorbar\": {\"outlinewidth\": 0, \"ticks\": \"\"}, \"colorscale\": [[0.0, \"#0d0887\"], [0.1111111111111111, \"#46039f\"], [0.2222222222222222, \"#7201a8\"], [0.3333333333333333, \"#9c179e\"], [0.4444444444444444, \"#bd3786\"], [0.5555555555555556, \"#d8576b\"], [0.6666666666666666, \"#ed7953\"], [0.7777777777777778, \"#fb9f3a\"], [0.8888888888888888, \"#fdca26\"], [1.0, \"#f0f921\"]], \"type\": \"histogram2d\"}], \"histogram2dcontour\": [{\"colorbar\": {\"outlinewidth\": 0, \"ticks\": \"\"}, \"colorscale\": [[0.0, \"#0d0887\"], [0.1111111111111111, \"#46039f\"], [0.2222222222222222, \"#7201a8\"], [0.3333333333333333, \"#9c179e\"], [0.4444444444444444, \"#bd3786\"], [0.5555555555555556, \"#d8576b\"], [0.6666666666666666, \"#ed7953\"], [0.7777777777777778, \"#fb9f3a\"], [0.8888888888888888, \"#fdca26\"], [1.0, \"#f0f921\"]], \"type\": \"histogram2dcontour\"}], \"mesh3d\": [{\"colorbar\": {\"outlinewidth\": 0, \"ticks\": \"\"}, \"type\": \"mesh3d\"}], \"parcoords\": [{\"line\": {\"colorbar\": {\"outlinewidth\": 0, \"ticks\": \"\"}}, \"type\": \"parcoords\"}], \"pie\": [{\"automargin\": true, \"type\": \"pie\"}], \"scatter\": [{\"marker\": {\"colorbar\": {\"outlinewidth\": 0, \"ticks\": \"\"}}, \"type\": \"scatter\"}], \"scatter3d\": [{\"line\": {\"colorbar\": {\"outlinewidth\": 0, \"ticks\": \"\"}}, \"marker\": {\"colorbar\": {\"outlinewidth\": 0, \"ticks\": \"\"}}, \"type\": \"scatter3d\"}], \"scattercarpet\": [{\"marker\": {\"colorbar\": {\"outlinewidth\": 0, \"ticks\": \"\"}}, \"type\": \"scattercarpet\"}], \"scattergeo\": [{\"marker\": {\"colorbar\": {\"outlinewidth\": 0, \"ticks\": \"\"}}, \"type\": \"scattergeo\"}], \"scattergl\": [{\"marker\": {\"colorbar\": {\"outlinewidth\": 0, \"ticks\": \"\"}}, \"type\": \"scattergl\"}], \"scattermapbox\": [{\"marker\": {\"colorbar\": {\"outlinewidth\": 0, \"ticks\": \"\"}}, \"type\": \"scattermapbox\"}], \"scatterpolar\": [{\"marker\": {\"colorbar\": {\"outlinewidth\": 0, \"ticks\": \"\"}}, \"type\": \"scatterpolar\"}], \"scatterpolargl\": [{\"marker\": {\"colorbar\": {\"outlinewidth\": 0, \"ticks\": \"\"}}, \"type\": \"scatterpolargl\"}], \"scatterternary\": [{\"marker\": {\"colorbar\": {\"outlinewidth\": 0, \"ticks\": \"\"}}, \"type\": \"scatterternary\"}], \"surface\": [{\"colorbar\": {\"outlinewidth\": 0, \"ticks\": \"\"}, \"colorscale\": [[0.0, \"#0d0887\"], [0.1111111111111111, \"#46039f\"], [0.2222222222222222, \"#7201a8\"], [0.3333333333333333, \"#9c179e\"], [0.4444444444444444, \"#bd3786\"], [0.5555555555555556, \"#d8576b\"], [0.6666666666666666, \"#ed7953\"], [0.7777777777777778, \"#fb9f3a\"], [0.8888888888888888, \"#fdca26\"], [1.0, \"#f0f921\"]], \"type\": \"surface\"}], \"table\": [{\"cells\": {\"fill\": {\"color\": \"#EBF0F8\"}, \"line\": {\"color\": \"white\"}}, \"header\": {\"fill\": {\"color\": \"#C8D4E3\"}, \"line\": {\"color\": \"white\"}}, \"type\": \"table\"}]}, \"layout\": {\"annotationdefaults\": {\"arrowcolor\": \"#2a3f5f\", \"arrowhead\": 0, \"arrowwidth\": 1}, \"autotypenumbers\": \"strict\", \"coloraxis\": {\"colorbar\": {\"outlinewidth\": 0, \"ticks\": \"\"}}, \"colorscale\": {\"diverging\": [[0, \"#8e0152\"], [0.1, \"#c51b7d\"], [0.2, \"#de77ae\"], [0.3, \"#f1b6da\"], [0.4, \"#fde0ef\"], [0.5, \"#f7f7f7\"], [0.6, \"#e6f5d0\"], [0.7, \"#b8e186\"], [0.8, \"#7fbc41\"], [0.9, \"#4d9221\"], [1, \"#276419\"]], \"sequential\": [[0.0, \"#0d0887\"], [0.1111111111111111, \"#46039f\"], [0.2222222222222222, \"#7201a8\"], [0.3333333333333333, \"#9c179e\"], [0.4444444444444444, \"#bd3786\"], [0.5555555555555556, \"#d8576b\"], [0.6666666666666666, \"#ed7953\"], [0.7777777777777778, \"#fb9f3a\"], [0.8888888888888888, \"#fdca26\"], [1.0, \"#f0f921\"]], \"sequentialminus\": [[0.0, \"#0d0887\"], [0.1111111111111111, \"#46039f\"], [0.2222222222222222, \"#7201a8\"], [0.3333333333333333, \"#9c179e\"], [0.4444444444444444, \"#bd3786\"], [0.5555555555555556, \"#d8576b\"], [0.6666666666666666, \"#ed7953\"], [0.7777777777777778, \"#fb9f3a\"], [0.8888888888888888, \"#fdca26\"], [1.0, \"#f0f921\"]]}, \"colorway\": [\"#636efa\", \"#EF553B\", \"#00cc96\", \"#ab63fa\", \"#FFA15A\", \"#19d3f3\", \"#FF6692\", \"#B6E880\", \"#FF97FF\", \"#FECB52\"], \"font\": {\"color\": \"#2a3f5f\"}, \"geo\": {\"bgcolor\": \"white\", \"lakecolor\": \"white\", \"landcolor\": \"#E5ECF6\", \"showlakes\": true, \"showland\": true, \"subunitcolor\": \"white\"}, \"hoverlabel\": {\"align\": \"left\"}, \"hovermode\": \"closest\", \"mapbox\": {\"style\": \"light\"}, \"paper_bgcolor\": \"white\", \"plot_bgcolor\": \"#E5ECF6\", \"polar\": {\"angularaxis\": {\"gridcolor\": \"white\", \"linecolor\": \"white\", \"ticks\": \"\"}, \"bgcolor\": \"#E5ECF6\", \"radialaxis\": {\"gridcolor\": \"white\", \"linecolor\": \"white\", \"ticks\": \"\"}}, \"scene\": {\"xaxis\": {\"backgroundcolor\": \"#E5ECF6\", \"gridcolor\": \"white\", \"gridwidth\": 2, \"linecolor\": \"white\", \"showbackground\": true, \"ticks\": \"\", \"zerolinecolor\": \"white\"}, \"yaxis\": {\"backgroundcolor\": \"#E5ECF6\", \"gridcolor\": \"white\", \"gridwidth\": 2, \"linecolor\": \"white\", \"showbackground\": true, \"ticks\": \"\", \"zerolinecolor\": \"white\"}, \"zaxis\": {\"backgroundcolor\": \"#E5ECF6\", \"gridcolor\": \"white\", \"gridwidth\": 2, \"linecolor\": \"white\", \"showbackground\": true, \"ticks\": \"\", \"zerolinecolor\": \"white\"}}, \"shapedefaults\": {\"line\": {\"color\": \"#2a3f5f\"}}, \"ternary\": {\"aaxis\": {\"gridcolor\": \"white\", \"linecolor\": \"white\", \"ticks\": \"\"}, \"baxis\": {\"gridcolor\": \"white\", \"linecolor\": \"white\", \"ticks\": \"\"}, \"bgcolor\": \"#E5ECF6\", \"caxis\": {\"gridcolor\": \"white\", \"linecolor\": \"white\", \"ticks\": \"\"}}, \"title\": {\"x\": 0.05}, \"xaxis\": {\"automargin\": true, \"gridcolor\": \"white\", \"linecolor\": \"white\", \"ticks\": \"\", \"title\": {\"standoff\": 15}, \"zerolinecolor\": \"white\", \"zerolinewidth\": 2}, \"yaxis\": {\"automargin\": true, \"gridcolor\": \"white\", \"linecolor\": \"white\", \"ticks\": \"\", \"title\": {\"standoff\": 15}, \"zerolinecolor\": \"white\", \"zerolinewidth\": 2}}}},                        {\"responsive\": true}                    ).then(function(){\n",
       "                            \n",
       "var gd = document.getElementById('9fd138a8-dda0-48bc-bc11-a850e9a5a4d7');\n",
       "var x = new MutationObserver(function (mutations, observer) {{\n",
       "        var display = window.getComputedStyle(gd).display;\n",
       "        if (!display || display === 'none') {{\n",
       "            console.log([gd, 'removed!']);\n",
       "            Plotly.purge(gd);\n",
       "            observer.disconnect();\n",
       "        }}\n",
       "}});\n",
       "\n",
       "// Listen for the removal of the full notebook cells\n",
       "var notebookContainer = gd.closest('#notebook-container');\n",
       "if (notebookContainer) {{\n",
       "    x.observe(notebookContainer, {childList: true});\n",
       "}}\n",
       "\n",
       "// Listen for the clearing of the current output cell\n",
       "var outputEl = gd.closest('.output');\n",
       "if (outputEl) {{\n",
       "    x.observe(outputEl, {childList: true});\n",
       "}}\n",
       "\n",
       "                        })                };                });            </script>        </div>"
      ]
     },
     "metadata": {},
     "output_type": "display_data"
    }
   ],
   "source": [
    "df = pd.read_csv('2013.csv')\n",
    "\n",
    "import plotly.express as px\n",
    "fig = px.density_mapbox(df, lat='Lat', lon='Long', z='Avg_Temp_Celsius', hover_name='City',radius=15,\n",
    "                        center=dict(lat=37.78, lon=-97.63), zoom=3,\n",
    "                        mapbox_style=\"stamen-terrain\")\n",
    "fig.show()"
   ]
  },
  {
   "cell_type": "code",
   "execution_count": null,
   "metadata": {},
   "outputs": [],
   "source": []
  }
 ],
 "metadata": {
  "kernelspec": {
   "display_name": "Python [conda env:PythonData] *",
   "language": "python",
   "name": "conda-env-PythonData-py"
  },
  "language_info": {
   "codemirror_mode": {
    "name": "ipython",
    "version": 3
   },
   "file_extension": ".py",
   "mimetype": "text/x-python",
   "name": "python",
   "nbconvert_exporter": "python",
   "pygments_lexer": "ipython3",
   "version": "3.6.12"
  }
 },
 "nbformat": 4,
 "nbformat_minor": 4
}
