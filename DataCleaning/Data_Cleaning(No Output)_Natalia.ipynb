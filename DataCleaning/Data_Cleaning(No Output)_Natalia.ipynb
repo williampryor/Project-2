{
 "cells": [
  {
   "cell_type": "code",
   "execution_count": null,
   "metadata": {},
   "outputs": [],
   "source": []
  },
  {
   "cell_type": "code",
   "execution_count": null,
   "metadata": {},
   "outputs": [],
   "source": [
    "# Dependencies\n",
    "import pandas as pd\n",
    "import numpy as np\n",
    "from sqlalchemy import create_engine\n",
    "import matplotlib.pyplot as plt"
   ]
  },
  {
   "cell_type": "markdown",
   "metadata": {},
   "source": [
    "# Power Plant Map"
   ]
  },
  {
   "cell_type": "code",
   "execution_count": null,
   "metadata": {},
   "outputs": [],
   "source": [
    "# Link:  https://hifld-geoplatform.opendata.arcgis.com/datasets/power-plants/data"
   ]
  },
  {
   "cell_type": "code",
   "execution_count": null,
   "metadata": {
    "scrolled": false
   },
   "outputs": [],
   "source": [
    "# csv file variable assignments\n",
    "power_plant_path = \"data/Power_Plants.csv\"\n",
    "\n",
    "# Import csv files as dataframes\n",
    "power_plant_df = pd.read_csv(power_plant_path)\n",
    "\n",
    "power_plant_df.head()"
   ]
  },
  {
   "cell_type": "code",
   "execution_count": null,
   "metadata": {},
   "outputs": [],
   "source": []
  },
  {
   "cell_type": "code",
   "execution_count": null,
   "metadata": {
    "scrolled": true
   },
   "outputs": [],
   "source": [
    "#Selected Columns\n",
    "power_plant_brief_df = power_plant_df[['PLANT_CODE','NAME','TYPE','COAL_USED','NGAS_USED','OIL_USED','ADDRESS','CITY','STATE','ZIP','COUNTRY','LATITUDE','LONGITUDE',]]\n",
    "power_plant_brief_df\n",
    "\n",
    "# Some column rename\n",
    "power_plant_brief_df = power_plant_brief_df.rename(columns={\"PLANT_CODE\": \"Plant Code\"})\n",
    "power_plant_brief_df\n",
    "\n"
   ]
  },
  {
   "cell_type": "code",
   "execution_count": null,
   "metadata": {},
   "outputs": [],
   "source": [
    "##Cleaning\n",
    "#-------------------------------------\n",
    "\n",
    "# Part-1: Get indexes where name column \"TYPE\" has value \"NOT AVAILABLE\"\n",
    "indexNames = power_plant_brief_df[(power_plant_brief_df['TYPE'] == 'NOT AVAILABLE')].index\n",
    "print(indexNames)\n",
    "\n",
    "# Delete these row indexes from \n",
    "power_plant_brief_df.drop(indexNames, inplace=True)\n",
    "#power_plant_brief_df\n",
    "\n",
    "power_plant_brief_df[\"TYPE\"].value_counts()\n"
   ]
  },
  {
   "cell_type": "code",
   "execution_count": null,
   "metadata": {},
   "outputs": [],
   "source": [
    "# Plant TYPE determination\n",
    "power_plant_brief_df['TYPE_Clear'] = pd.np.where(power_plant_brief_df.TYPE.str.contains(\"HYDROELECTRIC\"), \"HYDRO\",\n",
    "                        pd.np.where(power_plant_brief_df.TYPE.str.contains(\"NUCLEAR\"), \"NUCLEAR\",\n",
    "                        pd.np.where(power_plant_brief_df.TYPE.str.contains(\"GEOTHERMAL\"), \"GEO\",\n",
    "                        pd.np.where(power_plant_brief_df.TYPE.str.contains(\"WASTE\"), \"MSW\",\n",
    "                        pd.np.where((power_plant_brief_df.TYPE.str.contains(\"COAL\")&power_plant_brief_df.TYPE.str.contains(\"GAS\")&power_plant_brief_df.TYPE.str.contains(\"PETROLEUM\")), \"GAS/COAL/PET\",\n",
    "                        pd.np.where((power_plant_brief_df.TYPE.str.contains(\"COAL\")&power_plant_brief_df.TYPE.str.contains(\"GAS\")), \"GAS/COAL\",\n",
    "                        pd.np.where((power_plant_brief_df.TYPE.str.contains(\"GAS\")&power_plant_brief_df.TYPE.str.contains(\"PETROLEUM\")), \"GAS/PET\",\n",
    "                        pd.np.where(power_plant_brief_df.TYPE.str.contains(\"COAL\"), \"COAL\",\n",
    "                        pd.np.where(power_plant_brief_df.TYPE.str.contains(\"PETROLEUM \"), \"PET\",\n",
    "                        pd.np.where(power_plant_brief_df.TYPE.str.contains(\"SOLAR\"), \"SOLAR\",\n",
    "                        pd.np.where(power_plant_brief_df.TYPE.str.contains(\"WIND\"), \"WIND\",\n",
    "                        pd.np.where(power_plant_brief_df.TYPE.str.contains(\"GAS\"), \"GAS\", \"Other\"))))))))))))\n",
    "power_plant_brief_df\n"
   ]
  },
  {
   "cell_type": "code",
   "execution_count": null,
   "metadata": {
    "scrolled": true
   },
   "outputs": [],
   "source": [
    "#TYPE for Fossil PPE\n",
    "power_plant_brief_df.loc[(power_plant_brief_df['COAL_USED'] > 0)&(power_plant_brief_df['NGAS_USED'] > 0)&(power_plant_brief_df['OIL_USED'] > 0), 'TYPE_Clear_2'] = 'COAL/GAS/PET'  \n",
    "power_plant_brief_df.loc[(power_plant_brief_df['COAL_USED'] > 0)&(power_plant_brief_df['NGAS_USED'] > 0)&(power_plant_brief_df['OIL_USED'] == 0), 'TYPE_Clear_2'] = 'COAL/GAS'\n",
    "power_plant_brief_df.loc[(power_plant_brief_df['COAL_USED'] > 0)&(power_plant_brief_df['NGAS_USED'] == 0)&(power_plant_brief_df['OIL_USED'] > 0), 'TYPE_Clear_2'] = 'COAL/PET'\n",
    "power_plant_brief_df.loc[(power_plant_brief_df['COAL_USED'] == 0)&(power_plant_brief_df['NGAS_USED'] > 0)&(power_plant_brief_df['OIL_USED'] > 0), 'TYPE_Clear_2'] = 'GAS/PET'\n",
    "power_plant_brief_df.loc[(power_plant_brief_df['COAL_USED'] > 0)&(power_plant_brief_df['NGAS_USED'] == 0)&(power_plant_brief_df['OIL_USED'] == 0), 'TYPE_Clear_2'] = 'COAL'\n",
    "power_plant_brief_df.loc[(power_plant_brief_df['COAL_USED'] == 0)&(power_plant_brief_df['NGAS_USED'] > 0)&(power_plant_brief_df['OIL_USED'] == 0), 'TYPE_Clear_2'] = 'GAS'\n",
    "power_plant_brief_df.loc[(power_plant_brief_df['COAL_USED'] == 0)&(power_plant_brief_df['NGAS_USED'] == 0)&(power_plant_brief_df['OIL_USED'] > 0), 'TYPE_Clear_2'] = 'PET'\n",
    "\n",
    "#Type for NO Fossil PPE: Solar, Wind etc.\n",
    "power_plant_brief_df.loc[(power_plant_brief_df['COAL_USED'] == 0)&(power_plant_brief_df['NGAS_USED'] == 0)&(power_plant_brief_df['OIL_USED'] == 0), 'TYPE_Clear_2'] = power_plant_brief_df['TYPE_Clear']\n",
    "\n",
    "\n",
    "\n",
    "#power_plant_brief_df.loc[df['TYPE_Clear_2'] != 'Bill', 'TYPE_Clear_2'] = 'Mismatch' \n",
    "power_plant_brief_df"
   ]
  },
  {
   "cell_type": "code",
   "execution_count": null,
   "metadata": {},
   "outputs": [],
   "source": [
    "# Export file as a CSV, without the Pandas index, but with the header\n",
    "merge_data_df_2.to_csv(\"data/us_plants_nvk.csv\", index=False, header=True)"
   ]
  },
  {
   "cell_type": "code",
   "execution_count": null,
   "metadata": {},
   "outputs": [],
   "source": []
  },
  {
   "cell_type": "code",
   "execution_count": null,
   "metadata": {},
   "outputs": [],
   "source": []
  },
  {
   "cell_type": "code",
   "execution_count": null,
   "metadata": {
    "scrolled": true
   },
   "outputs": [],
   "source": [
    "# Fossit Type of Fuel \n",
    "\n",
    "\n",
    "# Plant TYPE determination\n",
    "power_plant_brief_df['TYPE_Clear3'] = pd.np.where(power_plant_brief_df.TYPE.str.contains(\"HYDROELECTRIC\"), \"HYDRO\",\n",
    "                        pd.np.where(power_plant_brief_df.TYPE.str.contains(\"NUCLEAR\"), \"NUCLEAR\",\n",
    "                        pd.np.where(power_plant_brief_df.TYPE.str.contains(\"GEOTHERMAL\"), \"GEO\",\n",
    "                        pd.np.where(power_plant_brief_df.TYPE.str.contains(\"WASTE\"), \"MSW\",\n",
    "                        pd.np.where((power_plant_brief_df.TYPE.str.contains(\"COAL\")&power_plant_brief_df.TYPE.str.contains(\"GAS\")&power_plant_brief_df.TYPE.str.contains(\"PETROLEUM\")), \"FOSSIL\",\n",
    "                        pd.np.where((power_plant_brief_df.TYPE.str.contains(\"COAL\")&power_plant_brief_df.TYPE.str.contains(\"GAS\")), \"FOSSIL\",\n",
    "                        pd.np.where((power_plant_brief_df.TYPE.str.contains(\"GAS\")&power_plant_brief_df.TYPE.str.contains(\"PETROLEUM\")), \"FOSSIL\",\n",
    "                        pd.np.where(power_plant_brief_df.TYPE.str.contains(\"COAL\"), \"FOSSIL\",\n",
    "                        pd.np.where(power_plant_brief_df.TYPE.str.contains(\"PETROLEUM \"), \"FOSSIL\",\n",
    "                        pd.np.where(power_plant_brief_df.TYPE.str.contains(\"SOLAR\"), \"SOLAR\",\n",
    "                        pd.np.where(power_plant_brief_df.TYPE.str.contains(\"WIND\"), \"WIND\",\n",
    "                        pd.np.where(power_plant_brief_df.TYPE.str.contains(\"GAS\"), \"FOSSIL\", \"Other\"))))))))))))\n",
    "power_plant_brief_df\n"
   ]
  },
  {
   "cell_type": "code",
   "execution_count": null,
   "metadata": {},
   "outputs": [],
   "source": [
    "# Export file as a CSV, without the Pandas index, but with the header\n",
    "#file_one_df.to_csv(\"Output/fileOne.csv\", index=False, header=True)"
   ]
  },
  {
   "cell_type": "code",
   "execution_count": null,
   "metadata": {},
   "outputs": [],
   "source": []
  },
  {
   "cell_type": "code",
   "execution_count": null,
   "metadata": {},
   "outputs": [],
   "source": [
    "power_plant_brief_df[\"TYPE_Clear\"].value_counts()"
   ]
  },
  {
   "cell_type": "code",
   "execution_count": null,
   "metadata": {},
   "outputs": [],
   "source": [
    "power_plant_brief_df[\"TYPE_Clear_2\"].value_counts()"
   ]
  },
  {
   "cell_type": "code",
   "execution_count": null,
   "metadata": {
    "scrolled": true
   },
   "outputs": [],
   "source": [
    "power_plant_brief_df"
   ]
  },
  {
   "cell_type": "code",
   "execution_count": null,
   "metadata": {},
   "outputs": [],
   "source": []
  },
  {
   "cell_type": "code",
   "execution_count": null,
   "metadata": {},
   "outputs": [],
   "source": [
    "#Calculation number of POWER PLANTS by Type: Fossil, Solar, Hydro, Wind etc.\n",
    "# Note: Fossil = Gas, Pet, Coal\n",
    "\n",
    "power_plant_brief_df_groupby = power_plant_brief_df.groupby([\"Plant Code\",\"TYPE_Clear3\"])\n",
    "\n",
    "#Reset Index\n",
    "sum_types = power_plant_brief_df_groupby.count().reset_index()\n",
    "sum_types\n",
    "\n",
    "#Count Ammount of PP Types\n",
    "number_types = sum_types.groupby([\"TYPE_Clear3\"])\n",
    "amount_power_plant = number_types['NAME'].count()\n",
    "amount_power_plant_df = pd.DataFrame({\"Number_of_Power_Plants_of_Each_Type\": amount_power_plant }).reset_index()\n",
    "amount_power_plant_df\n",
    "\n",
    "# Export file as a CSV, without the Pandas index, but with the header\n",
    "#amount_power_plant_df.to_csv(\"all_power_plants/amount_pp_by_type.csv\", index=False, header=True)"
   ]
  },
  {
   "cell_type": "code",
   "execution_count": null,
   "metadata": {},
   "outputs": [],
   "source": []
  },
  {
   "cell_type": "markdown",
   "metadata": {},
   "source": [
    "# US city population"
   ]
  },
  {
   "cell_type": "code",
   "execution_count": null,
   "metadata": {},
   "outputs": [],
   "source": [
    "# https://data.world/gmoney/us-city-populations"
   ]
  },
  {
   "cell_type": "code",
   "execution_count": null,
   "metadata": {
    "scrolled": true
   },
   "outputs": [],
   "source": [
    "# csv file variable assignments\n",
    "us_city_populations_path = \"data/US_City_Populations.csv\"\n",
    "\n",
    "# Import csv files as dataframes\n",
    "us_city_populations_df = pd.read_csv(us_city_populations_path)\n",
    "\n",
    "us_city_populations_df = us_city_populations_df[[\"State\", \"City\",\"Population\"]]\n",
    "us_city_populations_df.dropna()\n",
    "us_city_populations_df"
   ]
  },
  {
   "cell_type": "code",
   "execution_count": null,
   "metadata": {
    "scrolled": true
   },
   "outputs": [],
   "source": [
    "#City name in all Capital\n",
    "us_city_populations_df['CITY'] = us_city_populations_df[\"City\"].str.upper()\n",
    "us_city_populations_df"
   ]
  },
  {
   "cell_type": "code",
   "execution_count": null,
   "metadata": {},
   "outputs": [],
   "source": [
    "#Sates Abbreviation\n",
    "state_2 = {\n",
    "'Alabama': 'AL', 'Alaska': 'AK', 'Arizona': 'AZ', 'Arkansas': 'AR', 'California': 'CA', 'Colorado': 'CO',\n",
    "'Connecticut': 'CT', 'Delaware': 'DE', 'Florida': 'FL', 'Georgia': 'GA', 'Hawaii': 'HI', 'Idaho': 'ID',\n",
    "'Illinois': 'IL', 'Indiana': 'IN', 'Iowa': 'IA', 'Kansas': 'KS', 'Kentucky': 'KY', 'Louisiana': 'LA',\n",
    "'Maine': 'ME', 'Maryland': 'MD', 'Massachusetts': 'MA', 'Michigan': 'MI', 'Minnesota': 'MN', 'Mississippi': 'MS',\n",
    "'Missouri': 'MO', 'Montana': 'MT', 'Nebraska': 'NE', 'Nevada': 'NV', 'New Hampshire': 'NH', 'New Jersey': 'NJ',\n",
    "'New Mexico': 'NM', 'New York': 'NY', 'North Carolina': 'NC', 'North Dakota': 'ND', 'Ohio': 'OH', 'Oklahoma': 'OK',\n",
    "'Oregon': 'OR', 'Pennsylvania': 'PA', 'Rhode Island': 'RI', 'South Carolina': 'SC', 'South Dakota': 'SD',\n",
    "'Tennessee': 'TN', 'Texas': 'TX', 'Utah': 'UT', 'Vermont': 'VT', 'Virginia': 'VA', 'Washington': 'WA',\n",
    "'West Virginia': 'WV', 'Wisconsin': 'WI', 'Wyoming': 'WY'}\n",
    "\n",
    "#state_2 = {state: abbrev for abbrev, state in state_2.items()}\n",
    "\n",
    "us_city_populations_df['STATE'] = us_city_populations_df['State'].map(state_2)\n",
    "us_city_populations_df\n",
    "\n"
   ]
  },
  {
   "cell_type": "code",
   "execution_count": null,
   "metadata": {},
   "outputs": [],
   "source": [
    "# Merging Power PLant Database with Population Database\n",
    "\n",
    "merg_power_plant_city_population_df = pd.merge(power_plant_brief_df,us_city_populations_df, on=[\"STATE\",\"CITY\"])\n",
    "merg_power_plant_city_population_df"
   ]
  },
  {
   "cell_type": "code",
   "execution_count": null,
   "metadata": {},
   "outputs": [],
   "source": [
    "#Cities with Power Plants by Fuel source\n",
    "merg_power_plant_city_population_group = merg_power_plant_city_population_df.groupby([\"TYPE_Clear3\",\"City\",\"State\"])\n",
    "\n",
    "list_city_population = merg_power_plant_city_population_group[\"Population\"].median()\n",
    "\n",
    "list_city_df = pd.DataFrame({\"Population\": list_city_population}).reset_index()\n",
    "list_city_df\n",
    "\n"
   ]
  },
  {
   "cell_type": "code",
   "execution_count": null,
   "metadata": {},
   "outputs": [],
   "source": []
  },
  {
   "cell_type": "markdown",
   "metadata": {},
   "source": [
    "# CO2 Emission"
   ]
  },
  {
   "cell_type": "code",
   "execution_count": null,
   "metadata": {},
   "outputs": [],
   "source": [
    "#https://www.eia.gov/electricity/data/emissions/"
   ]
  },
  {
   "cell_type": "code",
   "execution_count": null,
   "metadata": {
    "scrolled": false
   },
   "outputs": [],
   "source": [
    "# csv file variable assignments\n",
    "co2_path = \"data/emissions2019_co2.csv\"\n",
    "\n",
    "# Import csv files as dataframes\n",
    "co2_df = pd.read_csv(co2_path)\n",
    "\n",
    "co2_df"
   ]
  },
  {
   "cell_type": "code",
   "execution_count": null,
   "metadata": {
    "scrolled": true
   },
   "outputs": [],
   "source": [
    "#Selected Columns\n",
    "co2_df = co2_df[['Plant Code','Plant Name','Prime Mover','Fuel Code','State','Aggregated Fuel Group','Tons of CO2 Emissions','Fuel Consumption for Electric Generation (MMBtu)','Generation (kWh)']]\n",
    "co2_df.dropna()\n",
    "co2_df\n"
   ]
  },
  {
   "cell_type": "code",
   "execution_count": null,
   "metadata": {},
   "outputs": [],
   "source": [
    "#Fuel Group\n",
    "co2_df[\"Aggregated Fuel Group\"].value_counts()"
   ]
  },
  {
   "cell_type": "code",
   "execution_count": null,
   "metadata": {},
   "outputs": [],
   "source": [
    "#GAS PPE\n",
    "\n",
    "gas = co2_df.loc[co2_df[\"Aggregated Fuel Group\"]==\"GAS\"]\n",
    "gas_co2 = gas[\"Tons of CO2 Emissions\"].sum()\n",
    "print(gas_co2)\n",
    "\n",
    "gas_fuel_consumption = gas[\"Fuel Consumption for Electric Generation (MMBtu)\"].sum() \n",
    "print(gas_fuel_consumption)\n",
    "\n",
    "gas_generation = gas[\"Generation (kWh)\"].sum() \n",
    "print(gas_generation)"
   ]
  },
  {
   "cell_type": "code",
   "execution_count": null,
   "metadata": {},
   "outputs": [],
   "source": [
    "#PET PPE\n",
    "\n",
    "pet = co2_df.loc[co2_df[\"Aggregated Fuel Group\"]==\"PET\"]\n",
    "pet_co2 = pet[\"Tons of CO2 Emissions\"].sum()\n",
    "print(pet_co2)\n",
    "\n",
    "pet_fuel_consumption = pet[\"Fuel Consumption for Electric Generation (MMBtu)\"].sum() \n",
    "print(pet_fuel_consumption)\n",
    "\n",
    "pet_generation = pet[\"Generation (kWh)\"].sum() \n",
    "print(pet_generation)"
   ]
  },
  {
   "cell_type": "code",
   "execution_count": null,
   "metadata": {},
   "outputs": [],
   "source": [
    "#COAL PPE\n",
    "\n",
    "coal = co2_df.loc[co2_df[\"Aggregated Fuel Group\"]==\"COAL\"]\n",
    "coal_co2 = coal[\"Tons of CO2 Emissions\"].sum()\n",
    "print(\"CO2 emission (COAL):\", coal_co2)\n",
    "\n",
    "coal_fuel_consumption = coal[\"Fuel Consumption for Electric Generation (MMBtu)\"].sum() \n",
    "print(coal_fuel_consumption)\n",
    "\n",
    "coal_generation = coal[\"Generation (kWh)\"].sum() \n",
    "print(coal_generation)"
   ]
  },
  {
   "cell_type": "code",
   "execution_count": null,
   "metadata": {},
   "outputs": [],
   "source": [
    "gas_generation/coal_generation\n",
    "gas_fuel_consumption/coal_fuel_consumption"
   ]
  },
  {
   "cell_type": "code",
   "execution_count": null,
   "metadata": {},
   "outputs": [],
   "source": [
    "geo = co2_df.loc[co2_df[\"Aggregated Fuel Group\"]==\"GEO\"]\n",
    "geo[\"Tons of CO2 Emissions\"].sum()"
   ]
  },
  {
   "cell_type": "code",
   "execution_count": null,
   "metadata": {},
   "outputs": [],
   "source": [
    "msw = co2_df.loc[co2_df[\"Aggregated Fuel Group\"]==\"MSW\"]\n",
    "msw[\"Tons of CO2 Emissions\"].sum()"
   ]
  },
  {
   "cell_type": "code",
   "execution_count": null,
   "metadata": {
    "scrolled": false
   },
   "outputs": [],
   "source": [
    "#Group by Fuel TYpe\n",
    "ftype_group_df = co2_df.groupby([\"Aggregated Fuel Group\"])\n",
    "\n",
    "#Purchase Count\n",
    "ftypes_count = co2_df[\"Aggregated Fuel Group\"].value_counts()\n",
    "\n",
    "#average_purchase_price\n",
    "co2_emission_ftype = ftype_group_df[\"Tons of CO2 Emissions\"].sum()\n",
    "\n",
    "#total_purchase_value\n",
    "fuel_consumption_ftype = ftype_group_df[\"Fuel Consumption for Electric Generation (MMBtu)\"].sum()\n",
    "\n",
    "#total_purchase_value\n",
    "e_generation_ftype = ftype_group_df[\"Generation (kWh)\"].sum()\n",
    "\n",
    "#avg_total_purchase_per_person\n",
    "#avg_total_purchase_per_person_gender = total_purchase_gender / gender_count \n",
    "\n",
    "# #Display the summary data frame\n",
    "finale_emission_df = pd.DataFrame({\"Number of Power Plants\": ftypes_count,\n",
    "                                      \"CO2 Emission (tons)\": co2_emission_ftype,\n",
    "                                      \"Fuel Consumption (MMBtu)\": fuel_consumption_ftype,\n",
    "                                      \"Energy Generated (kWh)\": e_generation_ftype})\n",
    "finale_emission_df\n"
   ]
  },
  {
   "cell_type": "code",
   "execution_count": null,
   "metadata": {},
   "outputs": [],
   "source": [
    "# Export file as a CSV, without the Pandas index, but with the header\n",
    "finale_emission_df.to_csv(\"data/co2_PieChart_nvk.csv\", index=False, header=True)"
   ]
  },
  {
   "cell_type": "code",
   "execution_count": null,
   "metadata": {},
   "outputs": [],
   "source": [
    "# Polar Area\n",
    "# https://www.chartjs.org/docs/latest/charts/polar.html"
   ]
  },
  {
   "cell_type": "code",
   "execution_count": null,
   "metadata": {},
   "outputs": [],
   "source": [
    "### Conclution #1 \n",
    "### Amount of male players in 6 times higher than ammount of female players.\n",
    "\n",
    "ftype_label = finale_emission_df.index\n",
    "\n",
    "numbers = finale_emission_df['Number of Power Plants']\n",
    "\n",
    "#colors = [\"lightskyblue\", \"yellowgreen\", \"red\"]\n",
    "explode = (0, 0, 0, 0)\n",
    "\n",
    "plt.title(\"Ammount of Power plants\")\n",
    "plt.pie(numbers, labels=ftype_label, \n",
    "        autopct=\"%1.1f%%\", shadow=True, startangle=180)\n",
    "plt.axis(\"equal\")\n",
    "plt.show()"
   ]
  },
  {
   "cell_type": "code",
   "execution_count": null,
   "metadata": {},
   "outputs": [],
   "source": [
    "### Conclution #2 \n",
    "### Amount of male players in 6 times higher than ammount of female players.\n",
    "\n",
    "ftype_label = finale_emission_df.index\n",
    "\n",
    "co2_em = finale_emission_df['CO2 Emission (tons)']\n",
    "\n",
    "#colors = [\"lightskyblue\", \"yellowgreen\", \"red\"]\n",
    "explode = (0, 0, 0, 0)\n",
    "\n",
    "plt.title(\"CO2 Emission\")\n",
    "plt.pie(co2_em, labels=ftype_label, \n",
    "        autopct=\"%1.1f%%\", shadow=True, startangle=180)\n",
    "plt.axis(\"equal\")\n",
    "plt.show()"
   ]
  },
  {
   "cell_type": "code",
   "execution_count": null,
   "metadata": {},
   "outputs": [],
   "source": [
    "### Conclution #3\n",
    "### Amount of male players in 6 times higher than ammount of female players.\n",
    "\n",
    "ftype_label = finale_emission_df.index\n",
    "\n",
    "fuel_cons = finale_emission_df['Fuel Consumption (MMBtu)']\n",
    "\n",
    "#colors = [\"lightskyblue\", \"yellowgreen\", \"red\"]\n",
    "explode = (0, 0, 0, 0)\n",
    "\n",
    "plt.title(\"Fuel Consumption (MMBtu)\")\n",
    "plt.pie(fuel_cons, labels=ftype_label, \n",
    "        autopct=\"%1.1f%%\", shadow=True, startangle=180)\n",
    "plt.axis(\"equal\")\n",
    "plt.show()"
   ]
  },
  {
   "cell_type": "code",
   "execution_count": null,
   "metadata": {},
   "outputs": [],
   "source": [
    "### Conclution #4\n",
    "### Amount of male players in 6 times higher than ammount of female players.\n",
    "\n",
    "ftype_label = finale_emission_df.index\n",
    "\n",
    "e_gen = finale_emission_df['Energy Generated (kWh)']\n",
    "\n",
    "#colors = [\"lightskyblue\", \"yellowgreen\", \"red\"]\n",
    "explode = (0, 0, 0, 0)\n",
    "\n",
    "plt.title(\"Energy Generated (kWh)\")\n",
    "plt.pie(e_gen, labels=ftype_label, \n",
    "        autopct=\"%1.1f%%\", shadow=True, startangle=180)\n",
    "plt.axis(\"equal\")\n",
    "plt.show()"
   ]
  },
  {
   "cell_type": "code",
   "execution_count": null,
   "metadata": {},
   "outputs": [],
   "source": [
    "N = 5\n",
    "ftype_count = finale_emission_df.index\n",
    "co2_em = finale_emission_df['CO2 Emission (tons)']\n",
    "fuel_cons = finale_emission_df['Fuel Consumption (MMBtu)']\n",
    "e_gen = finale_emission_df['Energy Generated (kWh)']\n",
    "\n",
    "ind = np.arange(N)    # the x locations for the groups\n",
    "width = 0.35       # the width of the bars: can also be len(x) sequence\n",
    "\n",
    "p1 = plt.bar(ind, ftype_count, width)\n",
    "p2 = plt.bar(ind, fuel_cons, width, bottom=ftype_count)\n",
    "p3 = plt.bar(ind, e_gen, width, bottom=fuel_cons)\n",
    "p4 = plt.bar(ind, co2_em, width, bottom=e_gen)\n",
    "\n",
    "plt.ylabel('Scores')\n",
    "plt.title('Scores by group and gender')\n",
    "plt.xticks(ind, ('Coal', 'GAS', 'GEO', 'MSW', 'PET'))\n",
    "#plt.yticks(np.arange(0, 81, 10))\n",
    "#plt.legend((p1[0], p2[0]), ('Men', 'Women'))\n",
    "\n",
    "plt.show()"
   ]
  },
  {
   "cell_type": "code",
   "execution_count": null,
   "metadata": {},
   "outputs": [],
   "source": []
  },
  {
   "cell_type": "code",
   "execution_count": null,
   "metadata": {},
   "outputs": [],
   "source": []
  },
  {
   "cell_type": "code",
   "execution_count": null,
   "metadata": {},
   "outputs": [],
   "source": []
  },
  {
   "cell_type": "code",
   "execution_count": null,
   "metadata": {},
   "outputs": [],
   "source": []
  },
  {
   "cell_type": "code",
   "execution_count": null,
   "metadata": {
    "scrolled": true
   },
   "outputs": [],
   "source": [
    "co2_df['Plant Code'] = co2_df['Plant Code'].astype(str)\n",
    "co2_df['Plant Code'].dtype\n",
    "\n",
    "\n",
    "co2_df"
   ]
  },
  {
   "cell_type": "code",
   "execution_count": null,
   "metadata": {},
   "outputs": [],
   "source": []
  },
  {
   "cell_type": "code",
   "execution_count": null,
   "metadata": {},
   "outputs": [],
   "source": []
  },
  {
   "cell_type": "code",
   "execution_count": null,
   "metadata": {},
   "outputs": [],
   "source": []
  },
  {
   "cell_type": "code",
   "execution_count": null,
   "metadata": {},
   "outputs": [],
   "source": []
  },
  {
   "cell_type": "code",
   "execution_count": null,
   "metadata": {
    "scrolled": false
   },
   "outputs": [],
   "source": [
    "# Merging Emmision with Power Plant Map data\n",
    "# Give us addresses (State, Cities, Coordinates) for each PPE and Datas about CO2 emmission, fuel consumption and electricity generation\n",
    "# for the Fossil type of PPE\n",
    "\n",
    "merge_data_df = pd.merge(co2_df,power_plant_brief_df, on=[\"Plant Code\"])\n",
    "merge_data_df"
   ]
  },
  {
   "cell_type": "code",
   "execution_count": null,
   "metadata": {
    "scrolled": true
   },
   "outputs": [],
   "source": [
    "# Group by 'Plant Code' and fuel type \"Aggregated Fuel Group\"\n",
    "group_co2_df = co2_df.groupby([\"Plant Code\",\"Aggregated Fuel Group\"])\n",
    "\n",
    "\n",
    "sum_emission = group_co2_df['Tons of CO2 Emissions'].sum()\n",
    "sum_fuel_consumption = group_co2_df['Fuel Consumption for Electric Generation (MMBtu)'].sum()\n",
    "sum_generation = group_co2_df['Generation (kWh)'].sum()\n",
    "\n",
    "#pd.set_option('display.max_rows', sum_emission.shape[0]+1)\n",
    "#sum_emission\n",
    "\n",
    "sum_emission_df = pd.DataFrame({    \"Total of Tons of CO2 Emissions by fuel type\": sum_emission, \n",
    "                                      \"Total of Fuel Consumption for Electric Generation (MMBtu)\": sum_fuel_consumption,\n",
    "                                      \"Total of Generation (kWh)\": sum_generation})\n",
    "#Addition Index column to DataFrame\n",
    "sum_emission_df = sum_emission_df.reset_index()\n",
    "sum_emission_df"
   ]
  },
  {
   "cell_type": "code",
   "execution_count": null,
   "metadata": {},
   "outputs": [],
   "source": [
    "# Merging Emmision with Power Plant Map data\n",
    "# Give us addresses (State, Cities, Coordinates) for each PPE and Datas about CO2 emmission, fuel consumption and electricity generation\n",
    "# for the Fossil type of PPE\n",
    "\n",
    "merge_data_df_2 = pd.merge(sum_emission_df,merg_power_plant_city_population_df, on=[\"Plant Code\"])\n",
    "merge_data_df_2"
   ]
  },
  {
   "cell_type": "code",
   "execution_count": null,
   "metadata": {},
   "outputs": [],
   "source": [
    "# Export file as a CSV, without the Pandas index, but with the header\n",
    "merge_data_df_2.to_csv(\"data/co2_nvk.csv\", index=False, header=True)"
   ]
  },
  {
   "cell_type": "code",
   "execution_count": null,
   "metadata": {},
   "outputs": [],
   "source": [
    "#group_by_city = merge_data_df_2.groupby(['CITY','STATE'])\n",
    "\n",
    "#Group by City\n",
    "group_by_city = merge_data_df_2.groupby(['CITY','STATE'])\n",
    "\n",
    "#CO2 emission in the specific City by Fossil Power Plants\n",
    "co2_emission_city = group_by_city[\"Total of Tons of CO2 Emissions by fuel type\"].sum()\n",
    "\n",
    "#total_purchase_value\n",
    "fuel_consumption_city = group_by_city[\"Total of Fuel Consumption for Electric Generation (MMBtu)\"].sum()\n",
    "\n",
    "#total_purchase_value\n",
    "e_generation_city = group_by_city[\"Total of Generation (kWh)\"].sum()\n",
    "\n",
    "#population in City\n",
    "city_population = group_by_city[\"Population\"].mean()\n",
    "\n",
    "#avg_total_purchase_per_person\n",
    "#avg_total_purchase_per_person_gender = total_purchase_gender / gender_count \n",
    "\n",
    "# #Display the summary data frame\n",
    "finale_emission_city = pd.DataFrame({\"CO2 Emission in the City (tons)\": co2_emission_city,\n",
    "                                     \"Fuel Consumption in the City (MMBtu)\": fuel_consumption_city,\n",
    "                                      \"Energy Generated in the City (kWh)\": e_generation_city,\n",
    "                                      \"Population\": city_population})\n",
    "\n",
    "finale_emission_city_sort = finale_emission_city.sort_values(by=['CO2 Emission in the City (tons)'], ascending=False)\n",
    "\n",
    "#Addition Index column to DataFrame\n",
    "finale_emission_city_sort = finale_emission_city_sort.reset_index()\n",
    "finale_emission_city_sort\n"
   ]
  },
  {
   "cell_type": "code",
   "execution_count": null,
   "metadata": {},
   "outputs": [],
   "source": [
    "#Bar CHart Plotting\n",
    "ax = finale_emission_city_sort.iloc[0:20].plot.bar(x='CITY', y='CO2 Emission in the City (tons)', rot=90)\n",
    "\n",
    "ax2 = finale_emission_city_sort.iloc[0:20].plot.bar(x='CITY', y='Population', rot=90)"
   ]
  },
  {
   "cell_type": "code",
   "execution_count": null,
   "metadata": {},
   "outputs": [],
   "source": []
  },
  {
   "cell_type": "markdown",
   "metadata": {},
   "source": [
    "# I. Temperature Map"
   ]
  },
  {
   "cell_type": "code",
   "execution_count": null,
   "metadata": {},
   "outputs": [],
   "source": [
    "# https://www.kaggle.com/berkeleyearth/climate-change-earth-surface-temperature-data"
   ]
  },
  {
   "cell_type": "code",
   "execution_count": null,
   "metadata": {},
   "outputs": [],
   "source": [
    "# csv file variable assignments\n",
    "temp_by_city_path = \"data/GlobalLandTemperaturesByCity.csv\"\n",
    "\n",
    "# Import csv files as dataframes\n",
    "temp_by_city_df = pd.read_csv(temp_by_city_path)\n",
    "#google_rdf = pd.read_csv(google_path, encoding=\"ANSI\")\n",
    "#nyt_rdf = pd.read_csv(nyt_path, encoding=\"ISO-8859-1\")\n",
    "\n",
    "#goodreads_rdf.head()\n",
    "#google_rdf.head()\n",
    "temp_by_city_df"
   ]
  },
  {
   "cell_type": "code",
   "execution_count": null,
   "metadata": {},
   "outputs": [],
   "source": [
    "#Removing ROWs with Nan data\n",
    "temp_by_city_df_new = temp_by_city_df.dropna()\n",
    "temp_by_city_df_new"
   ]
  },
  {
   "cell_type": "code",
   "execution_count": null,
   "metadata": {},
   "outputs": [],
   "source": [
    "# Export file as a CSV, without the Pandas index, but with the header\n",
    "temp_by_city_df_new.to_csv(\"data/temp_nvk.csv\", index=False, header=True)"
   ]
  },
  {
   "cell_type": "code",
   "execution_count": null,
   "metadata": {},
   "outputs": [],
   "source": []
  },
  {
   "cell_type": "markdown",
   "metadata": {},
   "source": [
    "# I.I. Whole world Temperature vs Latitude/Longitude"
   ]
  },
  {
   "cell_type": "code",
   "execution_count": null,
   "metadata": {},
   "outputs": [],
   "source": []
  },
  {
   "cell_type": "code",
   "execution_count": null,
   "metadata": {
    "scrolled": false
   },
   "outputs": [],
   "source": [
    "#Year extracting to separate column\n",
    "temp_by_city_df_new['Year'] = pd.DatetimeIndex(temp_by_city_df_new['dt']).year\n",
    "\n",
    "temp_by_city_df_new.head(3)"
   ]
  },
  {
   "cell_type": "code",
   "execution_count": null,
   "metadata": {},
   "outputs": [],
   "source": [
    "# Data for last 20 years only\n",
    "all_cities_years_20 = temp_by_city_df_new.loc[temp_by_city_df_new[\"Year\"]>=1993]\n",
    "#us_cities_years_20\n",
    "\n",
    "#Group by year\n",
    "all_cities_years_20 = all_cities_years_20.groupby([\"City\",\"Year\",\"Latitude\",\"Longitude\"])\n",
    "all_cities_years_20 = all_cities_years_20[\"AverageTemperature\"].mean()\n",
    "#lat_city = us_cities_years_20_group[\"My_Lat\"].mean()\n",
    "#long_city = us_cities_years_20_group[\"My_Long\"].mean()\n",
    "\n",
    "all_cities_years_20 = pd.DataFrame({\"avg_temp_year\": all_cities_years_20}).reset_index()\n",
    "all_cities_years_20.head(3)"
   ]
  },
  {
   "cell_type": "code",
   "execution_count": null,
   "metadata": {},
   "outputs": [],
   "source": [
    "# Temp difference between years\n",
    "all_cities_years_20['temp_diff_df'] =  all_cities_years_20[\"avg_temp_year\"].diff()\n",
    "all_cities_years_20_clean = all_cities_years_20.dropna()\n",
    "\n",
    "all_cities_years_20_clean"
   ]
  },
  {
   "cell_type": "code",
   "execution_count": null,
   "metadata": {},
   "outputs": [],
   "source": [
    "#Long and Lat Conversion\n",
    "all_cities_years_20_clean[\"New_Lat\"]=all_cities_years_20_clean.Latitude.str.extract(r'(\\d+.\\d+)').astype('float')\n",
    "#us_temp_city[\"New_Lat_Hemisphere\"] = us_temp_city['Latitude'].str.strip().str[-1]\n",
    "all_cities_years_20_clean.loc[all_cities_years_20_clean['Latitude'].str.strip().str[-1] == \"N\", 'My_Lat'] = all_cities_years_20_clean[\"New_Lat\"]*1\n",
    "all_cities_years_20_clean.loc[all_cities_years_20_clean['Latitude'].str.strip().str[-1] == \"S\", 'My_Lat'] = all_cities_years_20_clean[\"New_Lat\"]*(-1)\n",
    "\n",
    "all_cities_years_20_clean[\"New_Long\"]=all_cities_years_20.Longitude.str.extract(r'(\\d+.\\d+)').astype('float')\n",
    "#us_temp_city[\"New_Long_Hemisphere\"] = us_temp_city['Longitude'].str.strip().str[-1]\n",
    "all_cities_years_20_clean.loc[all_cities_years_20_clean['Longitude'].str.strip().str[-1] == \"E\", 'My_Long'] = all_cities_years_20_clean[\"New_Long\"]*1\n",
    "all_cities_years_20_clean.loc[all_cities_years_20_clean['Longitude'].str.strip().str[-1] == \"W\", 'My_Long'] = all_cities_years_20_clean[\"New_Long\"]*(-1)\n",
    "\n",
    "all_cities_drop = all_cities_years_20_clean.drop(columns=[\"New_Long\", \"New_Lat\", \"Latitude\", \"Longitude\"])\n",
    "\n",
    "all_cities_drop.head(3)"
   ]
  },
  {
   "cell_type": "code",
   "execution_count": null,
   "metadata": {},
   "outputs": [],
   "source": [
    "#Avrg of temp_diff_df per City\n",
    "avrg_temp_diff_for_20years_group = all_cities_drop.groupby([\"City\"])\n",
    "avrg_temp_diff_for_20years = avrg_temp_diff_for_20years_group[\"temp_diff_df\"].mean()\n",
    "lat_city = avrg_temp_diff_for_20years_group[\"My_Lat\"].mean()\n",
    "long_city = avrg_temp_diff_for_20years_group[\"My_Long\"].mean()\n",
    "avrg_temp_diff_for_20years_df = pd.DataFrame({\"avrg_temp_diff_for_20years\": avrg_temp_diff_for_20years,\n",
    "                                             \"Latitude\": lat_city,\n",
    "                                         \"Longitude\": long_city}).reset_index()\n",
    "avrg_temp_diff_for_20years_df"
   ]
  },
  {
   "cell_type": "code",
   "execution_count": null,
   "metadata": {
    "scrolled": true
   },
   "outputs": [],
   "source": [
    "#Latitude vs Temp. Changes\n",
    "plt.scatter(avrg_temp_diff_for_20years_df['Latitude'],avrg_temp_diff_for_20years_df['avrg_temp_diff_for_20years'],color = 'blue',s=20, facecolor = \"steelblue\", edgecolor = \"black\")\n",
    "plt.title('City Latitude vs. Diff Temperature (C)',fontsize=(14));\n",
    "#plt.xlim(-60,90)\n",
    "plt.ylabel('avrg_temp_diff_for_20years (C)',fontsize=(12));\n",
    "plt.xlabel('Latitude',fontsize=(12));\n",
    "\n",
    "# Save the plotted figure as .pngs\n",
    "#plt.savefig(\"Images/City_Latitude_vs_Max_Temperature.png\")\n",
    "\n",
    "plt.show()"
   ]
  },
  {
   "cell_type": "code",
   "execution_count": null,
   "metadata": {},
   "outputs": [],
   "source": [
    "#Longitude vs Temp. Changes\n",
    "plt.scatter(avrg_temp_diff_for_20years_df['Longitude'],avrg_temp_diff_for_20years_df['avrg_temp_diff_for_20years'],color = 'blue',s=20, facecolor = \"steelblue\", edgecolor = \"black\")\n",
    "plt.title('City Longitude vs. Diff Temperature (C)',fontsize=(14));\n",
    "#plt.xlim(-60,90)\n",
    "plt.ylabel('avrg_temp_diff_for_20years (C)',fontsize=(12));\n",
    "plt.xlabel('Longitude',fontsize=(12));\n",
    "\n",
    "# Save the plotted figure as .pngs\n",
    "#plt.savefig(\"Images/City_Latitude_vs_Max_Temperature.png\")\n",
    "\n",
    "plt.show()"
   ]
  },
  {
   "cell_type": "markdown",
   "metadata": {},
   "source": [
    "# I.II. USA Only"
   ]
  },
  {
   "cell_type": "code",
   "execution_count": null,
   "metadata": {
    "scrolled": false
   },
   "outputs": [],
   "source": [
    "us_temp_city = temp_by_city_df_new.loc[temp_by_city_df_new[\"Country\"]==\"United States\"]\n",
    "\n",
    "#Year extracting to separate column\n",
    "#us_temp_city['Year'] = pd.DatetimeIndex(us_temp_city['dt']).year\n",
    "\n",
    "us_temp_city.head(3)"
   ]
  },
  {
   "cell_type": "code",
   "execution_count": null,
   "metadata": {},
   "outputs": [],
   "source": [
    "#Long and Lat Conversion\n",
    "us_temp_city[\"New_Lat\"]=us_temp_city.Latitude.str.extract(r'(\\d+.\\d+)').astype('float')\n",
    "#us_temp_city[\"New_Lat_Hemisphere\"] = us_temp_city['Latitude'].str.strip().str[-1]\n",
    "us_temp_city.loc[us_temp_city['Latitude'].str.strip().str[-1] == \"N\", 'My_Lat'] = us_temp_city[\"New_Lat\"]*1\n",
    "us_temp_city.loc[us_temp_city['Latitude'].str.strip().str[-1] == \"S\", 'My_Lat'] = us_temp_city[\"New_Lat\"]*(-1)\n",
    "\n",
    "us_temp_city[\"New_Long\"]=us_temp_city.Longitude.str.extract(r'(\\d+.\\d+)').astype('float')\n",
    "#us_temp_city[\"New_Long_Hemisphere\"] = us_temp_city['Longitude'].str.strip().str[-1]\n",
    "us_temp_city.loc[us_temp_city['Longitude'].str.strip().str[-1] == \"E\", 'My_Long'] = us_temp_city[\"New_Long\"]*1\n",
    "us_temp_city.loc[us_temp_city['Longitude'].str.strip().str[-1] == \"W\", 'My_Long'] = us_temp_city[\"New_Long\"]*(-1)\n",
    "\n",
    "us_temp_city_coords = us_temp_city.drop(columns=[\"New_Long\", \"New_Lat\", \"Latitude\", \"Longitude\"])\n",
    "\n",
    "us_temp_city_coords"
   ]
  },
  {
   "cell_type": "code",
   "execution_count": null,
   "metadata": {},
   "outputs": [],
   "source": [
    "# Data for last 20 years only\n",
    "us_cities_years_20 = us_temp_city_coords.loc[us_temp_city[\"Year\"]>=1993]\n",
    "#us_cities_years_20\n",
    "\n",
    "#Group by year\n",
    "us_cities_years_20_group = us_cities_years_20.groupby([\"City\",\"Year\",\"My_Lat\",\"My_Long\"])\n",
    "avg_temp_by_year_city = us_cities_years_20_group[\"AverageTemperature\"].mean()\n",
    "#lat_city = us_cities_years_20_group[\"My_Lat\"].mean()\n",
    "#long_city = us_cities_years_20_group[\"My_Long\"].mean()\n",
    "\n",
    "avg_temp_by_year_city_df = pd.DataFrame({\"avg_temp_year\": avg_temp_by_year_city}).reset_index()\n",
    "avg_temp_by_year_city_df\n"
   ]
  },
  {
   "cell_type": "code",
   "execution_count": null,
   "metadata": {},
   "outputs": [],
   "source": [
    "# Export file as a CSV, without the Pandas index, but with the header\n",
    "avg_temp_by_year_city_df.to_csv(\"data/temp_usa_nvk.csv\", index=False, header=True)"
   ]
  },
  {
   "cell_type": "code",
   "execution_count": null,
   "metadata": {},
   "outputs": [],
   "source": [
    "avg_temp_by_year_city_df['temp_diff_df'] =  avg_temp_by_year_city_df[\"avg_temp_year\"].diff()\n",
    "avg_temp_by_year_city_df.dropna()"
   ]
  },
  {
   "cell_type": "code",
   "execution_count": null,
   "metadata": {},
   "outputs": [],
   "source": [
    "avrg_temp_diff_for_20years_group = avg_temp_by_year_city_df.groupby([\"City\"])\n",
    "avrg_temp_diff_for_20years = avrg_temp_diff_for_20years_group[\"temp_diff_df\"].mean()\n",
    "lat_city = avrg_temp_diff_for_20years_group[\"My_Lat\"].mean()\n",
    "long_city = avrg_temp_diff_for_20years_group[\"My_Long\"].mean()\n",
    "avrg_temp_diff_for_20years_df = pd.DataFrame({\"avrg_temp_diff_for_20years\": avrg_temp_diff_for_20years,\n",
    "                                             \"Latitude\": lat_city,\n",
    "                                         \"Longitude\": long_city}).reset_index()\n",
    "avrg_temp_diff_for_20years_df"
   ]
  },
  {
   "cell_type": "code",
   "execution_count": null,
   "metadata": {
    "scrolled": true
   },
   "outputs": [],
   "source": [
    "#Latitude vs Temp. Changes\n",
    "plt.scatter(avrg_temp_diff_for_20years_df['Longitude'],avrg_temp_diff_for_20years_df['avrg_temp_diff_for_20years'],color = 'blue',s=20, facecolor = \"steelblue\", edgecolor = \"black\")\n",
    "plt.title('City Latitude vs. Diff Temperature (C)',fontsize=(14));\n",
    "#plt.xlim(-60,90)\n",
    "plt.ylabel('avrg_temp_diff_for_20years (C)',fontsize=(12));\n",
    "plt.xlabel('Latitude',fontsize=(12));\n",
    "\n",
    "# Save the plotted figure as .pngs\n",
    "#plt.savefig(\"Images/City_Latitude_vs_Max_Temperature.png\")\n",
    "\n",
    "plt.show()"
   ]
  },
  {
   "cell_type": "code",
   "execution_count": null,
   "metadata": {},
   "outputs": [],
   "source": []
  },
  {
   "cell_type": "code",
   "execution_count": null,
   "metadata": {},
   "outputs": [],
   "source": [
    "!pip install geopy"
   ]
  },
  {
   "cell_type": "code",
   "execution_count": null,
   "metadata": {},
   "outputs": [],
   "source": [
    "from geopy.geocoders import Nominatim\n",
    "geolocator = Nominatim(user_agent=\"geoapiExercises\")"
   ]
  },
  {
   "cell_type": "code",
   "execution_count": null,
   "metadata": {},
   "outputs": [],
   "source": [
    "# Latitude & Longitude input \n",
    "Latitude = \"32.95\"\n",
    "Longitude = \"-100.53\"\n",
    "  \n",
    "location = geolocator.reverse(Latitude+\",\"+Longitude) \n",
    "  \n",
    "# Display \n",
    "print(location)\n",
    "address = location.raw['address'] \n",
    "\n",
    "#city = address.get('city', '') \n",
    "state = address.get('state', '') \n",
    "#country = address.get('country', '') \n",
    "#code = address.get('country_code') \n",
    "#zipcode = address.get('postcode') \n",
    "#print('City : ',city) \n",
    "print('State : ',state) \n",
    "#print('Country : ',country) \n",
    "#print('Zip Code : ', zipcode) "
   ]
  },
  {
   "cell_type": "code",
   "execution_count": null,
   "metadata": {},
   "outputs": [],
   "source": [
    "Latitude = avrg_temp_diff_for_20years_df[\"Longitude\"].to_numpy()\n",
    "Latitude[6]"
   ]
  },
  {
   "cell_type": "code",
   "execution_count": null,
   "metadata": {
    "scrolled": false
   },
   "outputs": [],
   "source": [
    "# Latitude & Longitude input \n",
    "#Latitude = \"32.95\"\n",
    "#Longitude = \"-100.53\"\n",
    "Latitude = avrg_temp_diff_for_20years_df[\"Latitude\"].to_numpy()\n",
    "Longitude = avrg_temp_diff_for_20years_df[\"Longitude\"].to_numpy()\n",
    "\n",
    "#State list\n",
    "state_list = []\n",
    "\n",
    "\n",
    "for i in range(len(Latitude)):\n",
    "    try:\n",
    "        lat = str(Latitude[i])\n",
    "        lon = str(Longitude[i])\n",
    "        print(lon,lat)\n",
    "    #location = geolocator.reverse(lat+\",\"+lon)\n",
    "    #print(location)\n",
    "    #address = location.raw['address']\n",
    "        state = geolocator.reverse(lat+\",\"+lon).raw['address'].get('state')\n",
    "    #state = address.get('state')\n",
    "        print(\"State: \", state)  \n",
    "        state_list.append(state)\n",
    "    except:\n",
    "        state_list.append(np.nan)\n",
    "        \n",
    "        print(\"State not found. Skipping\")\n",
    "        pass\n",
    "\n",
    "print(state_list)\n",
    "\n",
    "\n",
    " "
   ]
  },
  {
   "cell_type": "code",
   "execution_count": null,
   "metadata": {},
   "outputs": [],
   "source": [
    "#state_list_df = pd.DataFrame({\"State\": state_list})\n",
    "\n",
    "#Adding values to DataFrame\n",
    "avrg_temp_diff_for_20years_df.insert(4, \"State\", state_list, True)\n",
    "avrg_temp_diff_for_20years_df.dropna()\n",
    "avrg_temp_diff_for_20years_df\n"
   ]
  },
  {
   "cell_type": "code",
   "execution_count": null,
   "metadata": {},
   "outputs": [],
   "source": [
    "avrg_temp_diff_for_20years_df"
   ]
  },
  {
   "cell_type": "code",
   "execution_count": null,
   "metadata": {},
   "outputs": [],
   "source": []
  },
  {
   "cell_type": "code",
   "execution_count": null,
   "metadata": {},
   "outputs": [],
   "source": []
  },
  {
   "cell_type": "code",
   "execution_count": null,
   "metadata": {},
   "outputs": [],
   "source": [
    "\n",
    "merge_city_coords_temp_ppeType = pd.merge(list_city_df,avrg_temp_diff_for_20years_df, on=[\"City\",\"State\"])\n",
    "merge_city_coords_temp_ppeType\n",
    "\n",
    "\n"
   ]
  },
  {
   "cell_type": "code",
   "execution_count": null,
   "metadata": {
    "scrolled": true
   },
   "outputs": [],
   "source": [
    "groups = merge_city_coords_temp_ppeType.groupby(\"TYPE_Clear3\")\n",
    "for name, group in groups:\n",
    "    plt.plot(group[\"Population\"], group[\"avrg_temp_diff_for_20years\"], marker=\"o\", linestyle=\"\", label=name)\n",
    "\n",
    "plt.legend()"
   ]
  },
  {
   "cell_type": "code",
   "execution_count": null,
   "metadata": {},
   "outputs": [],
   "source": [
    "groups = merge_city_coords_temp_ppeType.groupby(\"TYPE_Clear3\")\n",
    "for name, group in groups:\n",
    "    plt.plot(group[\"Latitude\"], group[\"avrg_temp_diff_for_20years\"], marker=\"o\", linestyle=\"\", label=name)\n",
    "\n",
    "plt.legend()"
   ]
  },
  {
   "cell_type": "code",
   "execution_count": null,
   "metadata": {},
   "outputs": [],
   "source": [
    "groups = merge_city_coords_temp_ppeType.groupby(\"TYPE_Clear3\")\n",
    "for name, group in groups:\n",
    "    plt.plot(group[\"Longitude\"], group[\"avrg_temp_diff_for_20years\"], marker=\"o\", linestyle=\"\", label=name)\n",
    "\n",
    "plt.legend()"
   ]
  },
  {
   "cell_type": "code",
   "execution_count": null,
   "metadata": {},
   "outputs": [],
   "source": [
    "\n",
    "# Export file as a CSV, without the Pandas index, but with the header\n",
    "merge_city_coords_temp_ppeType.to_csv(\"avrg_tem_long_lat/avrg_tem_long_lat.csv\", index=False, header=True)"
   ]
  },
  {
   "cell_type": "code",
   "execution_count": null,
   "metadata": {},
   "outputs": [],
   "source": []
  },
  {
   "cell_type": "code",
   "execution_count": null,
   "metadata": {},
   "outputs": [],
   "source": [
    "\n",
    "y_axis = merge_city_coords_temp_ppeType.loc[merge_city_coords_temp_ppeType[\"avrg_temp_diff_for_20years\"]==\"FOSSIL\"]\n",
    "\n",
    "fossil = plt.scatter(merge_city_coords_temp_ppeType['Latitude'],merge_city_coords_temp_ppeType['avrg_temp_diff_for_20years'],color = 'blue',s=20, facecolor = \"steelblue\", edgecolor = \"black\")\n",
    "plt.title('City Latitude vs. Diff Temperature (C)',fontsize=(14));\n",
    "#plt.xlim(-60,90)\n",
    "plt.ylabel('avrg_temp_diff_for_20years (C)',fontsize=(12));\n",
    "plt.xlabel('Latitude',fontsize=(12));\n",
    "\n",
    "# Save the plotted figure as .pngs\n",
    "#plt.savefig(\"Images/City_Latitude_vs_Max_Temperature.png\")\n",
    "\n",
    "#plt.legend(handles=[fahrenheit], loc=\"best\")\n",
    "\n",
    "plt.show()\n",
    "\n"
   ]
  },
  {
   "cell_type": "code",
   "execution_count": null,
   "metadata": {},
   "outputs": [],
   "source": [
    "#y_axis = merge_city_coords_temp_ppeType.loc[merge_city_coords_temp_ppeType[\"avrg_temp_diff_for_20years\"]==\"WIND\"]\n",
    "fossil_df = merge_city_coords_temp_ppeType.groupby([\"TYPE_Clear3\"])\n",
    "\n",
    "\n",
    "\n",
    "solar = plt.scatter(merge_city_coords_temp_ppeType['Latitude'],merge_city_coords_temp_ppeType['avrg_temp_diff_for_20years'],color = 'blue',s=20, facecolor = \"steelblue\", edgecolor = \"black\")\n",
    "plt.title('City Latitude vs. Diff Temperature (C)',fontsize=(14));\n",
    "#plt.xlim(-60,90)\n",
    "plt.ylabel('avrg_temp_diff_for_20years (C)',fontsize=(12));\n",
    "plt.xlabel('Latitude',fontsize=(12));\n",
    "\n",
    "# Save the plotted figure as .pngs\n",
    "#plt.savefig(\"Images/City_Latitude_vs_Max_Temperature.png\")\n",
    "\n",
    "#plt.legend(handles=[fahrenheit], loc=\"best\")\n",
    "\n",
    "plt.show()"
   ]
  },
  {
   "cell_type": "code",
   "execution_count": null,
   "metadata": {},
   "outputs": [],
   "source": []
  }
 ],
 "metadata": {
  "kernelspec": {
   "display_name": "Python 3",
   "language": "python",
   "name": "python3"
  },
  "language_info": {
   "codemirror_mode": {
    "name": "ipython",
    "version": 3
   },
   "file_extension": ".py",
   "mimetype": "text/x-python",
   "name": "python",
   "nbconvert_exporter": "python",
   "pygments_lexer": "ipython3",
   "version": "3.8.3"
  }
 },
 "nbformat": 4,
 "nbformat_minor": 4
}
